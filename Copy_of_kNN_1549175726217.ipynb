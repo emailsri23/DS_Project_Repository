{
  "nbformat": 4,
  "nbformat_minor": 0,
  "metadata": {
    "colab": {
      "name": "Copy of kNN-1549175726217.ipynb",
      "provenance": [],
      "collapsed_sections": [
        "wypyzmvDNqx-",
        "4bTclVzyNqyE",
        "PNtpO-KFNqyL",
        "8HNaqhAtNqyT",
        "1tgDTwQFNqyU",
        "kcUEfn71NqyX",
        "EKD56sG7NqyY",
        "GLxJBFqpNqyY",
        "n_WtRex-NqyZ",
        "b8SQkwFxNqy-",
        "YvHlm0reNq0I",
        "Hf6d7N9PNq0K",
        "J8y_4CuNNq0M",
        "we86ciJQNq0O",
        "v5DgSrI9Nq0R",
        "DTJgyl5xNq0U",
        "mXmo8U2iNq0W",
        "uLHGSQz7Nq0X",
        "YLipl5UqNq0Z",
        "Za7oOpvrNq0e"
      ],
      "include_colab_link": true
    },
    "language_info": {
      "codemirror_mode": {
        "name": "ipython",
        "version": 3
      },
      "file_extension": ".py",
      "mimetype": "text/x-python",
      "name": "python",
      "nbconvert_exporter": "python",
      "pygments_lexer": "ipython3",
      "version": "3.6.3"
    },
    "kernelspec": {
      "display_name": "Python 3",
      "language": "python",
      "name": "python3"
    }
  },
  "cells": [
    {
      "cell_type": "markdown",
      "metadata": {
        "id": "view-in-github",
        "colab_type": "text"
      },
      "source": [
        "<a href=\"https://colab.research.google.com/github/emailsri23/DS_Project_Repository/blob/master/Copy_of_kNN_1549175726217.ipynb\" target=\"_parent\"><img src=\"https://colab.research.google.com/assets/colab-badge.svg\" alt=\"Open In Colab\"/></a>"
      ]
    },
    {
      "cell_type": "markdown",
      "metadata": {
        "id": "FMbQGa_fNqxK",
        "colab_type": "text"
      },
      "source": [
        "<img src=\"https://github.com/insaid2018/Term-1/blob/master/Images/INSAID_Full%20Logo.png?raw=true\" width=\"240\" height=\"360\" />\n",
        "\n",
        "# K - Nearest Neighbour"
      ]
    },
    {
      "cell_type": "markdown",
      "metadata": {
        "id": "CJL50qlmNqxP",
        "colab_type": "text"
      },
      "source": [
        "## Table of Content\n",
        "\n",
        "1. [Introduction to K - Nearest Neighbour](#section1)<br>\n",
        "    - 1.1 [When do we use KNN algorithm?](#section101)<br>\n",
        "        - 1.1.1 [KNN for Regression](#section102)<br>\n",
        "        - 1.1.2 [KNN for Classification](#section103)<br>\n",
        "    - 1.2 [How does the KNN algorithm work?](#section104)<br>\n",
        "    - 1.3 [Maths behind KNN slgorithm](#section105)<br>\n",
        "        - 1.3.1 [Explanation using Real life scenario](#section106)<br>\n",
        "    - 1.4 [How do we choose the factor K?](#section107)<br>\n",
        "    - 1.5 [Curse of Dimensionality](#section108)<br>\n",
        "    - 1.6 [KNN Disciplines](#section109)<br>\n",
        "    - 1.7 [Breaking it dowm - Pseudo Code of KNN](#section110)<br>\n",
        "2. [Use Case - Glass Classification](#section2)<br>\n",
        "3. [Dataset (source, loading and description)](#section3)<br>\n",
        "4. [Data Visualization](#section4)<br>\n",
        "5. [Data Standardization](#section5)<br>\n",
        "6. [Train test split](#section6)<br>\n",
        "7. [Modelling and prediction](#section7)<br>\n",
        "8. [Model Comparison](#section8)\n",
        "9. [Implementing KNN Regressor on iris dataset](#section9)"
      ]
    },
    {
      "cell_type": "markdown",
      "metadata": {
        "id": "_4wH4gq4NqxU",
        "colab_type": "text"
      },
      "source": [
        "<a id=section1></a>"
      ]
    },
    {
      "cell_type": "markdown",
      "metadata": {
        "id": "KbZbAEkKNqxZ",
        "colab_type": "text"
      },
      "source": [
        "## 1. Introduction to K - Nearest neighbour"
      ]
    },
    {
      "cell_type": "markdown",
      "metadata": {
        "id": "Vmg_qtiBNqxd",
        "colab_type": "text"
      },
      "source": [
        "K-Nearest Neighbours is one of the most __basic yet essential classification algorithms__ in Machine Learning. It belongs to the __supervised learning__ domain and finds intense application in __pattern recognition__, __data mining__ and __intrusion detection__.\n",
        "\n",
        "It is widely disposable in real-life scenarios since it is non-parametric, meaning, it __does not make__ any __underlying assumptions__ about the distribution of data.\n",
        "\n",
        "- __Supervised learning__, in the context machine learning, is a type of system in which both __input__ and __desired output__ data are provided. Input and output data are __labelled for classification__ to provide a learning basis for future data processing.\n",
        "<img src=\"https://raw.githubusercontent.com/insaid2018/Term-3/master/Images/download.png\"/>"
      ]
    },
    {
      "cell_type": "markdown",
      "metadata": {
        "id": "rVKb-bHDNqxf",
        "colab_type": "text"
      },
      "source": [
        "<a id=section101></a>"
      ]
    },
    {
      "cell_type": "markdown",
      "metadata": {
        "id": "TDTFOPe9Nqxh",
        "colab_type": "text"
      },
      "source": [
        "## 1.1 When do we use KNN algorithm?"
      ]
    },
    {
      "cell_type": "markdown",
      "metadata": {
        "id": "vGnHDWyqNqxk",
        "colab_type": "text"
      },
      "source": [
        "KNN can be used for both __classification and regression__ predictive problems. However, it is more widely used in classification problems in the industry. To evaluate any technique we generally look at __3 important aspects__:\n",
        "\n",
        "1. Ease to interpret output\n",
        "\n",
        "2. Calculation time\n",
        "\n",
        "3. Predictive Power\n",
        "\n",
        "Let us take a few examples to  place KNN on the scale of 3 :<img src=\"https://raw.githubusercontent.com/insaid2018/Term-3/master/Images/download%20(1).png\" />\n",
        "\n",
        "\n",
        "Model comparison KNN algorithm fairs across all parameters of considerations. It is commonly used for its __ease of interpretation__ and __low calculation time__. It is applicable for smaller datasets."
      ]
    },
    {
      "cell_type": "markdown",
      "metadata": {
        "id": "rXPwkjgZNqxo",
        "colab_type": "text"
      },
      "source": [
        "<a id=section102></a>\n",
        "### 1.1.1 KNN for Regression\n",
        "When KNN is used for regression problems the _prediction is based on the __mean or the median__ of the K-most similar instances_.<img src=\"https://raw.githubusercontent.com/insaid2018/Term-3/master/Images/download%20(2).png\" />\n"
      ]
    },
    {
      "cell_type": "markdown",
      "metadata": {
        "id": "p8pZC8UyNqxr",
        "colab_type": "text"
      },
      "source": [
        "<a id=section103></a>\n",
        "### 1.1.2 KNN for Classification\n",
        "When KNN is used for classification, the output can be calculated as the __class with the highest frequency__ from the __K-most similar instances__. Each instance in essence __votes for their class and the class with the most votes is taken as the prediction__.\n",
        "\n",
        "Class probabilities can be calculated as the normalized frequency of samples that belong to each class in the set of K most similar instances for a new data instance. For example, in a binary classification problem (class is 0 or 1):\n",
        "\n",
        "p(class=0) = count(class=0) / (count(class=0)+count(class=1))\n",
        "\n",
        "If you are using K and you have an even number of classes (e.g. 2) it is a good idea to choose a K value with an odd number to avoid a tie. And the inverse, use an even number for K when you have an odd number of classes.\n",
        "<img src=\"https://raw.githubusercontent.com/insaid2018/Term-3/master/Images/download%20(3).png\" />"
      ]
    },
    {
      "cell_type": "markdown",
      "metadata": {
        "id": "J7LtO0AFNqxt",
        "colab_type": "text"
      },
      "source": [
        "<a id=section104></a>"
      ]
    },
    {
      "cell_type": "markdown",
      "metadata": {
        "id": "isUH42tVNqxt",
        "colab_type": "text"
      },
      "source": [
        "## 1.2 How does the KNN algorithm work?\n",
        "#### Also refer to the _excel sheet_."
      ]
    },
    {
      "cell_type": "markdown",
      "metadata": {
        "id": "JnNZA3kcNqxu",
        "colab_type": "text"
      },
      "source": [
        "Let’s take a simple case to understand this algorithm. Following is a __spread of red circles (RC) and green squares (GS)__ :<img src=\"https://raw.githubusercontent.com/insaid2018/Term-3/master/Images/download%20(4).png\" />\n",
        "\n",
        "We intend to find out the __class of the blue star (BS)__ . BS can either be RC or GS and nothing else. The __“K”__ in KNN algorithm is the nearest neighbors we wish to take vote from. __Let’s say K = 3__. Hence, _we will now make a circle with BS as center just as big as to __enclose only three datapoints__ on the plane_. Refer to following diagram for more details:\n",
        "<img src=\"https://raw.githubusercontent.com/insaid2018/Term-3/master/Images/download%20(5).png\" />\n",
        "\n",
        "The _three closest points to BS_ is __all RC__. Hence, with __good confidence level__ we can say that the _BS should belong to the class RC_. Here, the __choice became very obvious__ as _all three votes from the closest neighbor went to RC_. The choice of the parameter K is very crucial in this algorithm.    "
      ]
    },
    {
      "cell_type": "markdown",
      "metadata": {
        "id": "hxd-AxJiNqxy",
        "colab_type": "text"
      },
      "source": [
        "<a id=section105></a>"
      ]
    },
    {
      "cell_type": "markdown",
      "metadata": {
        "id": "MEHGuQqrNqx4",
        "colab_type": "text"
      },
      "source": [
        "## 1.3 Maths behind KNN algorithm"
      ]
    },
    {
      "cell_type": "markdown",
      "metadata": {
        "id": "znhtyq0DNqx7",
        "colab_type": "text"
      },
      "source": [
        "<img src=\"https://raw.githubusercontent.com/insaid2018/Term-3/master/Images/download%20(6).png\" />\n",
        "\n",
        "- __Euclidian__ - The distance can be achieved as a __straight line__ between 2 points.\n",
        "- __Chebyshev__ - In this, __all adjacent 8 cells__ can be reached by __one unit__.\n",
        "- __Manhattan__ - The distance between two points is the __sum of the (absolute) differences of their coordinates__. E.g. it only costs __1 unit for a straight move__, but __2 if one wants to take a crossed move__."
      ]
    },
    {
      "cell_type": "markdown",
      "metadata": {
        "id": "wypyzmvDNqx-",
        "colab_type": "text"
      },
      "source": [
        "## We will see how distance is calculated between rows."
      ]
    },
    {
      "cell_type": "markdown",
      "metadata": {
        "id": "928757ZqNqx_",
        "colab_type": "text"
      },
      "source": [
        "<img src=\"https://raw.githubusercontent.com/insaid2018/Term-3/master/Images/1.PNG\" />"
      ]
    },
    {
      "cell_type": "markdown",
      "metadata": {
        "id": "9S1BUNSMNqyA",
        "colab_type": "text"
      },
      "source": [
        "."
      ]
    },
    {
      "cell_type": "markdown",
      "metadata": {
        "id": "egaHo0dVNqyB",
        "colab_type": "text"
      },
      "source": [
        "."
      ]
    },
    {
      "cell_type": "markdown",
      "metadata": {
        "id": "IwK7raKLNqyB",
        "colab_type": "text"
      },
      "source": [
        "."
      ]
    },
    {
      "cell_type": "markdown",
      "metadata": {
        "id": "gOZReNQENqyC",
        "colab_type": "text"
      },
      "source": [
        "."
      ]
    },
    {
      "cell_type": "markdown",
      "metadata": {
        "id": "0Dk0syGINqyD",
        "colab_type": "text"
      },
      "source": [
        "."
      ]
    },
    {
      "cell_type": "markdown",
      "metadata": {
        "id": "lnqOL8QnNqyD",
        "colab_type": "text"
      },
      "source": [
        "."
      ]
    },
    {
      "cell_type": "markdown",
      "metadata": {
        "id": "4bTclVzyNqyE",
        "colab_type": "text"
      },
      "source": [
        "### Bringing all the variables to a common scale."
      ]
    },
    {
      "cell_type": "markdown",
      "metadata": {
        "id": "FFg8kgRbNqyF",
        "colab_type": "text"
      },
      "source": [
        "<img src=\"https://raw.githubusercontent.com/insaid2018/Term-3/master/Images/2.PNG\" />"
      ]
    },
    {
      "cell_type": "markdown",
      "metadata": {
        "id": "bzR8Ax5BNqyG",
        "colab_type": "text"
      },
      "source": [
        "."
      ]
    },
    {
      "cell_type": "markdown",
      "metadata": {
        "id": "ob0v1IsONqyG",
        "colab_type": "text"
      },
      "source": [
        "."
      ]
    },
    {
      "cell_type": "markdown",
      "metadata": {
        "id": "ZGdPU99-NqyH",
        "colab_type": "text"
      },
      "source": [
        "."
      ]
    },
    {
      "cell_type": "markdown",
      "metadata": {
        "id": "VbvWtx8yNqyH",
        "colab_type": "text"
      },
      "source": [
        "."
      ]
    },
    {
      "cell_type": "markdown",
      "metadata": {
        "id": "MxavZdq_NqyJ",
        "colab_type": "text"
      },
      "source": [
        "."
      ]
    },
    {
      "cell_type": "markdown",
      "metadata": {
        "id": "nwJa4U_5NqyK",
        "colab_type": "text"
      },
      "source": [
        "."
      ]
    },
    {
      "cell_type": "markdown",
      "metadata": {
        "id": "O7y3B-Vh27F-",
        "colab_type": "text"
      },
      "source": [
        ""
      ]
    },
    {
      "cell_type": "markdown",
      "metadata": {
        "id": "PNtpO-KFNqyL",
        "colab_type": "text"
      },
      "source": [
        "### Calculating the distance using Eculidian Distance Formula"
      ]
    },
    {
      "cell_type": "markdown",
      "metadata": {
        "id": "Snj0FNTSNqyM",
        "colab_type": "text"
      },
      "source": [
        "<img src=\"https://raw.githubusercontent.com/insaid2018/Term-3/master/Images/4.jpg\" />"
      ]
    },
    {
      "cell_type": "markdown",
      "metadata": {
        "id": "pRTJyGWqNqyN",
        "colab_type": "text"
      },
      "source": [
        "<img src=\"https://raw.githubusercontent.com/insaid2018/Term-3/master/Images/5.PNG\" />"
      ]
    },
    {
      "cell_type": "markdown",
      "metadata": {
        "id": "8E6mrZYeNqyP",
        "colab_type": "text"
      },
      "source": [
        "."
      ]
    },
    {
      "cell_type": "markdown",
      "metadata": {
        "id": "TFx0ZR0fNqyQ",
        "colab_type": "text"
      },
      "source": [
        "."
      ]
    },
    {
      "cell_type": "markdown",
      "metadata": {
        "id": "ii_8D3yxNqyR",
        "colab_type": "text"
      },
      "source": [
        "."
      ]
    },
    {
      "cell_type": "markdown",
      "metadata": {
        "id": "LabEMYxhNqyR",
        "colab_type": "text"
      },
      "source": [
        "."
      ]
    },
    {
      "cell_type": "markdown",
      "metadata": {
        "id": "SHCckNKLNqyS",
        "colab_type": "text"
      },
      "source": [
        "."
      ]
    },
    {
      "cell_type": "markdown",
      "metadata": {
        "id": "6dG-jOLFNqyS",
        "colab_type": "text"
      },
      "source": [
        "<img src=\"https://raw.githubusercontent.com/insaid2018/Term-3/master/Images/6.PNG\" />"
      ]
    },
    {
      "cell_type": "markdown",
      "metadata": {
        "id": "8HNaqhAtNqyT",
        "colab_type": "text"
      },
      "source": [
        "<a id=section106></a>\n",
        "### 1.3.1 Explanation using real life scenario\n",
        "\n",
        "In chess, the distance between squares on the chessboard for \n",
        "- __Rooks__ is measured in __Manhattan distance__\n",
        "- __Kings and queens__ use __Chebyshev distance__\n",
        "- __Bishops__ use the __Manhattan distance__ (between squares of the same color) on the chessboard __rotated 45 degrees__, i.e., with its diagonals as coordinate axes. \n",
        "- On an empty board,\n",
        "- To reach from one square to another, __only kings require the number of moves equal to the distance__\n",
        "- Rooks, queens and bishops require one or two moves (assuming that the move is possible at all in the bishop’s case).<img src=\"https://raw.githubusercontent.com/insaid2018/Term-3/master/Images/download%20(7).png\" />"
      ]
    },
    {
      "cell_type": "markdown",
      "metadata": {
        "id": "mup3debbNqyU",
        "colab_type": "text"
      },
      "source": [
        "<a id=section107></a>"
      ]
    },
    {
      "cell_type": "markdown",
      "metadata": {
        "id": "1tgDTwQFNqyU",
        "colab_type": "text"
      },
      "source": [
        "## 1.4 How do we choose the factor K?"
      ]
    },
    {
      "cell_type": "markdown",
      "metadata": {
        "id": "tobz6Lb7NqyV",
        "colab_type": "text"
      },
      "source": [
        "__KNN__ classifies a data point based on __how its neighbors are classified__.\n",
        "<img src=\"https://raw.githubusercontent.com/insaid2018/Term-3/master/Images/download%20(8).png\" />\n",
        "The class of _unknown data point was different at __k=3__ but __changed at k=7__, so which k should we choose?_\n",
        "\n",
        "KNN Algorithm is based on __feature similarity__: Choosing the right value of k is a process called __parameter tuning__, and is important for __better accuracy__.\n",
        "\n",
        "Although, the __best way__ to choose the __value of K__ are:"
      ]
    },
    {
      "cell_type": "markdown",
      "metadata": {
        "id": "1-vjpa7bNqyW",
        "colab_type": "text"
      },
      "source": [
        "<img src=\"https://raw.githubusercontent.com/insaid2018/Term-3/master/Images/download%20(9).png\" />"
      ]
    },
    {
      "cell_type": "markdown",
      "metadata": {
        "id": "7t4LeLq1NqyW",
        "colab_type": "text"
      },
      "source": [
        "<a id=section108></a>"
      ]
    },
    {
      "cell_type": "markdown",
      "metadata": {
        "id": "kcUEfn71NqyX",
        "colab_type": "text"
      },
      "source": [
        "## 1.5 Curse of Dimensionality\n",
        "KNN works well with a small number of input variables (p), but __struggles__ when the _number of inputs is very large_.\n",
        "\n",
        "Each _input variable can be considered a dimension of a p-dimensional input space_. For example, if you had two input variables x1 and x2, the input space would be 2-dimensional.\n",
        "\n",
        "As the _number of dimensions increases the volume of the input space increases at an __exponential rate__._\n",
        "\n",
        "In high dimensions, points that may be similar may have very large distances. \n",
        "- All points will be far away from each other and our intuition for distances in simple 2 and 3-dimensional spaces breaks down. \n",
        "- This might feel unintuitive at first, but this general problem is called the __“Curse of Dimensionality“__.\n",
        "<img src=\"https://raw.githubusercontent.com/insaid2018/Term-3/master/Images/download%20(10).png\" />"
      ]
    },
    {
      "cell_type": "markdown",
      "metadata": {
        "id": "zXbVIHWlNqyX",
        "colab_type": "text"
      },
      "source": [
        "<a id=section109></a>"
      ]
    },
    {
      "cell_type": "markdown",
      "metadata": {
        "id": "EKD56sG7NqyY",
        "colab_type": "text"
      },
      "source": [
        "## 1.6 KNN Disciplines\n",
        "As KNN have been around for a long time and has been very well studied.<br>\n",
        "Different disciplines have different names for it.\n",
        "- __Instance-Based Learning__: The raw training instances are used to make predictions. As such KNN is often referred to as instance-based learning or a case-based learning (where __each training instance is a case from the problem domain__).\n",
        "- __Lazy Learning__: _No learning of the model is required_ and all of the __work happens__ at the time a __prediction is requested__. As such, KNN is often referred to as a __lazy learning algorithm__.\n",
        "- __Non-Parametric__: KNN makes _no assumptions about the __functional form of the problem__ being solved_. As such KNN is referred to as a __non-parametric__ machine learning algorithm."
      ]
    },
    {
      "cell_type": "markdown",
      "metadata": {
        "id": "GLxJBFqpNqyY",
        "colab_type": "text"
      },
      "source": [
        "#### What is Non-Parametric machine Learning Algorithm?\n",
        "- Algorithms that do not make strong assumptions about the form of the mapping function are called nonparametric machine learning algorithms. \n",
        "- By not making assumptions, they are free to learn any functional form from the training data. \n",
        "> _Nonparametric methods are good when you have a lot of data and no prior knowledge, and when you don’t want to worry too much about choosing just the right features._\n",
        "\n",
        "##### Benefits:\n",
        "1. __Flexibility__: Capable of fitting a large number of functional forms.\n",
        "2. __Power__: No assumptions (or weak assumptions) about the underlying function.\n",
        "3. __Performance__: Can result in higher performance models for prediction.\n",
        "\n",
        "##### Limitations:\n",
        "1. __More data__: Require a lot more training data to estimate the mapping function.\n",
        "2. __Slower__: A lot slower to train as they often have far more parameters to train.\n",
        "3. __Overfitting__: More of a risk to overfit the training data and it is harder to explain why specific predictions are made."
      ]
    },
    {
      "cell_type": "markdown",
      "metadata": {
        "id": "3K98mtRBNqyZ",
        "colab_type": "text"
      },
      "source": [
        "<a id=section110></a>"
      ]
    },
    {
      "cell_type": "markdown",
      "metadata": {
        "id": "n_WtRex-NqyZ",
        "colab_type": "text"
      },
      "source": [
        "## 1.7 Breaking it Down – Pseudo Code of KNN"
      ]
    },
    {
      "cell_type": "markdown",
      "metadata": {
        "id": "6A4DjRpPNqyb",
        "colab_type": "text"
      },
      "source": [
        "We can implement a KNN model by following the below steps:\n",
        "\n",
        "1. Load the data\n",
        "2. Initialise the value of k\n",
        "3. For getting the predicted class, iterate from 1 to total number of training data points\n",
        "4. Calculate the distance between each test data and each row of training data. Here we will use Euclidean distance as our   distance metric since it’s the most popular method. The other metrics that can be used are Chebyshev, cosine, etc.\n",
        "5. Sort the calculated distances in ascending order based on distance values\n",
        "6. Get top k rows from the sorted array\n",
        "7. Get the most frequent class for classification/mean or median for regression of these rows\n",
        "8. Return the predicted class\n"
      ]
    },
    {
      "cell_type": "markdown",
      "metadata": {
        "id": "wxMHAiscNqyc",
        "colab_type": "text"
      },
      "source": [
        "<a id=section2></a>"
      ]
    },
    {
      "cell_type": "markdown",
      "metadata": {
        "id": "ql_H6EvZNqyc",
        "colab_type": "text"
      },
      "source": [
        "## 2. Use Case - Glass Classification"
      ]
    },
    {
      "cell_type": "markdown",
      "metadata": {
        "_cell_guid": "c0e44c5a-3345-4ef0-bc4a-82dcf797b267",
        "_execution_state": "idle",
        "_uuid": "0cf186678b6923221b797012b5ca1e43407a615b",
        "id": "S28p9tR7Nqyd",
        "colab_type": "text"
      },
      "source": [
        "Data set  has 9 properties, the first one is optical property, the rest 8 is chemical oxide contents of glass, so property 1 and property 2-9 has different dimension.<br>\n",
        "unit measurement for contents: weight percent in corresponding oxide, as are attributes\n",
        "glass class has 7 types, but type 4 is not in this data set.<br>\n",
        "\n",
        "----------\n",
        "The study of classification of types of glass was motivated by __criminological investigation__. At the scene of the crime, the glass left can be used as __evidence__...if it is correctly identified!\n",
        "\n",
        "---\n",
        "\n",
        "Names:<br>\n",
        "1. building_windows_float_processed \n",
        "2. building_windows_non_float_processed\n",
        "3. vehicle_windows_float_processed\n",
        "4. vehicle_windows_non_float_processed (none in this database)\n",
        "5. containers\n",
        "6. tableware\n",
        "7. headlamps\n",
        "\n",
        "\n",
        "----------\n",
        "__Main ingredient of glass: SiO2, other contents are also oxides, such as: Na2O, CaO,K2O__"
      ]
    },
    {
      "cell_type": "markdown",
      "metadata": {
        "id": "8sdx2-zcNqyd",
        "colab_type": "text"
      },
      "source": [
        "<a id=section3></a>"
      ]
    },
    {
      "cell_type": "markdown",
      "metadata": {
        "_cell_guid": "1e0c0e56-801a-41f4-bc64-5773b4c430dc",
        "_execution_state": "idle",
        "_uuid": "64d7f66aa782dbb725001292d45475c3630adaad",
        "id": "kHmI4oVfNqye",
        "colab_type": "text"
      },
      "source": [
        "## 3. Dataset (Source, loading and description)\n",
        "https://archive.ics.uci.edu/ml/datasets/Glass+Identification <br>\n",
        "no missing values as per source descreption"
      ]
    },
    {
      "cell_type": "markdown",
      "metadata": {
        "_cell_guid": "33941ce9-cd60-48a8-b486-c3d80055c492",
        "_execution_state": "idle",
        "_uuid": "506d316953f3e1d3fa3d18dd4d12c4728bc02384",
        "id": "WnIPRMq-Nqye",
        "colab_type": "text"
      },
      "source": [
        "### Import packages"
      ]
    },
    {
      "cell_type": "code",
      "metadata": {
        "_cell_guid": "beba55c8-0278-493e-8159-64db1aba3a86",
        "_execution_state": "idle",
        "_uuid": "93aa1aca0526313a35f6b4c3b953d8008db6d0f3",
        "id": "dAl5Bo-yNqye",
        "colab_type": "code",
        "colab": {}
      },
      "source": [
        "import numpy as np # linear algebra\n",
        "import pandas as pd # data processing, CSV file I/O (e.g. pd.read_csv)\n",
        "import matplotlib as mpl\n",
        "import matplotlib.pyplot as plt\n",
        "import seaborn as sns\n",
        "%matplotlib inline"
      ],
      "execution_count": 0,
      "outputs": []
    },
    {
      "cell_type": "markdown",
      "metadata": {
        "id": "joKXQG1FNqyi",
        "colab_type": "text"
      },
      "source": [
        "### Import the dataset"
      ]
    },
    {
      "cell_type": "code",
      "metadata": {
        "id": "kqdk63BpNqyj",
        "colab_type": "code",
        "outputId": "2086080b-94d2-4373-c521-3fd961829edd",
        "colab": {
          "base_uri": "https://localhost:8080/",
          "height": 204
        }
      },
      "source": [
        "glass = pd.read_csv(\"https://raw.githubusercontent.com/insaid2018/Term-3/master/Data/CaseStudy/glass.csv\")\n",
        "glass.head()"
      ],
      "execution_count": 0,
      "outputs": [
        {
          "output_type": "execute_result",
          "data": {
            "text/html": [
              "<div>\n",
              "<style scoped>\n",
              "    .dataframe tbody tr th:only-of-type {\n",
              "        vertical-align: middle;\n",
              "    }\n",
              "\n",
              "    .dataframe tbody tr th {\n",
              "        vertical-align: top;\n",
              "    }\n",
              "\n",
              "    .dataframe thead th {\n",
              "        text-align: right;\n",
              "    }\n",
              "</style>\n",
              "<table border=\"1\" class=\"dataframe\">\n",
              "  <thead>\n",
              "    <tr style=\"text-align: right;\">\n",
              "      <th></th>\n",
              "      <th>RI</th>\n",
              "      <th>Na</th>\n",
              "      <th>Mg</th>\n",
              "      <th>Al</th>\n",
              "      <th>Si</th>\n",
              "      <th>K</th>\n",
              "      <th>Ca</th>\n",
              "      <th>Ba</th>\n",
              "      <th>Fe</th>\n",
              "      <th>Type</th>\n",
              "    </tr>\n",
              "  </thead>\n",
              "  <tbody>\n",
              "    <tr>\n",
              "      <th>0</th>\n",
              "      <td>1.52101</td>\n",
              "      <td>13.64</td>\n",
              "      <td>4.49</td>\n",
              "      <td>1.10</td>\n",
              "      <td>71.78</td>\n",
              "      <td>0.06</td>\n",
              "      <td>8.75</td>\n",
              "      <td>0.0</td>\n",
              "      <td>0.0</td>\n",
              "      <td>1</td>\n",
              "    </tr>\n",
              "    <tr>\n",
              "      <th>1</th>\n",
              "      <td>1.51761</td>\n",
              "      <td>13.89</td>\n",
              "      <td>3.60</td>\n",
              "      <td>1.36</td>\n",
              "      <td>72.73</td>\n",
              "      <td>0.48</td>\n",
              "      <td>7.83</td>\n",
              "      <td>0.0</td>\n",
              "      <td>0.0</td>\n",
              "      <td>1</td>\n",
              "    </tr>\n",
              "    <tr>\n",
              "      <th>2</th>\n",
              "      <td>1.51618</td>\n",
              "      <td>13.53</td>\n",
              "      <td>3.55</td>\n",
              "      <td>1.54</td>\n",
              "      <td>72.99</td>\n",
              "      <td>0.39</td>\n",
              "      <td>7.78</td>\n",
              "      <td>0.0</td>\n",
              "      <td>0.0</td>\n",
              "      <td>1</td>\n",
              "    </tr>\n",
              "    <tr>\n",
              "      <th>3</th>\n",
              "      <td>1.51766</td>\n",
              "      <td>13.21</td>\n",
              "      <td>3.69</td>\n",
              "      <td>1.29</td>\n",
              "      <td>72.61</td>\n",
              "      <td>0.57</td>\n",
              "      <td>8.22</td>\n",
              "      <td>0.0</td>\n",
              "      <td>0.0</td>\n",
              "      <td>1</td>\n",
              "    </tr>\n",
              "    <tr>\n",
              "      <th>4</th>\n",
              "      <td>1.51742</td>\n",
              "      <td>13.27</td>\n",
              "      <td>3.62</td>\n",
              "      <td>1.24</td>\n",
              "      <td>73.08</td>\n",
              "      <td>0.55</td>\n",
              "      <td>8.07</td>\n",
              "      <td>0.0</td>\n",
              "      <td>0.0</td>\n",
              "      <td>1</td>\n",
              "    </tr>\n",
              "  </tbody>\n",
              "</table>\n",
              "</div>"
            ],
            "text/plain": [
              "        RI     Na    Mg    Al     Si     K    Ca   Ba   Fe  Type\n",
              "0  1.52101  13.64  4.49  1.10  71.78  0.06  8.75  0.0  0.0     1\n",
              "1  1.51761  13.89  3.60  1.36  72.73  0.48  7.83  0.0  0.0     1\n",
              "2  1.51618  13.53  3.55  1.54  72.99  0.39  7.78  0.0  0.0     1\n",
              "3  1.51766  13.21  3.69  1.29  72.61  0.57  8.22  0.0  0.0     1\n",
              "4  1.51742  13.27  3.62  1.24  73.08  0.55  8.07  0.0  0.0     1"
            ]
          },
          "metadata": {
            "tags": []
          },
          "execution_count": 67
        }
      ]
    },
    {
      "cell_type": "code",
      "metadata": {
        "id": "IUMzkqCVP-FB",
        "colab_type": "code",
        "outputId": "0e9c19d7-fba5-4a72-fda2-394ea66ab59d",
        "colab": {
          "base_uri": "https://localhost:8080/",
          "height": 34
        }
      },
      "source": [
        "glass[glass['K']>3]['Type'].unique()"
      ],
      "execution_count": 0,
      "outputs": [
        {
          "output_type": "execute_result",
          "data": {
            "text/plain": [
              "array([5])"
            ]
          },
          "metadata": {
            "tags": []
          },
          "execution_count": 3
        }
      ]
    },
    {
      "cell_type": "markdown",
      "metadata": {
        "id": "01z3x9mLNqyp",
        "colab_type": "text"
      },
      "source": [
        "### Check the shape of dataset"
      ]
    },
    {
      "cell_type": "code",
      "metadata": {
        "_cell_guid": "37fadcaf-3989-4650-8bb4-71cb8286535b",
        "_execution_state": "idle",
        "_uuid": "599ee69f9664d9747aad6713364a3cba502c9ca2",
        "id": "9KnZOtLKNqyp",
        "colab_type": "code",
        "outputId": "d60c067a-52df-46da-a14a-f7dd55344d61",
        "colab": {
          "base_uri": "https://localhost:8080/",
          "height": 34
        }
      },
      "source": [
        "glass.shape"
      ],
      "execution_count": 0,
      "outputs": [
        {
          "output_type": "execute_result",
          "data": {
            "text/plain": [
              "(214, 10)"
            ]
          },
          "metadata": {
            "tags": []
          },
          "execution_count": 68
        }
      ]
    },
    {
      "cell_type": "markdown",
      "metadata": {
        "id": "doxozQasNqyt",
        "colab_type": "text"
      },
      "source": [
        "### Check the columns present in the dataset"
      ]
    },
    {
      "cell_type": "code",
      "metadata": {
        "id": "MCk9-srZNqyu",
        "colab_type": "code",
        "outputId": "6bfcd121-b769-4ebb-ced9-c51ae4b6e85f",
        "colab": {
          "base_uri": "https://localhost:8080/",
          "height": 34
        }
      },
      "source": [
        "glass.columns"
      ],
      "execution_count": 0,
      "outputs": [
        {
          "output_type": "execute_result",
          "data": {
            "text/plain": [
              "Index(['RI', 'Na', 'Mg', 'Al', 'Si', 'K', 'Ca', 'Ba', 'Fe', 'Type'], dtype='object')"
            ]
          },
          "metadata": {
            "tags": []
          },
          "execution_count": 69
        }
      ]
    },
    {
      "cell_type": "markdown",
      "metadata": {
        "id": "_7aYfrSXNqyx",
        "colab_type": "text"
      },
      "source": [
        "### Check the descriptive statistics of the dataset"
      ]
    },
    {
      "cell_type": "code",
      "metadata": {
        "_cell_guid": "628f3e6d-092a-4dac-8e8e-14985432b279",
        "_execution_state": "idle",
        "_uuid": "b50353d4b73e9e0d17c4db1696c43785ff4ab3ed",
        "id": "48pMt_mGNqyx",
        "colab_type": "code",
        "outputId": "1d6425c8-875f-4686-afab-13d7a2b39c5d",
        "colab": {
          "base_uri": "https://localhost:8080/",
          "height": 297
        }
      },
      "source": [
        "glass.describe()"
      ],
      "execution_count": 0,
      "outputs": [
        {
          "output_type": "execute_result",
          "data": {
            "text/html": [
              "<div>\n",
              "<style scoped>\n",
              "    .dataframe tbody tr th:only-of-type {\n",
              "        vertical-align: middle;\n",
              "    }\n",
              "\n",
              "    .dataframe tbody tr th {\n",
              "        vertical-align: top;\n",
              "    }\n",
              "\n",
              "    .dataframe thead th {\n",
              "        text-align: right;\n",
              "    }\n",
              "</style>\n",
              "<table border=\"1\" class=\"dataframe\">\n",
              "  <thead>\n",
              "    <tr style=\"text-align: right;\">\n",
              "      <th></th>\n",
              "      <th>RI</th>\n",
              "      <th>Na</th>\n",
              "      <th>Mg</th>\n",
              "      <th>Al</th>\n",
              "      <th>Si</th>\n",
              "      <th>K</th>\n",
              "      <th>Ca</th>\n",
              "      <th>Ba</th>\n",
              "      <th>Fe</th>\n",
              "      <th>Type</th>\n",
              "    </tr>\n",
              "  </thead>\n",
              "  <tbody>\n",
              "    <tr>\n",
              "      <th>count</th>\n",
              "      <td>214.000000</td>\n",
              "      <td>214.000000</td>\n",
              "      <td>214.000000</td>\n",
              "      <td>214.000000</td>\n",
              "      <td>214.000000</td>\n",
              "      <td>214.000000</td>\n",
              "      <td>214.000000</td>\n",
              "      <td>214.000000</td>\n",
              "      <td>214.000000</td>\n",
              "      <td>214.000000</td>\n",
              "    </tr>\n",
              "    <tr>\n",
              "      <th>mean</th>\n",
              "      <td>1.518365</td>\n",
              "      <td>13.407850</td>\n",
              "      <td>2.684533</td>\n",
              "      <td>1.444907</td>\n",
              "      <td>72.650935</td>\n",
              "      <td>0.497056</td>\n",
              "      <td>8.956963</td>\n",
              "      <td>0.175047</td>\n",
              "      <td>0.057009</td>\n",
              "      <td>2.780374</td>\n",
              "    </tr>\n",
              "    <tr>\n",
              "      <th>std</th>\n",
              "      <td>0.003037</td>\n",
              "      <td>0.816604</td>\n",
              "      <td>1.442408</td>\n",
              "      <td>0.499270</td>\n",
              "      <td>0.774546</td>\n",
              "      <td>0.652192</td>\n",
              "      <td>1.423153</td>\n",
              "      <td>0.497219</td>\n",
              "      <td>0.097439</td>\n",
              "      <td>2.103739</td>\n",
              "    </tr>\n",
              "    <tr>\n",
              "      <th>min</th>\n",
              "      <td>1.511150</td>\n",
              "      <td>10.730000</td>\n",
              "      <td>0.000000</td>\n",
              "      <td>0.290000</td>\n",
              "      <td>69.810000</td>\n",
              "      <td>0.000000</td>\n",
              "      <td>5.430000</td>\n",
              "      <td>0.000000</td>\n",
              "      <td>0.000000</td>\n",
              "      <td>1.000000</td>\n",
              "    </tr>\n",
              "    <tr>\n",
              "      <th>25%</th>\n",
              "      <td>1.516523</td>\n",
              "      <td>12.907500</td>\n",
              "      <td>2.115000</td>\n",
              "      <td>1.190000</td>\n",
              "      <td>72.280000</td>\n",
              "      <td>0.122500</td>\n",
              "      <td>8.240000</td>\n",
              "      <td>0.000000</td>\n",
              "      <td>0.000000</td>\n",
              "      <td>1.000000</td>\n",
              "    </tr>\n",
              "    <tr>\n",
              "      <th>50%</th>\n",
              "      <td>1.517680</td>\n",
              "      <td>13.300000</td>\n",
              "      <td>3.480000</td>\n",
              "      <td>1.360000</td>\n",
              "      <td>72.790000</td>\n",
              "      <td>0.555000</td>\n",
              "      <td>8.600000</td>\n",
              "      <td>0.000000</td>\n",
              "      <td>0.000000</td>\n",
              "      <td>2.000000</td>\n",
              "    </tr>\n",
              "    <tr>\n",
              "      <th>75%</th>\n",
              "      <td>1.519157</td>\n",
              "      <td>13.825000</td>\n",
              "      <td>3.600000</td>\n",
              "      <td>1.630000</td>\n",
              "      <td>73.087500</td>\n",
              "      <td>0.610000</td>\n",
              "      <td>9.172500</td>\n",
              "      <td>0.000000</td>\n",
              "      <td>0.100000</td>\n",
              "      <td>3.000000</td>\n",
              "    </tr>\n",
              "    <tr>\n",
              "      <th>max</th>\n",
              "      <td>1.533930</td>\n",
              "      <td>17.380000</td>\n",
              "      <td>4.490000</td>\n",
              "      <td>3.500000</td>\n",
              "      <td>75.410000</td>\n",
              "      <td>6.210000</td>\n",
              "      <td>16.190000</td>\n",
              "      <td>3.150000</td>\n",
              "      <td>0.510000</td>\n",
              "      <td>7.000000</td>\n",
              "    </tr>\n",
              "  </tbody>\n",
              "</table>\n",
              "</div>"
            ],
            "text/plain": [
              "               RI          Na          Mg  ...          Ba          Fe        Type\n",
              "count  214.000000  214.000000  214.000000  ...  214.000000  214.000000  214.000000\n",
              "mean     1.518365   13.407850    2.684533  ...    0.175047    0.057009    2.780374\n",
              "std      0.003037    0.816604    1.442408  ...    0.497219    0.097439    2.103739\n",
              "min      1.511150   10.730000    0.000000  ...    0.000000    0.000000    1.000000\n",
              "25%      1.516523   12.907500    2.115000  ...    0.000000    0.000000    1.000000\n",
              "50%      1.517680   13.300000    3.480000  ...    0.000000    0.000000    2.000000\n",
              "75%      1.519157   13.825000    3.600000  ...    0.000000    0.100000    3.000000\n",
              "max      1.533930   17.380000    4.490000  ...    3.150000    0.510000    7.000000\n",
              "\n",
              "[8 rows x 10 columns]"
            ]
          },
          "metadata": {
            "tags": []
          },
          "execution_count": 70
        }
      ]
    },
    {
      "cell_type": "code",
      "metadata": {
        "id": "akf1AqFVqy0c",
        "colab_type": "code",
        "outputId": "a75fd0e7-a309-4154-8f6d-aa10863a1ec0",
        "colab": {
          "base_uri": "https://localhost:8080/",
          "height": 545
        }
      },
      "source": [
        "glass[glass['Ba']>1]"
      ],
      "execution_count": 0,
      "outputs": [
        {
          "output_type": "execute_result",
          "data": {
            "text/html": [
              "<div>\n",
              "<style scoped>\n",
              "    .dataframe tbody tr th:only-of-type {\n",
              "        vertical-align: middle;\n",
              "    }\n",
              "\n",
              "    .dataframe tbody tr th {\n",
              "        vertical-align: top;\n",
              "    }\n",
              "\n",
              "    .dataframe thead th {\n",
              "        text-align: right;\n",
              "    }\n",
              "</style>\n",
              "<table border=\"1\" class=\"dataframe\">\n",
              "  <thead>\n",
              "    <tr style=\"text-align: right;\">\n",
              "      <th></th>\n",
              "      <th>RI</th>\n",
              "      <th>Na</th>\n",
              "      <th>Mg</th>\n",
              "      <th>Al</th>\n",
              "      <th>Si</th>\n",
              "      <th>K</th>\n",
              "      <th>Ca</th>\n",
              "      <th>Ba</th>\n",
              "      <th>Fe</th>\n",
              "      <th>Type</th>\n",
              "    </tr>\n",
              "  </thead>\n",
              "  <tbody>\n",
              "    <tr>\n",
              "      <th>106</th>\n",
              "      <td>1.53125</td>\n",
              "      <td>10.73</td>\n",
              "      <td>0.00</td>\n",
              "      <td>2.10</td>\n",
              "      <td>69.81</td>\n",
              "      <td>0.58</td>\n",
              "      <td>13.30</td>\n",
              "      <td>3.15</td>\n",
              "      <td>0.28</td>\n",
              "      <td>2</td>\n",
              "    </tr>\n",
              "    <tr>\n",
              "      <th>163</th>\n",
              "      <td>1.51514</td>\n",
              "      <td>14.01</td>\n",
              "      <td>2.68</td>\n",
              "      <td>3.50</td>\n",
              "      <td>69.89</td>\n",
              "      <td>1.68</td>\n",
              "      <td>5.87</td>\n",
              "      <td>2.20</td>\n",
              "      <td>0.00</td>\n",
              "      <td>5</td>\n",
              "    </tr>\n",
              "    <tr>\n",
              "      <th>185</th>\n",
              "      <td>1.51131</td>\n",
              "      <td>13.69</td>\n",
              "      <td>3.20</td>\n",
              "      <td>1.81</td>\n",
              "      <td>72.81</td>\n",
              "      <td>1.76</td>\n",
              "      <td>5.43</td>\n",
              "      <td>1.19</td>\n",
              "      <td>0.00</td>\n",
              "      <td>7</td>\n",
              "    </tr>\n",
              "    <tr>\n",
              "      <th>186</th>\n",
              "      <td>1.51838</td>\n",
              "      <td>14.32</td>\n",
              "      <td>3.26</td>\n",
              "      <td>2.22</td>\n",
              "      <td>71.25</td>\n",
              "      <td>1.46</td>\n",
              "      <td>5.79</td>\n",
              "      <td>1.63</td>\n",
              "      <td>0.00</td>\n",
              "      <td>7</td>\n",
              "    </tr>\n",
              "    <tr>\n",
              "      <th>189</th>\n",
              "      <td>1.52365</td>\n",
              "      <td>15.79</td>\n",
              "      <td>1.83</td>\n",
              "      <td>1.31</td>\n",
              "      <td>70.43</td>\n",
              "      <td>0.31</td>\n",
              "      <td>8.61</td>\n",
              "      <td>1.68</td>\n",
              "      <td>0.00</td>\n",
              "      <td>7</td>\n",
              "    </tr>\n",
              "    <tr>\n",
              "      <th>193</th>\n",
              "      <td>1.51719</td>\n",
              "      <td>14.75</td>\n",
              "      <td>0.00</td>\n",
              "      <td>2.00</td>\n",
              "      <td>73.02</td>\n",
              "      <td>0.00</td>\n",
              "      <td>8.53</td>\n",
              "      <td>1.59</td>\n",
              "      <td>0.08</td>\n",
              "      <td>7</td>\n",
              "    </tr>\n",
              "    <tr>\n",
              "      <th>194</th>\n",
              "      <td>1.51683</td>\n",
              "      <td>14.56</td>\n",
              "      <td>0.00</td>\n",
              "      <td>1.98</td>\n",
              "      <td>73.29</td>\n",
              "      <td>0.00</td>\n",
              "      <td>8.52</td>\n",
              "      <td>1.57</td>\n",
              "      <td>0.07</td>\n",
              "      <td>7</td>\n",
              "    </tr>\n",
              "    <tr>\n",
              "      <th>203</th>\n",
              "      <td>1.51658</td>\n",
              "      <td>14.80</td>\n",
              "      <td>0.00</td>\n",
              "      <td>1.99</td>\n",
              "      <td>73.11</td>\n",
              "      <td>0.00</td>\n",
              "      <td>8.28</td>\n",
              "      <td>1.71</td>\n",
              "      <td>0.00</td>\n",
              "      <td>7</td>\n",
              "    </tr>\n",
              "    <tr>\n",
              "      <th>205</th>\n",
              "      <td>1.51732</td>\n",
              "      <td>14.95</td>\n",
              "      <td>0.00</td>\n",
              "      <td>1.80</td>\n",
              "      <td>72.99</td>\n",
              "      <td>0.00</td>\n",
              "      <td>8.61</td>\n",
              "      <td>1.55</td>\n",
              "      <td>0.00</td>\n",
              "      <td>7</td>\n",
              "    </tr>\n",
              "    <tr>\n",
              "      <th>206</th>\n",
              "      <td>1.51645</td>\n",
              "      <td>14.94</td>\n",
              "      <td>0.00</td>\n",
              "      <td>1.87</td>\n",
              "      <td>73.11</td>\n",
              "      <td>0.00</td>\n",
              "      <td>8.67</td>\n",
              "      <td>1.38</td>\n",
              "      <td>0.00</td>\n",
              "      <td>7</td>\n",
              "    </tr>\n",
              "    <tr>\n",
              "      <th>207</th>\n",
              "      <td>1.51831</td>\n",
              "      <td>14.39</td>\n",
              "      <td>0.00</td>\n",
              "      <td>1.82</td>\n",
              "      <td>72.86</td>\n",
              "      <td>1.41</td>\n",
              "      <td>6.47</td>\n",
              "      <td>2.88</td>\n",
              "      <td>0.00</td>\n",
              "      <td>7</td>\n",
              "    </tr>\n",
              "    <tr>\n",
              "      <th>209</th>\n",
              "      <td>1.51623</td>\n",
              "      <td>14.14</td>\n",
              "      <td>0.00</td>\n",
              "      <td>2.88</td>\n",
              "      <td>72.61</td>\n",
              "      <td>0.08</td>\n",
              "      <td>9.18</td>\n",
              "      <td>1.06</td>\n",
              "      <td>0.00</td>\n",
              "      <td>7</td>\n",
              "    </tr>\n",
              "    <tr>\n",
              "      <th>210</th>\n",
              "      <td>1.51685</td>\n",
              "      <td>14.92</td>\n",
              "      <td>0.00</td>\n",
              "      <td>1.99</td>\n",
              "      <td>73.06</td>\n",
              "      <td>0.00</td>\n",
              "      <td>8.40</td>\n",
              "      <td>1.59</td>\n",
              "      <td>0.00</td>\n",
              "      <td>7</td>\n",
              "    </tr>\n",
              "    <tr>\n",
              "      <th>211</th>\n",
              "      <td>1.52065</td>\n",
              "      <td>14.36</td>\n",
              "      <td>0.00</td>\n",
              "      <td>2.02</td>\n",
              "      <td>73.42</td>\n",
              "      <td>0.00</td>\n",
              "      <td>8.44</td>\n",
              "      <td>1.64</td>\n",
              "      <td>0.00</td>\n",
              "      <td>7</td>\n",
              "    </tr>\n",
              "    <tr>\n",
              "      <th>212</th>\n",
              "      <td>1.51651</td>\n",
              "      <td>14.38</td>\n",
              "      <td>0.00</td>\n",
              "      <td>1.94</td>\n",
              "      <td>73.61</td>\n",
              "      <td>0.00</td>\n",
              "      <td>8.48</td>\n",
              "      <td>1.57</td>\n",
              "      <td>0.00</td>\n",
              "      <td>7</td>\n",
              "    </tr>\n",
              "    <tr>\n",
              "      <th>213</th>\n",
              "      <td>1.51711</td>\n",
              "      <td>14.23</td>\n",
              "      <td>0.00</td>\n",
              "      <td>2.08</td>\n",
              "      <td>73.36</td>\n",
              "      <td>0.00</td>\n",
              "      <td>8.62</td>\n",
              "      <td>1.67</td>\n",
              "      <td>0.00</td>\n",
              "      <td>7</td>\n",
              "    </tr>\n",
              "  </tbody>\n",
              "</table>\n",
              "</div>"
            ],
            "text/plain": [
              "          RI     Na    Mg    Al     Si     K     Ca    Ba    Fe  Type\n",
              "106  1.53125  10.73  0.00  2.10  69.81  0.58  13.30  3.15  0.28     2\n",
              "163  1.51514  14.01  2.68  3.50  69.89  1.68   5.87  2.20  0.00     5\n",
              "185  1.51131  13.69  3.20  1.81  72.81  1.76   5.43  1.19  0.00     7\n",
              "186  1.51838  14.32  3.26  2.22  71.25  1.46   5.79  1.63  0.00     7\n",
              "189  1.52365  15.79  1.83  1.31  70.43  0.31   8.61  1.68  0.00     7\n",
              "193  1.51719  14.75  0.00  2.00  73.02  0.00   8.53  1.59  0.08     7\n",
              "194  1.51683  14.56  0.00  1.98  73.29  0.00   8.52  1.57  0.07     7\n",
              "203  1.51658  14.80  0.00  1.99  73.11  0.00   8.28  1.71  0.00     7\n",
              "205  1.51732  14.95  0.00  1.80  72.99  0.00   8.61  1.55  0.00     7\n",
              "206  1.51645  14.94  0.00  1.87  73.11  0.00   8.67  1.38  0.00     7\n",
              "207  1.51831  14.39  0.00  1.82  72.86  1.41   6.47  2.88  0.00     7\n",
              "209  1.51623  14.14  0.00  2.88  72.61  0.08   9.18  1.06  0.00     7\n",
              "210  1.51685  14.92  0.00  1.99  73.06  0.00   8.40  1.59  0.00     7\n",
              "211  1.52065  14.36  0.00  2.02  73.42  0.00   8.44  1.64  0.00     7\n",
              "212  1.51651  14.38  0.00  1.94  73.61  0.00   8.48  1.57  0.00     7\n",
              "213  1.51711  14.23  0.00  2.08  73.36  0.00   8.62  1.67  0.00     7"
            ]
          },
          "metadata": {
            "tags": []
          },
          "execution_count": 80
        }
      ]
    },
    {
      "cell_type": "markdown",
      "metadata": {
        "id": "vJSseShkOztv",
        "colab_type": "text"
      },
      "source": [
        "BA --> less than 75Ptile is 0   --->    If BA is used, you can right away classify that particular type?\n",
        "Outlier:\n",
        "    -- K \n",
        "    -- CA\n",
        "    -- BA\n",
        "    \n",
        " \n",
        " \n",
        " Product type -->1, 2, 3, 5, 7uses BA ; So, next time if you get new DATA and when BA is used; Only find closeness with this -> 1, 2, 3, 5, 7\n",
        " ==0; 1, 2, 3, 5, 6, 7     ---> We can't do this "
      ]
    },
    {
      "cell_type": "markdown",
      "metadata": {
        "id": "YI9aoG3GNqy1",
        "colab_type": "text"
      },
      "source": [
        "### Check the info of the dataset"
      ]
    },
    {
      "cell_type": "code",
      "metadata": {
        "id": "LlHWuBiuNqy1",
        "colab_type": "code",
        "outputId": "6df0901f-dabb-4597-8d76-8dd41a4e2cc8",
        "colab": {
          "base_uri": "https://localhost:8080/",
          "height": 272
        }
      },
      "source": [
        "glass.info()"
      ],
      "execution_count": 0,
      "outputs": [
        {
          "output_type": "stream",
          "text": [
            "<class 'pandas.core.frame.DataFrame'>\n",
            "RangeIndex: 214 entries, 0 to 213\n",
            "Data columns (total 10 columns):\n",
            "RI      214 non-null float64\n",
            "Na      214 non-null float64\n",
            "Mg      214 non-null float64\n",
            "Al      214 non-null float64\n",
            "Si      214 non-null float64\n",
            "K       214 non-null float64\n",
            "Ca      214 non-null float64\n",
            "Ba      214 non-null float64\n",
            "Fe      214 non-null float64\n",
            "Type    214 non-null int64\n",
            "dtypes: float64(9), int64(1)\n",
            "memory usage: 16.8 KB\n"
          ],
          "name": "stdout"
        }
      ]
    },
    {
      "cell_type": "markdown",
      "metadata": {
        "id": "bXFgfouKNqy4",
        "colab_type": "text"
      },
      "source": [
        "<a id=section4></a>"
      ]
    },
    {
      "cell_type": "markdown",
      "metadata": {
        "id": "Jk-Y76-RNqy4",
        "colab_type": "text"
      },
      "source": [
        "## 4. Data Visualization"
      ]
    },
    {
      "cell_type": "markdown",
      "metadata": {
        "id": "zyrNueC8Nqy5",
        "colab_type": "text"
      },
      "source": [
        "### Count the no of observations on the basis of type and then create a barplot."
      ]
    },
    {
      "cell_type": "code",
      "metadata": {
        "id": "eGXbuuuRvLCI",
        "colab_type": "code",
        "colab": {}
      },
      "source": [
        "# Never use Python standard names as variable names "
      ],
      "execution_count": 0,
      "outputs": []
    },
    {
      "cell_type": "code",
      "metadata": {
        "id": "z8N_eKbM0A2a",
        "colab_type": "code",
        "outputId": "44835697-4586-45c8-9cea-cfba757e4fb9",
        "colab": {
          "base_uri": "https://localhost:8080/",
          "height": 419
        }
      },
      "source": [
        "pd.get_dummies(glass['Type'])"
      ],
      "execution_count": 0,
      "outputs": [
        {
          "output_type": "execute_result",
          "data": {
            "text/html": [
              "<div>\n",
              "<style scoped>\n",
              "    .dataframe tbody tr th:only-of-type {\n",
              "        vertical-align: middle;\n",
              "    }\n",
              "\n",
              "    .dataframe tbody tr th {\n",
              "        vertical-align: top;\n",
              "    }\n",
              "\n",
              "    .dataframe thead th {\n",
              "        text-align: right;\n",
              "    }\n",
              "</style>\n",
              "<table border=\"1\" class=\"dataframe\">\n",
              "  <thead>\n",
              "    <tr style=\"text-align: right;\">\n",
              "      <th></th>\n",
              "      <th>1</th>\n",
              "      <th>2</th>\n",
              "      <th>3</th>\n",
              "      <th>5</th>\n",
              "      <th>6</th>\n",
              "      <th>7</th>\n",
              "    </tr>\n",
              "  </thead>\n",
              "  <tbody>\n",
              "    <tr>\n",
              "      <th>0</th>\n",
              "      <td>1</td>\n",
              "      <td>0</td>\n",
              "      <td>0</td>\n",
              "      <td>0</td>\n",
              "      <td>0</td>\n",
              "      <td>0</td>\n",
              "    </tr>\n",
              "    <tr>\n",
              "      <th>1</th>\n",
              "      <td>1</td>\n",
              "      <td>0</td>\n",
              "      <td>0</td>\n",
              "      <td>0</td>\n",
              "      <td>0</td>\n",
              "      <td>0</td>\n",
              "    </tr>\n",
              "    <tr>\n",
              "      <th>2</th>\n",
              "      <td>1</td>\n",
              "      <td>0</td>\n",
              "      <td>0</td>\n",
              "      <td>0</td>\n",
              "      <td>0</td>\n",
              "      <td>0</td>\n",
              "    </tr>\n",
              "    <tr>\n",
              "      <th>3</th>\n",
              "      <td>1</td>\n",
              "      <td>0</td>\n",
              "      <td>0</td>\n",
              "      <td>0</td>\n",
              "      <td>0</td>\n",
              "      <td>0</td>\n",
              "    </tr>\n",
              "    <tr>\n",
              "      <th>4</th>\n",
              "      <td>1</td>\n",
              "      <td>0</td>\n",
              "      <td>0</td>\n",
              "      <td>0</td>\n",
              "      <td>0</td>\n",
              "      <td>0</td>\n",
              "    </tr>\n",
              "    <tr>\n",
              "      <th>...</th>\n",
              "      <td>...</td>\n",
              "      <td>...</td>\n",
              "      <td>...</td>\n",
              "      <td>...</td>\n",
              "      <td>...</td>\n",
              "      <td>...</td>\n",
              "    </tr>\n",
              "    <tr>\n",
              "      <th>209</th>\n",
              "      <td>0</td>\n",
              "      <td>0</td>\n",
              "      <td>0</td>\n",
              "      <td>0</td>\n",
              "      <td>0</td>\n",
              "      <td>1</td>\n",
              "    </tr>\n",
              "    <tr>\n",
              "      <th>210</th>\n",
              "      <td>0</td>\n",
              "      <td>0</td>\n",
              "      <td>0</td>\n",
              "      <td>0</td>\n",
              "      <td>0</td>\n",
              "      <td>1</td>\n",
              "    </tr>\n",
              "    <tr>\n",
              "      <th>211</th>\n",
              "      <td>0</td>\n",
              "      <td>0</td>\n",
              "      <td>0</td>\n",
              "      <td>0</td>\n",
              "      <td>0</td>\n",
              "      <td>1</td>\n",
              "    </tr>\n",
              "    <tr>\n",
              "      <th>212</th>\n",
              "      <td>0</td>\n",
              "      <td>0</td>\n",
              "      <td>0</td>\n",
              "      <td>0</td>\n",
              "      <td>0</td>\n",
              "      <td>1</td>\n",
              "    </tr>\n",
              "    <tr>\n",
              "      <th>213</th>\n",
              "      <td>0</td>\n",
              "      <td>0</td>\n",
              "      <td>0</td>\n",
              "      <td>0</td>\n",
              "      <td>0</td>\n",
              "      <td>1</td>\n",
              "    </tr>\n",
              "  </tbody>\n",
              "</table>\n",
              "<p>214 rows × 6 columns</p>\n",
              "</div>"
            ],
            "text/plain": [
              "     1  2  3  5  6  7\n",
              "0    1  0  0  0  0  0\n",
              "1    1  0  0  0  0  0\n",
              "2    1  0  0  0  0  0\n",
              "3    1  0  0  0  0  0\n",
              "4    1  0  0  0  0  0\n",
              "..  .. .. .. .. .. ..\n",
              "209  0  0  0  0  0  1\n",
              "210  0  0  0  0  0  1\n",
              "211  0  0  0  0  0  1\n",
              "212  0  0  0  0  0  1\n",
              "213  0  0  0  0  0  1\n",
              "\n",
              "[214 rows x 6 columns]"
            ]
          },
          "metadata": {
            "tags": []
          },
          "execution_count": 74
        }
      ]
    },
    {
      "cell_type": "code",
      "metadata": {
        "id": "IYIoUlAHviJH",
        "colab_type": "code",
        "outputId": "9d82cdd6-dee1-4d2c-bd74-8af65a87f83d",
        "colab": {
          "base_uri": "https://localhost:8080/",
          "height": 419
        }
      },
      "source": [
        "glass"
      ],
      "execution_count": 0,
      "outputs": [
        {
          "output_type": "execute_result",
          "data": {
            "text/html": [
              "<div>\n",
              "<style scoped>\n",
              "    .dataframe tbody tr th:only-of-type {\n",
              "        vertical-align: middle;\n",
              "    }\n",
              "\n",
              "    .dataframe tbody tr th {\n",
              "        vertical-align: top;\n",
              "    }\n",
              "\n",
              "    .dataframe thead th {\n",
              "        text-align: right;\n",
              "    }\n",
              "</style>\n",
              "<table border=\"1\" class=\"dataframe\">\n",
              "  <thead>\n",
              "    <tr style=\"text-align: right;\">\n",
              "      <th></th>\n",
              "      <th>RI</th>\n",
              "      <th>Na</th>\n",
              "      <th>Mg</th>\n",
              "      <th>Al</th>\n",
              "      <th>Si</th>\n",
              "      <th>K</th>\n",
              "      <th>Ca</th>\n",
              "      <th>Ba</th>\n",
              "      <th>Fe</th>\n",
              "      <th>Type</th>\n",
              "    </tr>\n",
              "  </thead>\n",
              "  <tbody>\n",
              "    <tr>\n",
              "      <th>0</th>\n",
              "      <td>1.52101</td>\n",
              "      <td>13.64</td>\n",
              "      <td>4.49</td>\n",
              "      <td>1.10</td>\n",
              "      <td>71.78</td>\n",
              "      <td>0.06</td>\n",
              "      <td>8.75</td>\n",
              "      <td>0.00</td>\n",
              "      <td>0.0</td>\n",
              "      <td>1</td>\n",
              "    </tr>\n",
              "    <tr>\n",
              "      <th>1</th>\n",
              "      <td>1.51761</td>\n",
              "      <td>13.89</td>\n",
              "      <td>3.60</td>\n",
              "      <td>1.36</td>\n",
              "      <td>72.73</td>\n",
              "      <td>0.48</td>\n",
              "      <td>7.83</td>\n",
              "      <td>0.00</td>\n",
              "      <td>0.0</td>\n",
              "      <td>1</td>\n",
              "    </tr>\n",
              "    <tr>\n",
              "      <th>2</th>\n",
              "      <td>1.51618</td>\n",
              "      <td>13.53</td>\n",
              "      <td>3.55</td>\n",
              "      <td>1.54</td>\n",
              "      <td>72.99</td>\n",
              "      <td>0.39</td>\n",
              "      <td>7.78</td>\n",
              "      <td>0.00</td>\n",
              "      <td>0.0</td>\n",
              "      <td>1</td>\n",
              "    </tr>\n",
              "    <tr>\n",
              "      <th>3</th>\n",
              "      <td>1.51766</td>\n",
              "      <td>13.21</td>\n",
              "      <td>3.69</td>\n",
              "      <td>1.29</td>\n",
              "      <td>72.61</td>\n",
              "      <td>0.57</td>\n",
              "      <td>8.22</td>\n",
              "      <td>0.00</td>\n",
              "      <td>0.0</td>\n",
              "      <td>1</td>\n",
              "    </tr>\n",
              "    <tr>\n",
              "      <th>4</th>\n",
              "      <td>1.51742</td>\n",
              "      <td>13.27</td>\n",
              "      <td>3.62</td>\n",
              "      <td>1.24</td>\n",
              "      <td>73.08</td>\n",
              "      <td>0.55</td>\n",
              "      <td>8.07</td>\n",
              "      <td>0.00</td>\n",
              "      <td>0.0</td>\n",
              "      <td>1</td>\n",
              "    </tr>\n",
              "    <tr>\n",
              "      <th>...</th>\n",
              "      <td>...</td>\n",
              "      <td>...</td>\n",
              "      <td>...</td>\n",
              "      <td>...</td>\n",
              "      <td>...</td>\n",
              "      <td>...</td>\n",
              "      <td>...</td>\n",
              "      <td>...</td>\n",
              "      <td>...</td>\n",
              "      <td>...</td>\n",
              "    </tr>\n",
              "    <tr>\n",
              "      <th>209</th>\n",
              "      <td>1.51623</td>\n",
              "      <td>14.14</td>\n",
              "      <td>0.00</td>\n",
              "      <td>2.88</td>\n",
              "      <td>72.61</td>\n",
              "      <td>0.08</td>\n",
              "      <td>9.18</td>\n",
              "      <td>1.06</td>\n",
              "      <td>0.0</td>\n",
              "      <td>7</td>\n",
              "    </tr>\n",
              "    <tr>\n",
              "      <th>210</th>\n",
              "      <td>1.51685</td>\n",
              "      <td>14.92</td>\n",
              "      <td>0.00</td>\n",
              "      <td>1.99</td>\n",
              "      <td>73.06</td>\n",
              "      <td>0.00</td>\n",
              "      <td>8.40</td>\n",
              "      <td>1.59</td>\n",
              "      <td>0.0</td>\n",
              "      <td>7</td>\n",
              "    </tr>\n",
              "    <tr>\n",
              "      <th>211</th>\n",
              "      <td>1.52065</td>\n",
              "      <td>14.36</td>\n",
              "      <td>0.00</td>\n",
              "      <td>2.02</td>\n",
              "      <td>73.42</td>\n",
              "      <td>0.00</td>\n",
              "      <td>8.44</td>\n",
              "      <td>1.64</td>\n",
              "      <td>0.0</td>\n",
              "      <td>7</td>\n",
              "    </tr>\n",
              "    <tr>\n",
              "      <th>212</th>\n",
              "      <td>1.51651</td>\n",
              "      <td>14.38</td>\n",
              "      <td>0.00</td>\n",
              "      <td>1.94</td>\n",
              "      <td>73.61</td>\n",
              "      <td>0.00</td>\n",
              "      <td>8.48</td>\n",
              "      <td>1.57</td>\n",
              "      <td>0.0</td>\n",
              "      <td>7</td>\n",
              "    </tr>\n",
              "    <tr>\n",
              "      <th>213</th>\n",
              "      <td>1.51711</td>\n",
              "      <td>14.23</td>\n",
              "      <td>0.00</td>\n",
              "      <td>2.08</td>\n",
              "      <td>73.36</td>\n",
              "      <td>0.00</td>\n",
              "      <td>8.62</td>\n",
              "      <td>1.67</td>\n",
              "      <td>0.0</td>\n",
              "      <td>7</td>\n",
              "    </tr>\n",
              "  </tbody>\n",
              "</table>\n",
              "<p>214 rows × 10 columns</p>\n",
              "</div>"
            ],
            "text/plain": [
              "          RI     Na    Mg    Al     Si     K    Ca    Ba   Fe  Type\n",
              "0    1.52101  13.64  4.49  1.10  71.78  0.06  8.75  0.00  0.0     1\n",
              "1    1.51761  13.89  3.60  1.36  72.73  0.48  7.83  0.00  0.0     1\n",
              "2    1.51618  13.53  3.55  1.54  72.99  0.39  7.78  0.00  0.0     1\n",
              "3    1.51766  13.21  3.69  1.29  72.61  0.57  8.22  0.00  0.0     1\n",
              "4    1.51742  13.27  3.62  1.24  73.08  0.55  8.07  0.00  0.0     1\n",
              "..       ...    ...   ...   ...    ...   ...   ...   ...  ...   ...\n",
              "209  1.51623  14.14  0.00  2.88  72.61  0.08  9.18  1.06  0.0     7\n",
              "210  1.51685  14.92  0.00  1.99  73.06  0.00  8.40  1.59  0.0     7\n",
              "211  1.52065  14.36  0.00  2.02  73.42  0.00  8.44  1.64  0.0     7\n",
              "212  1.51651  14.38  0.00  1.94  73.61  0.00  8.48  1.57  0.0     7\n",
              "213  1.51711  14.23  0.00  2.08  73.36  0.00  8.62  1.67  0.0     7\n",
              "\n",
              "[214 rows x 10 columns]"
            ]
          },
          "metadata": {
            "tags": []
          },
          "execution_count": 71
        }
      ]
    },
    {
      "cell_type": "code",
      "metadata": {
        "_cell_guid": "b99ffe81-4553-40cc-8788-f7319cefb187",
        "_execution_state": "idle",
        "_uuid": "3a7216297739896fed666b61ab5453d70a4e0405",
        "id": "TxG9ucTsNqy5",
        "colab_type": "code",
        "outputId": "c26c8aef-8c33-4aa1-89b2-1e37a51b31a3",
        "colab": {
          "base_uri": "https://localhost:8080/",
          "height": 153
        }
      },
      "source": [
        "glass_type =glass['Type'].groupby(glass['Type']).count()\n",
        "glass_type"
      ],
      "execution_count": 0,
      "outputs": [
        {
          "output_type": "execute_result",
          "data": {
            "text/plain": [
              "Type\n",
              "1    70\n",
              "2    76\n",
              "3    17\n",
              "5    13\n",
              "6     9\n",
              "7    29\n",
              "Name: Type, dtype: int64"
            ]
          },
          "metadata": {
            "tags": []
          },
          "execution_count": 72
        }
      ]
    },
    {
      "cell_type": "code",
      "metadata": {
        "id": "QDSep6GLyCHi",
        "colab_type": "code",
        "colab": {}
      },
      "source": [
        "# WHen you see distribution issues in Data: \n",
        "  # - Upsampling -> Creating duplicated rows of data of less frequent columns \n",
        "      # Upsampling coude be \n",
        "          # Same values\n",
        "          # Average/mode Values \n",
        "  # - Downsmapling -> Subsetting only handfull of data a given time, such that each class is equally represented. \n",
        "  # - Combine Low Representation Categories into Single Category - [3,5,6] -> NotRepMuch ; [1,2,NotRepMuch,7]\n",
        "  # - Run model for One class at a time ; [ 1 vs not 1 ]. [2 vs not 2] - On Vs All Modeling - Converting a Multi-Class Problem to Binary Problem \n",
        "        # This onevsall will result into Multiple Models \n",
        "        # refer to output of pd.get_dummies(glass['Type'])\n",
        "\n",
        "# Fraud Detection ; Anamaly Detection \n",
        "https://imbalanced-learn.readthedocs.io/en/stable/user_guide.html\n",
        "https://scikit-learn.org/stable/modules/generated/sklearn.multiclass.OneVsRestClassifier.html\n",
        "\n",
        "# These strategies are for you to experiment. What will work in the end has to be seen after performing all experiments. \n"
      ],
      "execution_count": 0,
      "outputs": []
    },
    {
      "cell_type": "code",
      "metadata": {
        "_cell_guid": "36b01ba3-4b78-4fe8-bdaf-f8f300f79912",
        "_execution_state": "idle",
        "_uuid": "f01bf37508ffb75dfe8f79a2b6001b8d90aa5682",
        "id": "8M4eh-iLNqy8",
        "colab_type": "code",
        "outputId": "3f703358-88be-4130-94ef-0e2e3239c92a",
        "colab": {
          "base_uri": "https://localhost:8080/",
          "height": 347
        }
      },
      "source": [
        "glass_type.plot('bar')"
      ],
      "execution_count": 0,
      "outputs": [
        {
          "output_type": "stream",
          "text": [
            "/usr/local/lib/python3.6/dist-packages/ipykernel_launcher.py:1: FutureWarning: `Series.plot()` should not be called with positional arguments, only keyword arguments. The order of positional arguments will change in the future. Use `Series.plot(kind='bar')` instead of `Series.plot('bar',)`.\n",
            "  \"\"\"Entry point for launching an IPython kernel.\n"
          ],
          "name": "stderr"
        },
        {
          "output_type": "execute_result",
          "data": {
            "text/plain": [
              "<matplotlib.axes._subplots.AxesSubplot at 0x7fcb63d8ff98>"
            ]
          },
          "metadata": {
            "tags": []
          },
          "execution_count": 73
        },
        {
          "output_type": "display_data",
          "data": {
            "image/png": "[encoded data removed]",
            "text/plain": [
              "<Figure size 432x288 with 1 Axes>"
            ]
          },
          "metadata": {
            "tags": []
          }
        }
      ]
    },
    {
      "cell_type": "markdown",
      "metadata": {
        "id": "b8SQkwFxNqy-",
        "colab_type": "text"
      },
      "source": [
        "### observation:\n",
        "Here, we can see glass data is skewed, class 1 and 2 in majority."
      ]
    },
    {
      "cell_type": "markdown",
      "metadata": {
        "_cell_guid": "cfaea7e7-d311-aa33-38ee-9ade6581a111",
        "_uuid": "242c5e2154da3c830e997eea650a949861a5b846",
        "id": "IyZ0mV5dNqy_",
        "colab_type": "text"
      },
      "source": [
        "### Creating a scatter plot by species."
      ]
    },
    {
      "cell_type": "code",
      "metadata": {
        "id": "QZTbNY7S1wR3",
        "colab_type": "code",
        "colab": {}
      },
      "source": [
        "#if you want to put a segmentation logic on your data with a color mappping - then use Hue in seaborn "
      ],
      "execution_count": 0,
      "outputs": []
    },
    {
      "cell_type": "code",
      "metadata": {
        "id": "iG8YawAv2ecO",
        "colab_type": "code",
        "outputId": "f409f6ea-324f-4108-c9b5-e6d4173c856e",
        "colab": {
          "base_uri": "https://localhost:8080/",
          "height": 34
        }
      },
      "source": [
        "glass.columns"
      ],
      "execution_count": 0,
      "outputs": [
        {
          "output_type": "execute_result",
          "data": {
            "text/plain": [
              "Index(['RI', 'Na', 'Mg', 'Al', 'Si', 'K', 'Ca', 'Ba', 'Fe', 'Type'], dtype='object')"
            ]
          },
          "metadata": {
            "tags": []
          },
          "execution_count": 76
        }
      ]
    },
    {
      "cell_type": "code",
      "metadata": {
        "id": "cJHR-L_D2qbU",
        "colab_type": "code",
        "colab": {}
      },
      "source": [
        "# Assignment to Lavi \n",
        "# Please plot for loop to show all Combiations \n",
        "# any other creative way, where we can see all combinations without for loop?"
      ],
      "execution_count": 0,
      "outputs": []
    },
    {
      "cell_type": "code",
      "metadata": {
        "_cell_guid": "0f1744dd-011b-79f3-fbc2-61c510adb382",
        "_uuid": "770a9115a8e7031a3f2d9e063aadf2c093ec661d",
        "id": "AAwQxPCBNqy_",
        "colab_type": "code",
        "outputId": "01abc417-7e5e-4411-cc16-7771943e9541",
        "colab": {
          "base_uri": "https://localhost:8080/",
          "height": 420
        }
      },
      "source": [
        "sns.FacetGrid(glass, hue=\"Type\", size=5) \\\n",
        "   .map(plt.scatter, \"Fe\", \"Ba\") \\\n",
        "   .add_legend()"
      ],
      "execution_count": 0,
      "outputs": [
        {
          "output_type": "stream",
          "text": [
            "/usr/local/lib/python3.6/dist-packages/seaborn/axisgrid.py:243: UserWarning: The `size` parameter has been renamed to `height`; please update your code.\n",
            "  warnings.warn(msg, UserWarning)\n"
          ],
          "name": "stderr"
        },
        {
          "output_type": "execute_result",
          "data": {
            "text/plain": [
              "<seaborn.axisgrid.FacetGrid at 0x7fcb634043c8>"
            ]
          },
          "metadata": {
            "tags": []
          },
          "execution_count": 79
        },
        {
          "output_type": "display_data",
          "data": {
            "image/png": "[encoded data removed]",
            "text/plain": [
              "<Figure size 402.375x360 with 1 Axes>"
            ]
          },
          "metadata": {
            "tags": []
          }
        }
      ]
    },
    {
      "cell_type": "code",
      "metadata": {
        "id": "azIl67lx3utr",
        "colab_type": "code",
        "colab": {}
      },
      "source": [
        "# Revision Point\n",
        "  # Try different combinations manually and write down any specific conculsion or action that you can make. "
      ],
      "execution_count": 0,
      "outputs": []
    },
    {
      "cell_type": "markdown",
      "metadata": {
        "id": "I4uW_QrSNqzD",
        "colab_type": "text"
      },
      "source": [
        "### Plotting Andrews Curve"
      ]
    },
    {
      "cell_type": "code",
      "metadata": {
        "id": "Ch7u80gc5ogi",
        "colab_type": "code",
        "colab": {}
      },
      "source": [
        "Wave --> c1, c2 ,c3, c4, ..... cn \n",
        "\n",
        "c1, c2 --> Columns \n",
        "\n",
        "c1 + c2 + c3 ... cn \n",
        "\n",
        "# For a good segmentated dataset, each line will look different \n",
        "# However, for a data with huge overlaps, this will only look like a single prominant color "
      ],
      "execution_count": 0,
      "outputs": []
    },
    {
      "cell_type": "code",
      "metadata": {
        "id": "yUi1ENkh6PT4",
        "colab_type": "code",
        "outputId": "86d69460-ada9-41c2-dc28-13e7a4f6b757",
        "colab": {
          "base_uri": "https://localhost:8080/",
          "height": 51
        }
      },
      "source": [
        "!pip install pandas.tools"
      ],
      "execution_count": 0,
      "outputs": [
        {
          "output_type": "stream",
          "text": [
            "\u001b[31mERROR: Could not find a version that satisfies the requirement pandas.tools (from versions: none)\u001b[0m\n",
            "\u001b[31mERROR: No matching distribution found for pandas.tools\u001b[0m\n"
          ],
          "name": "stdout"
        }
      ]
    },
    {
      "cell_type": "code",
      "metadata": {
        "id": "yETuzCsz7WBV",
        "colab_type": "code",
        "colab": {}
      },
      "source": [
        "# How much overshowd each class is doing w.r.t to other classes "
      ],
      "execution_count": 0,
      "outputs": []
    },
    {
      "cell_type": "code",
      "metadata": {
        "_cell_guid": "81e9d0e9-3404-4ebb-c896-e4b2af0e80e3",
        "_uuid": "802c23d581acb010257c8cceed097ef6dfae04f1",
        "id": "gGo9SzZbNqzD",
        "colab_type": "code",
        "outputId": "f97ff81a-9638-45fd-d848-eac3e67f8100",
        "colab": {
          "base_uri": "https://localhost:8080/",
          "height": 282
        }
      },
      "source": [
        "# Andrews Curves involve using attributes of samples as coefficients for Fourier series and then plotting these\n",
        "from pandas.plotting import andrews_curves\n",
        "andrews_curves(glass[glass['Type'].isin([2,3,4,5,6])], \"Type\")"
      ],
      "execution_count": 0,
      "outputs": [
        {
          "output_type": "execute_result",
          "data": {
            "text/plain": [
              "<matplotlib.axes._subplots.AxesSubplot at 0x7fcb63329be0>"
            ]
          },
          "metadata": {
            "tags": []
          },
          "execution_count": 87
        },
        {
          "output_type": "display_data",
          "data": {
            "image/png": "[encoded data removed]",
            "text/plain": [
              "<Figure size 432x288 with 1 Axes>"
            ]
          },
          "metadata": {
            "tags": []
          }
        }
      ]
    },
    {
      "cell_type": "code",
      "metadata": {
        "id": "2XF0xzcY6A8R",
        "colab_type": "code",
        "colab": {}
      },
      "source": [
        "# Revision Point \n",
        "# while running this code - remove all rows where type==2 "
      ],
      "execution_count": 0,
      "outputs": []
    },
    {
      "cell_type": "markdown",
      "metadata": {
        "id": "lYBx1cY3NqzI",
        "colab_type": "text"
      },
      "source": [
        "Andrews curves allow one to plot multivariate data as a large number of curves that are created using the attributes of samples as coefficients for Fourier series. By coloring these curves differently for each class it is possible to visualize data clustering. Curves belonging to samples of the same class will usually be closer together and form larger structures."
      ]
    },
    {
      "cell_type": "markdown",
      "metadata": {
        "id": "fBngHweuNqzI",
        "colab_type": "text"
      },
      "source": [
        "### Plotting parallel coordinates"
      ]
    },
    {
      "cell_type": "code",
      "metadata": {
        "_cell_guid": "02095f96-457d-f165-0abf-7a79b87f95f1",
        "_uuid": "7387dcd6902867b2921549628dc441369ba157d5",
        "id": "q0XDYWxmNqzK",
        "colab_type": "code",
        "outputId": "a36fa133-8a75-4b31-907a-dd71e8452ab7",
        "colab": {}
      },
      "source": [
        "# Parallel coordinates plots each feature on a separate column & then draws lines connecting the features for each data sample\n",
        "from pandas.tools.plotting import parallel_coordinates\n",
        "parallel_coordinates(glass, \"Type\")"
      ],
      "execution_count": 0,
      "outputs": [
        {
          "output_type": "stream",
          "text": [
            "C:\\Users\\mrshu\\Anaconda3\\lib\\site-packages\\ipykernel_launcher.py:3: FutureWarning: 'pandas.tools.plotting.parallel_coordinates' is deprecated, import 'pandas.plotting.parallel_coordinates' instead.\n",
            "  This is separate from the ipykernel package so we can avoid doing imports until\n"
          ],
          "name": "stderr"
        },
        {
          "output_type": "execute_result",
          "data": {
            "text/plain": [
              "<matplotlib.axes._subplots.AxesSubplot at 0x20be864c9e8>"
            ]
          },
          "metadata": {
            "tags": []
          },
          "execution_count": 11
        },
        {
          "output_type": "display_data",
          "data": {
            "image/png": "[encoded data removed]",
            "text/plain": [
              "<Figure size 432x288 with 1 Axes>"
            ]
          },
          "metadata": {
            "tags": [],
            "needs_background": "light"
          }
        }
      ]
    },
    {
      "cell_type": "markdown",
      "metadata": {
        "id": "iFVeckOJNqzO",
        "colab_type": "text"
      },
      "source": [
        "### Plotting radviz"
      ]
    },
    {
      "cell_type": "code",
      "metadata": {
        "_cell_guid": "10035edd-bf23-67fa-eca4-9f5b06761c31",
        "_uuid": "7e345ffe235b35e33527894119ce2eebd3b60046",
        "id": "CwrW-ZMeNqzO",
        "colab_type": "code",
        "outputId": "7104e228-686b-4ad0-c78c-17aa21b41f7f",
        "colab": {}
      },
      "source": [
        "# Radviz puts each feature as a point on a 2D plane, and then simulates\n",
        "# having each sample attached to those points through a spring weighted\n",
        "# by the relative value for that feature\n",
        "from pandas.tools.plotting import radviz\n",
        "radviz(glass, \"Type\")"
      ],
      "execution_count": 0,
      "outputs": [
        {
          "output_type": "stream",
          "text": [
            "C:\\Users\\mrshu\\Anaconda3\\lib\\site-packages\\ipykernel_launcher.py:5: FutureWarning: 'pandas.tools.plotting.radviz' is deprecated, import 'pandas.plotting.radviz' instead.\n",
            "  \"\"\"\n"
          ],
          "name": "stderr"
        },
        {
          "output_type": "execute_result",
          "data": {
            "text/plain": [
              "<matplotlib.axes._subplots.AxesSubplot at 0x20be8c5fe48>"
            ]
          },
          "metadata": {
            "tags": []
          },
          "execution_count": 12
        },
        {
          "output_type": "display_data",
          "data": {
            "image/png": "[encoded data removed]",
            "text/plain": [
              "<Figure size 432x288 with 1 Axes>"
            ]
          },
          "metadata": {
            "tags": [],
            "needs_background": "light"
          }
        }
      ]
    },
    {
      "cell_type": "markdown",
      "metadata": {
        "id": "n9HVxfRFNqzR",
        "colab_type": "text"
      },
      "source": [
        "<a id=section5></a>"
      ]
    },
    {
      "cell_type": "markdown",
      "metadata": {
        "id": "84WFkdMDNqzR",
        "colab_type": "text"
      },
      "source": [
        "## 5. Data Standardization"
      ]
    },
    {
      "cell_type": "markdown",
      "metadata": {
        "id": "WrNTDuXSNqzR",
        "colab_type": "text"
      },
      "source": [
        "### Compute the skewness of the data"
      ]
    },
    {
      "cell_type": "code",
      "metadata": {
        "_cell_guid": "341158fe-ec4c-df53-77fd-50b29bef6ea1",
        "_uuid": "740ab6ec36ab935f68fd2a838e6e666f6f148876",
        "id": "5HNt8X8dNqzS",
        "colab_type": "code",
        "outputId": "ba166ce6-6f26-41d4-8c58-bfd650f71393",
        "colab": {
          "base_uri": "https://localhost:8080/",
          "height": 204
        }
      },
      "source": [
        "glass.skew()"
      ],
      "execution_count": 0,
      "outputs": [
        {
          "output_type": "execute_result",
          "data": {
            "text/plain": [
              "RI      1.625431\n",
              "Na      0.454181\n",
              "Mg     -1.152559\n",
              "Al      0.907290\n",
              "Si     -0.730447\n",
              "K       6.551648\n",
              "Ca      2.047054\n",
              "Ba      3.416425\n",
              "Fe      1.754327\n",
              "Type    1.114915\n",
              "dtype: float64"
            ]
          },
          "metadata": {
            "tags": []
          },
          "execution_count": 10
        }
      ]
    },
    {
      "cell_type": "markdown",
      "metadata": {
        "id": "h6XLQH6BNqzV",
        "colab_type": "text"
      },
      "source": [
        "### Using StandardScaler to standardize the data"
      ]
    },
    {
      "cell_type": "code",
      "metadata": {
        "id": "_9wk5qvasU0-",
        "colab_type": "code",
        "colab": {}
      },
      "source": [
        "# Assignment \n",
        "# try other scaling algo's - znormalization, min max sacaling etc "
      ],
      "execution_count": 0,
      "outputs": []
    },
    {
      "cell_type": "code",
      "metadata": {
        "_cell_guid": "4ab589b3-9b62-e169-2e3f-95dd85670419",
        "_uuid": "1e3c43a43089b6cd80cf7f72a3325ad85506a3d4",
        "id": "Hsc6N9-oNqzW",
        "colab_type": "code",
        "outputId": "0ff062cc-4716-4a47-ac2c-855da4164540",
        "colab": {
          "base_uri": "https://localhost:8080/",
          "height": 187
        }
      },
      "source": [
        "from sklearn.preprocessing import StandardScaler\n",
        "sc = StandardScaler()\n",
        "\n",
        "label = glass.pop('Type')\n",
        "\n",
        "sc.fit(glass)                                                                                   # fit the data to Standardscaler\n",
        "\n",
        "glass_scale = sc.transform(glass)                                                               # transform the data\n",
        "\n",
        "print('After standardizing our features, the first 5 rows of our data now look like this:\\n')   # print the first 5 value after standardization\n",
        "print(pd.DataFrame(glass_scale, columns=glass.columns).head())                                  # Put it to dataframe                              \n"
      ],
      "execution_count": 0,
      "outputs": [
        {
          "output_type": "stream",
          "text": [
            "After standardizing our features, the first 5 rows of our data now look like this:\n",
            "\n",
            "         RI        Na        Mg  ...        Ca        Ba        Fe\n",
            "0  0.872868  0.284953  1.254639  ... -0.145766 -0.352877 -0.586451\n",
            "1 -0.249333  0.591817  0.636168  ... -0.793734 -0.352877 -0.586451\n",
            "2 -0.721318  0.149933  0.601422  ... -0.828949 -0.352877 -0.586451\n",
            "3 -0.232831 -0.242853  0.698710  ... -0.519052 -0.352877 -0.586451\n",
            "4 -0.312045 -0.169205  0.650066  ... -0.624699 -0.352877 -0.586451\n",
            "\n",
            "[5 rows x 9 columns]\n"
          ],
          "name": "stdout"
        }
      ]
    },
    {
      "cell_type": "markdown",
      "metadata": {
        "id": "86dgEihbNqzY",
        "colab_type": "text"
      },
      "source": [
        "### Compute skewness after StandardScaler"
      ]
    },
    {
      "cell_type": "code",
      "metadata": {
        "_cell_guid": "599063c0-9fae-1889-e31b-4595bdf4e2bb",
        "_uuid": "0c2c8ad21cea338500826f7a67a83c2b738c49cf",
        "id": "5RskoQ9-NqzY",
        "colab_type": "code",
        "outputId": "e906a6e3-6c25-4cb7-aa36-d367d3ff6601",
        "colab": {
          "base_uri": "https://localhost:8080/",
          "height": 187
        }
      },
      "source": [
        "pd.DataFrame(glass_scale).skew()"
      ],
      "execution_count": 0,
      "outputs": [
        {
          "output_type": "execute_result",
          "data": {
            "text/plain": [
              "0    1.625431\n",
              "1    0.454181\n",
              "2   -1.152559\n",
              "3    0.907290\n",
              "4   -0.730447\n",
              "5    6.551648\n",
              "6    2.047054\n",
              "7    3.416425\n",
              "8    1.754327\n",
              "dtype: float64"
            ]
          },
          "metadata": {
            "tags": []
          },
          "execution_count": 12
        }
      ]
    },
    {
      "cell_type": "markdown",
      "metadata": {
        "id": "oteT731aafns",
        "colab_type": "text"
      },
      "source": [
        "# Try different scaling/standardized methods "
      ]
    },
    {
      "cell_type": "markdown",
      "metadata": {
        "id": "YPeDgARYNqzd",
        "colab_type": "text"
      },
      "source": [
        "<a id=section6></a>"
      ]
    },
    {
      "cell_type": "markdown",
      "metadata": {
        "id": "PyuYOufvNqze",
        "colab_type": "text"
      },
      "source": [
        "## 6. Train-Test split"
      ]
    },
    {
      "cell_type": "code",
      "metadata": {
        "_cell_guid": "b2e6a1da-1e5a-c2f0-8a2f-2c82f2ed7327",
        "_uuid": "c53a90d61adaab48c5401b159ee8affb752176f0",
        "id": "4AM6pSZ9Nqzg",
        "colab_type": "code",
        "colab": {}
      },
      "source": [
        "from sklearn.model_selection import train_test_split\n",
        "data_train, data_test, label_train, label_test = train_test_split(glass_scale, label, test_size = 0.3, random_state = 42)"
      ],
      "execution_count": 0,
      "outputs": []
    },
    {
      "cell_type": "markdown",
      "metadata": {
        "id": "CDm7Gkp3Nqzi",
        "colab_type": "text"
      },
      "source": [
        "### Check the shape of data_train and data_test"
      ]
    },
    {
      "cell_type": "code",
      "metadata": {
        "id": "ZGA65-zmNqzj",
        "colab_type": "code",
        "outputId": "faab721b-70d5-4b16-da9e-5a3a85c24517",
        "colab": {
          "base_uri": "https://localhost:8080/",
          "height": 51
        }
      },
      "source": [
        "print('There are {} samples in the training set and {} samples in the test set'.format(\n",
        "data_train.shape[0], data_test.shape[0]))\n",
        "print()"
      ],
      "execution_count": 0,
      "outputs": [
        {
          "output_type": "stream",
          "text": [
            "There are 149 samples in the training set and 65 samples in the test set\n",
            "\n"
          ],
          "name": "stdout"
        }
      ]
    },
    {
      "cell_type": "code",
      "metadata": {
        "id": "Ik2zluJhiXXV",
        "colab_type": "code",
        "outputId": "98fefa4a-b008-4fc9-b9b9-e38d7b11a7fb",
        "colab": {
          "base_uri": "https://localhost:8080/",
          "height": 54
        }
      },
      "source": [
        "from sklearn.neighbors import KNeighborsClassifier\n",
        "from sklearn.metrics import accuracy_score\n",
        "import numpy as np\n",
        "\n",
        "K = np.sqrt(data_train.shape[0])\n",
        "plusminus_range = 5 \n",
        "End_Range = k + plusminus_range\n",
        "Start_Range = K - plusminus_range\n",
        "#mean_acc = np.zeros((Ks-1))\n",
        "accuracy = {}\n",
        "\n",
        "for n in range(Start_Range,End_Range):\n",
        "    #Train Model and Predict  \n",
        "    knn = KNeighborsClassifier(n_neighbors = n).fit(data_train,label_train)\n",
        "    y_preds=knn.predict(data_test)\n",
        "    accuracy[n] = accuracy_score(label_test,y_preds)\n",
        "    #mean_acc[n-1] = accuracy_score(label_test,y_preds)\n",
        "\n",
        "print(accuracy)"
      ],
      "execution_count": 0,
      "outputs": [
        {
          "output_type": "stream",
          "text": [
            "{8: 0.6461538461538462, 9: 0.6153846153846154, 10: 0.6307692307692307, 11: 0.6461538461538462, 12: 0.6615384615384615, 13: 0.6461538461538462, 14: 0.6153846153846154, 15: 0.6, 16: 0.6, 17: 0.6153846153846154, 18: 0.5846153846153846, 19: 0.6, 20: 0.6153846153846154, 21: 0.6, 22: 0.6, 23: 0.6, 24: 0.6, 25: 0.6, 26: 0.6, 27: 0.5846153846153846, 28: 0.6, 29: 0.6}\n"
          ],
          "name": "stdout"
        }
      ]
    },
    {
      "cell_type": "code",
      "metadata": {
        "id": "ynwgVKY6lbVp",
        "colab_type": "code",
        "outputId": "4352abea-e91b-46c7-e313-d400ca148724",
        "colab": {
          "base_uri": "https://localhost:8080/",
          "height": 731
        }
      },
      "source": [
        "pd.DataFrame(accuracy, index=[0]).T"
      ],
      "execution_count": 0,
      "outputs": [
        {
          "output_type": "execute_result",
          "data": {
            "text/html": [
              "<div>\n",
              "<style scoped>\n",
              "    .dataframe tbody tr th:only-of-type {\n",
              "        vertical-align: middle;\n",
              "    }\n",
              "\n",
              "    .dataframe tbody tr th {\n",
              "        vertical-align: top;\n",
              "    }\n",
              "\n",
              "    .dataframe thead th {\n",
              "        text-align: right;\n",
              "    }\n",
              "</style>\n",
              "<table border=\"1\" class=\"dataframe\">\n",
              "  <thead>\n",
              "    <tr style=\"text-align: right;\">\n",
              "      <th></th>\n",
              "      <th>0</th>\n",
              "    </tr>\n",
              "  </thead>\n",
              "  <tbody>\n",
              "    <tr>\n",
              "      <th>8</th>\n",
              "      <td>0.646154</td>\n",
              "    </tr>\n",
              "    <tr>\n",
              "      <th>9</th>\n",
              "      <td>0.615385</td>\n",
              "    </tr>\n",
              "    <tr>\n",
              "      <th>10</th>\n",
              "      <td>0.630769</td>\n",
              "    </tr>\n",
              "    <tr>\n",
              "      <th>11</th>\n",
              "      <td>0.646154</td>\n",
              "    </tr>\n",
              "    <tr>\n",
              "      <th>12</th>\n",
              "      <td>0.661538</td>\n",
              "    </tr>\n",
              "    <tr>\n",
              "      <th>13</th>\n",
              "      <td>0.646154</td>\n",
              "    </tr>\n",
              "    <tr>\n",
              "      <th>14</th>\n",
              "      <td>0.615385</td>\n",
              "    </tr>\n",
              "    <tr>\n",
              "      <th>15</th>\n",
              "      <td>0.600000</td>\n",
              "    </tr>\n",
              "    <tr>\n",
              "      <th>16</th>\n",
              "      <td>0.600000</td>\n",
              "    </tr>\n",
              "    <tr>\n",
              "      <th>17</th>\n",
              "      <td>0.615385</td>\n",
              "    </tr>\n",
              "    <tr>\n",
              "      <th>18</th>\n",
              "      <td>0.584615</td>\n",
              "    </tr>\n",
              "    <tr>\n",
              "      <th>19</th>\n",
              "      <td>0.600000</td>\n",
              "    </tr>\n",
              "    <tr>\n",
              "      <th>20</th>\n",
              "      <td>0.615385</td>\n",
              "    </tr>\n",
              "    <tr>\n",
              "      <th>21</th>\n",
              "      <td>0.600000</td>\n",
              "    </tr>\n",
              "    <tr>\n",
              "      <th>22</th>\n",
              "      <td>0.600000</td>\n",
              "    </tr>\n",
              "    <tr>\n",
              "      <th>23</th>\n",
              "      <td>0.600000</td>\n",
              "    </tr>\n",
              "    <tr>\n",
              "      <th>24</th>\n",
              "      <td>0.600000</td>\n",
              "    </tr>\n",
              "    <tr>\n",
              "      <th>25</th>\n",
              "      <td>0.600000</td>\n",
              "    </tr>\n",
              "    <tr>\n",
              "      <th>26</th>\n",
              "      <td>0.600000</td>\n",
              "    </tr>\n",
              "    <tr>\n",
              "      <th>27</th>\n",
              "      <td>0.584615</td>\n",
              "    </tr>\n",
              "    <tr>\n",
              "      <th>28</th>\n",
              "      <td>0.600000</td>\n",
              "    </tr>\n",
              "    <tr>\n",
              "      <th>29</th>\n",
              "      <td>0.600000</td>\n",
              "    </tr>\n",
              "  </tbody>\n",
              "</table>\n",
              "</div>"
            ],
            "text/plain": [
              "           0\n",
              "8   0.646154\n",
              "9   0.615385\n",
              "10  0.630769\n",
              "11  0.646154\n",
              "12  0.661538\n",
              "13  0.646154\n",
              "14  0.615385\n",
              "15  0.600000\n",
              "16  0.600000\n",
              "17  0.615385\n",
              "18  0.584615\n",
              "19  0.600000\n",
              "20  0.615385\n",
              "21  0.600000\n",
              "22  0.600000\n",
              "23  0.600000\n",
              "24  0.600000\n",
              "25  0.600000\n",
              "26  0.600000\n",
              "27  0.584615\n",
              "28  0.600000\n",
              "29  0.600000"
            ]
          },
          "metadata": {
            "tags": []
          },
          "execution_count": 48
        }
      ]
    },
    {
      "cell_type": "code",
      "metadata": {
        "id": "31gG5BZJlj7u",
        "colab_type": "code",
        "colab": {}
      },
      "source": [
        "# Assignment \n",
        "# see if you can plot the accuracies of the above dictinary \n",
        "# Pick the highest accuracy of ODD index \n",
        "# Run the ranges only for ODD Values \n",
        "# Automatically create a Possible Approx K Values by Sqrt(total rows)\n",
        "    # based on this and +- range -- define the start and end range in for loop.\n",
        "# Step Value which is curently 5 - think of a automation logic for that as well \n",
        "    # 10% of k \n",
        "    # The goal of Step number is to make sure that you are not doing to many computations \n",
        "# Calculate time for each K value   (Optional)"
      ],
      "execution_count": 0,
      "outputs": []
    },
    {
      "cell_type": "markdown",
      "metadata": {
        "id": "25Yhoax7qroj",
        "colab_type": "text"
      },
      "source": [
        "from sklearn.neighbors import KNeighborsClassifier\n",
        "from sklearn.metrics import accuracy_score\n",
        "import numpy as np\n",
        "\n",
        "K = int(np.sqrt(data_train.shape[0]))\n",
        "print(K)\n",
        "pmrange = int(K/2)\n",
        "print(pmrange)\n",
        "endrange = K + pmrange\n",
        "startrange = K - pmrange\n",
        "\n",
        "K_range = range(startrange,endrange)\n",
        "ran = []\n",
        "for i in K_range:\n",
        "    if (i % 2) != 0:\n",
        "        ran.append(i)\n",
        "accuracy = {}\n",
        "\n",
        "for n in ran:\n",
        "    #Train Model and Predict  \n",
        "    knn = KNeighborsClassifier(n_neighbors = n).fit(data_train,label_train)\n",
        "    y_preds=knn.predict(data_test)\n",
        "    accuracy[n] = accuracy_score(label_test,y_preds)\n",
        "    #mean_acc[n-1] = accuracy_score(label_test,y_preds)\n",
        "\n",
        "print(accuracy)\n",
        "# pd.DataFrame(accuracy, index=[0]).T\n",
        "\n",
        "\n",
        "import seaborn as sns\n",
        "dww  = pd.DataFrame(data={'accuracy':list(accuracy.values())})\n",
        "dww.reset_index(inplace=True)\n",
        "sns.lineplot(x='index', y='accuracy',data=dww) "
      ]
    },
    {
      "cell_type": "markdown",
      "metadata": {
        "id": "WhVYThp8qYa_",
        "colab_type": "text"
      },
      "source": [
        "from datetime import datetime\n",
        "start_time = datetime.now()\n",
        "end_time = datetime.now()\n",
        "time_taken = end_time - start_time"
      ]
    },
    {
      "cell_type": "code",
      "metadata": {
        "id": "vLvjgPONp2JU",
        "colab_type": "code",
        "outputId": "e7511811-d2d8-4338-e8e0-dde29295643c",
        "colab": {
          "base_uri": "https://localhost:8080/",
          "height": 296
        }
      },
      "source": [
        "import seaborn as sns\n",
        "dww  = pd.DataFrame(data={'accuracy':list(accuracy.values())}, index = accuracy.keys())\n",
        "dww.reset_index(inplace=True)\n",
        "sns.barplot(x='index', y='accuracy',data=dww,)"
      ],
      "execution_count": 0,
      "outputs": [
        {
          "output_type": "execute_result",
          "data": {
            "text/plain": [
              "<matplotlib.axes._subplots.AxesSubplot at 0x7fcb63efcc18>"
            ]
          },
          "metadata": {
            "tags": []
          },
          "execution_count": 50
        },
        {
          "output_type": "display_data",
          "data": {
            "image/png": "[encoded data removed]",
            "text/plain": [
              "<Figure size 432x288 with 1 Axes>"
            ]
          },
          "metadata": {
            "tags": []
          }
        }
      ]
    },
    {
      "cell_type": "markdown",
      "metadata": {
        "id": "v3jMFRA9Nqzm",
        "colab_type": "text"
      },
      "source": [
        "## 7. Modelling and prediction"
      ]
    },
    {
      "cell_type": "markdown",
      "metadata": {
        "_cell_guid": "11370d3e-5e5d-83fe-5837-29bef88ce81c",
        "_uuid": "a73e8c27818fb32a7f5243251fe1508e1784555c",
        "id": "_nYrrmLDNqzn",
        "colab_type": "text"
      },
      "source": [
        "### 7.1.(a) Instantiate K nearest neighbour Classifier"
      ]
    },
    {
      "cell_type": "code",
      "metadata": {
        "id": "_lw5wRmhusqX",
        "colab_type": "code",
        "colab": {}
      },
      "source": [
        " 12 +-5 ---> Range of K to try  \n",
        "\n",
        " # Try running a for loop with general K values derived out of sqrt +- value "
      ],
      "execution_count": 0,
      "outputs": []
    },
    {
      "cell_type": "code",
      "metadata": {
        "id": "lJxGtZrtnyOX",
        "colab_type": "code",
        "colab": {}
      },
      "source": [
        "k = sqrt(total rown)\n",
        "K + 5\n",
        "K - 5 \n",
        "Assuming the steps to be 5 "
      ],
      "execution_count": 0,
      "outputs": []
    },
    {
      "cell_type": "code",
      "metadata": {
        "_cell_guid": "a0b49be7-cd7e-672d-3f9f-baa92d1b70fb",
        "_uuid": "3deb23d3c2026a72257b61a1005c449445b04253",
        "id": "fj91WpjDNqzo",
        "colab_type": "code",
        "colab": {}
      },
      "source": [
        "from sklearn.neighbors import KNeighborsClassifier\n",
        "knn = KNeighborsClassifier(n_neighbors=13, p=2, metric='minkowski',n_jobs=-1) # Euclidean  # 3, 7, 13, 20 \n",
        "\n",
        "# for euclidean --> metric = 'minkowski' and p = 2"
      ],
      "execution_count": 0,
      "outputs": []
    },
    {
      "cell_type": "markdown",
      "metadata": {
        "id": "HlLz2oLCNqzp",
        "colab_type": "text"
      },
      "source": [
        "### 7.1.(b) Fit the model"
      ]
    },
    {
      "cell_type": "code",
      "metadata": {
        "id": "0m6Nr1jDNqzq",
        "colab_type": "code",
        "outputId": "9b258d2c-536d-47f5-d2ee-19038fc597a5",
        "colab": {
          "base_uri": "https://localhost:8080/",
          "height": 68
        }
      },
      "source": [
        "knn.fit(data_train, label_train)"
      ],
      "execution_count": 0,
      "outputs": [
        {
          "output_type": "execute_result",
          "data": {
            "text/plain": [
              "KNeighborsClassifier(algorithm='auto', leaf_size=30, metric='minkowski',\n",
              "                     metric_params=None, n_jobs=-1, n_neighbors=13, p=2,\n",
              "                     weights='uniform')"
            ]
          },
          "metadata": {
            "tags": []
          },
          "execution_count": 58
        }
      ]
    },
    {
      "cell_type": "markdown",
      "metadata": {
        "id": "CSVYeNtQNqzr",
        "colab_type": "text"
      },
      "source": [
        "### 7.1.(c) Use the model for prediction"
      ]
    },
    {
      "cell_type": "code",
      "metadata": {
        "id": "cRE6vgNANqzs",
        "colab_type": "code",
        "colab": {}
      },
      "source": [
        "y_preds = knn.predict(data_test)"
      ],
      "execution_count": 0,
      "outputs": []
    },
    {
      "cell_type": "markdown",
      "metadata": {
        "id": "2ryxKI5bNqzt",
        "colab_type": "text"
      },
      "source": [
        "### 7.1.(d) Model evaluation using accuracy score"
      ]
    },
    {
      "cell_type": "code",
      "metadata": {
        "id": "svwUdIA3Nqzu",
        "colab_type": "code",
        "outputId": "737a489a-b876-45b6-f1c7-095ff29309e9",
        "colab": {
          "base_uri": "https://localhost:8080/",
          "height": 34
        }
      },
      "source": [
        "from sklearn.metrics import accuracy_score\n",
        "knn_accuracy = accuracy_score(label_test,y_preds)\n",
        "print('Accuracy score for the KNN model:', knn_accuracy)"
      ],
      "execution_count": 0,
      "outputs": [
        {
          "output_type": "stream",
          "text": [
            "Accuracy score for the KNN model: 0.6461538461538462\n"
          ],
          "name": "stdout"
        }
      ]
    },
    {
      "cell_type": "markdown",
      "metadata": {
        "id": "YX3gzOs7Nqzx",
        "colab_type": "text"
      },
      "source": [
        "### 7.2.(a) Instantiate Logistic Regression"
      ]
    },
    {
      "cell_type": "code",
      "metadata": {
        "_cell_guid": "e70ad3b4-5189-fe1a-22d3-90ee5a4f774d",
        "_uuid": "81baaf8bdac0ca92efc7e886369c5077252b3485",
        "id": "OUyM3FYJNqzz",
        "colab_type": "code",
        "colab": {}
      },
      "source": [
        "from sklearn.linear_model import LogisticRegression\n",
        "logis = LogisticRegression()"
      ],
      "execution_count": 0,
      "outputs": []
    },
    {
      "cell_type": "markdown",
      "metadata": {
        "id": "b3Yku9jgNqz1",
        "colab_type": "text"
      },
      "source": [
        "### 7.2.(b) Fit the model"
      ]
    },
    {
      "cell_type": "code",
      "metadata": {
        "id": "DmgpwkTTNqz1",
        "colab_type": "code",
        "outputId": "d6773270-8a9c-4a5b-c47d-ea2442d68f4d",
        "colab": {
          "base_uri": "https://localhost:8080/",
          "height": 102
        }
      },
      "source": [
        "logis.fit(data_train, label_train)"
      ],
      "execution_count": 0,
      "outputs": [
        {
          "output_type": "execute_result",
          "data": {
            "text/plain": [
              "LogisticRegression(C=1.0, class_weight=None, dual=False, fit_intercept=True,\n",
              "                   intercept_scaling=1, l1_ratio=None, max_iter=100,\n",
              "                   multi_class='auto', n_jobs=None, penalty='l2',\n",
              "                   random_state=None, solver='lbfgs', tol=0.0001, verbose=0,\n",
              "                   warm_start=False)"
            ]
          },
          "metadata": {
            "tags": []
          },
          "execution_count": 52
        }
      ]
    },
    {
      "cell_type": "markdown",
      "metadata": {
        "id": "uMeXS4MCNqz4",
        "colab_type": "text"
      },
      "source": [
        "### 7.2.(c) Use the model for prediction"
      ]
    },
    {
      "cell_type": "code",
      "metadata": {
        "id": "mMIe9pVKNqz4",
        "colab_type": "code",
        "colab": {}
      },
      "source": [
        "y_pred = logis.predict(data_test)"
      ],
      "execution_count": 0,
      "outputs": []
    },
    {
      "cell_type": "markdown",
      "metadata": {
        "id": "4itsk_Y3Nqz5",
        "colab_type": "text"
      },
      "source": [
        "### 7.2.(d) Model Evaluation using Accuracy score"
      ]
    },
    {
      "cell_type": "code",
      "metadata": {
        "id": "og1wYxYPNqz6",
        "colab_type": "code",
        "outputId": "62b4f6ad-5ccd-44dc-c429-319cfc6063ea",
        "colab": {
          "base_uri": "https://localhost:8080/",
          "height": 34
        }
      },
      "source": [
        "from sklearn.metrics import accuracy_score\n",
        "logit_accuracy = accuracy_score(label_test,y_pred)\n",
        "print('Accuracy score for the Logistic model:', logit_accuracy)"
      ],
      "execution_count": 0,
      "outputs": [
        {
          "output_type": "stream",
          "text": [
            "Accuracy score for the Logistic model: 0.676923076923077\n"
          ],
          "name": "stdout"
        }
      ]
    },
    {
      "cell_type": "markdown",
      "metadata": {
        "id": "T5r3NtJINqz8",
        "colab_type": "text"
      },
      "source": [
        "<a id=section8></a>"
      ]
    },
    {
      "cell_type": "markdown",
      "metadata": {
        "id": "zXLK-eccNqz9",
        "colab_type": "text"
      },
      "source": [
        "## 8. Model comparison using accuracy score"
      ]
    },
    {
      "cell_type": "code",
      "metadata": {
        "id": "7tS9GXrBNqz9",
        "colab_type": "code",
        "outputId": "d3d0fcfd-ca60-46c8-989c-bf6ab474880b",
        "colab": {
          "base_uri": "https://localhost:8080/",
          "height": 111
        }
      },
      "source": [
        "models = pd.DataFrame({\n",
        "        'Model'          : ['Logistic Regression', 'kNN'],\n",
        "        'Accuracy_score' : [logit_accuracy, knn_accuracy]\n",
        "    })\n",
        "models.sort_values(by='Accuracy_score', ascending=False)"
      ],
      "execution_count": 0,
      "outputs": [
        {
          "output_type": "execute_result",
          "data": {
            "text/html": [
              "<div>\n",
              "<style scoped>\n",
              "    .dataframe tbody tr th:only-of-type {\n",
              "        vertical-align: middle;\n",
              "    }\n",
              "\n",
              "    .dataframe tbody tr th {\n",
              "        vertical-align: top;\n",
              "    }\n",
              "\n",
              "    .dataframe thead th {\n",
              "        text-align: right;\n",
              "    }\n",
              "</style>\n",
              "<table border=\"1\" class=\"dataframe\">\n",
              "  <thead>\n",
              "    <tr style=\"text-align: right;\">\n",
              "      <th></th>\n",
              "      <th>Model</th>\n",
              "      <th>Accuracy_score</th>\n",
              "    </tr>\n",
              "  </thead>\n",
              "  <tbody>\n",
              "    <tr>\n",
              "      <th>0</th>\n",
              "      <td>Logistic Regression</td>\n",
              "      <td>0.676923</td>\n",
              "    </tr>\n",
              "    <tr>\n",
              "      <th>1</th>\n",
              "      <td>kNN</td>\n",
              "      <td>0.646154</td>\n",
              "    </tr>\n",
              "  </tbody>\n",
              "</table>\n",
              "</div>"
            ],
            "text/plain": [
              "                 Model  Accuracy_score\n",
              "0  Logistic Regression        0.676923\n",
              "1                  kNN        0.646154"
            ]
          },
          "metadata": {
            "tags": []
          },
          "execution_count": 61
        }
      ]
    },
    {
      "cell_type": "markdown",
      "metadata": {
        "id": "OSt1K-O6Nqz_",
        "colab_type": "text"
      },
      "source": [
        "<a id=section9></a>"
      ]
    },
    {
      "cell_type": "markdown",
      "metadata": {
        "id": "uqNdr7mqNqz_",
        "colab_type": "text"
      },
      "source": [
        "## 9. Implementing KNN regressor using iris dataset"
      ]
    },
    {
      "cell_type": "code",
      "metadata": {
        "_uuid": "f7004ee385b0ed50a5c5a238ce1e943dbd88a7a1",
        "id": "o7Qq_CFbNqz_",
        "colab_type": "code",
        "colab": {}
      },
      "source": [
        "# Importing the iris\n",
        "iris = pd.read_csv('https://raw.githubusercontent.com/insaid2018/Term-3/master/Data/CaseStudy/Iris.csv')"
      ],
      "execution_count": 0,
      "outputs": []
    },
    {
      "cell_type": "markdown",
      "metadata": {
        "_uuid": "d6d0db37957228f9ad34ae5719f0d32639c2dfae",
        "id": "uQmzsBbxNq0B",
        "colab_type": "text"
      },
      "source": [
        "### 9.1 Summarize the iris"
      ]
    },
    {
      "cell_type": "code",
      "metadata": {
        "_uuid": "155ac54ae57dc8e9eb92a85d75bfc32a0d16e279",
        "id": "_VanHgCUNq0B",
        "colab_type": "code",
        "outputId": "5865eb59-cb37-4a6b-f535-5552fbeb1d54",
        "colab": {
          "base_uri": "https://localhost:8080/",
          "height": 34
        }
      },
      "source": [
        "# We can get a quick idea of how many instances (rows) and how many attributes (columns) the data contains with the shape property.\n",
        "iris.shape"
      ],
      "execution_count": 0,
      "outputs": [
        {
          "output_type": "execute_result",
          "data": {
            "text/plain": [
              "(150, 6)"
            ]
          },
          "metadata": {
            "tags": []
          },
          "execution_count": 42
        }
      ]
    },
    {
      "cell_type": "code",
      "metadata": {
        "_uuid": "69f70bb38e56e65e10e2701887f60dbea06e13cd",
        "id": "cQsr3ePtNq0D",
        "colab_type": "code",
        "outputId": "a2b24a2f-10c6-4116-f619-e63a569da54e",
        "colab": {
          "base_uri": "https://localhost:8080/",
          "height": 204
        }
      },
      "source": [
        "iris.head(5)"
      ],
      "execution_count": 0,
      "outputs": [
        {
          "output_type": "execute_result",
          "data": {
            "text/html": [
              "<div>\n",
              "<style scoped>\n",
              "    .dataframe tbody tr th:only-of-type {\n",
              "        vertical-align: middle;\n",
              "    }\n",
              "\n",
              "    .dataframe tbody tr th {\n",
              "        vertical-align: top;\n",
              "    }\n",
              "\n",
              "    .dataframe thead th {\n",
              "        text-align: right;\n",
              "    }\n",
              "</style>\n",
              "<table border=\"1\" class=\"dataframe\">\n",
              "  <thead>\n",
              "    <tr style=\"text-align: right;\">\n",
              "      <th></th>\n",
              "      <th>Id</th>\n",
              "      <th>SepalLengthCm</th>\n",
              "      <th>SepalWidthCm</th>\n",
              "      <th>PetalLengthCm</th>\n",
              "      <th>PetalWidthCm</th>\n",
              "      <th>Species</th>\n",
              "    </tr>\n",
              "  </thead>\n",
              "  <tbody>\n",
              "    <tr>\n",
              "      <th>0</th>\n",
              "      <td>1</td>\n",
              "      <td>5.1</td>\n",
              "      <td>3.5</td>\n",
              "      <td>1.4</td>\n",
              "      <td>0.2</td>\n",
              "      <td>Iris-setosa</td>\n",
              "    </tr>\n",
              "    <tr>\n",
              "      <th>1</th>\n",
              "      <td>2</td>\n",
              "      <td>4.9</td>\n",
              "      <td>3.0</td>\n",
              "      <td>1.4</td>\n",
              "      <td>0.2</td>\n",
              "      <td>Iris-setosa</td>\n",
              "    </tr>\n",
              "    <tr>\n",
              "      <th>2</th>\n",
              "      <td>3</td>\n",
              "      <td>4.7</td>\n",
              "      <td>3.2</td>\n",
              "      <td>1.3</td>\n",
              "      <td>0.2</td>\n",
              "      <td>Iris-setosa</td>\n",
              "    </tr>\n",
              "    <tr>\n",
              "      <th>3</th>\n",
              "      <td>4</td>\n",
              "      <td>4.6</td>\n",
              "      <td>3.1</td>\n",
              "      <td>1.5</td>\n",
              "      <td>0.2</td>\n",
              "      <td>Iris-setosa</td>\n",
              "    </tr>\n",
              "    <tr>\n",
              "      <th>4</th>\n",
              "      <td>5</td>\n",
              "      <td>5.0</td>\n",
              "      <td>3.6</td>\n",
              "      <td>1.4</td>\n",
              "      <td>0.2</td>\n",
              "      <td>Iris-setosa</td>\n",
              "    </tr>\n",
              "  </tbody>\n",
              "</table>\n",
              "</div>"
            ],
            "text/plain": [
              "   Id  SepalLengthCm  SepalWidthCm  PetalLengthCm  PetalWidthCm      Species\n",
              "0   1            5.1           3.5            1.4           0.2  Iris-setosa\n",
              "1   2            4.9           3.0            1.4           0.2  Iris-setosa\n",
              "2   3            4.7           3.2            1.3           0.2  Iris-setosa\n",
              "3   4            4.6           3.1            1.5           0.2  Iris-setosa\n",
              "4   5            5.0           3.6            1.4           0.2  Iris-setosa"
            ]
          },
          "metadata": {
            "tags": []
          },
          "execution_count": 43
        }
      ]
    },
    {
      "cell_type": "code",
      "metadata": {
        "_uuid": "0fcbdae769cfd453325a28affc07c0292ab277cf",
        "id": "Lc3kAFJeNq0F",
        "colab_type": "code",
        "outputId": "c9ac45b8-f156-4fe8-af84-e74eaee218cb",
        "colab": {}
      },
      "source": [
        "iris.describe()"
      ],
      "execution_count": 0,
      "outputs": [
        {
          "output_type": "execute_result",
          "data": {
            "text/html": [
              "<div>\n",
              "<style scoped>\n",
              "    .dataframe tbody tr th:only-of-type {\n",
              "        vertical-align: middle;\n",
              "    }\n",
              "\n",
              "    .dataframe tbody tr th {\n",
              "        vertical-align: top;\n",
              "    }\n",
              "\n",
              "    .dataframe thead th {\n",
              "        text-align: right;\n",
              "    }\n",
              "</style>\n",
              "<table border=\"1\" class=\"dataframe\">\n",
              "  <thead>\n",
              "    <tr style=\"text-align: right;\">\n",
              "      <th></th>\n",
              "      <th>Id</th>\n",
              "      <th>SepalLengthCm</th>\n",
              "      <th>SepalWidthCm</th>\n",
              "      <th>PetalLengthCm</th>\n",
              "      <th>PetalWidthCm</th>\n",
              "    </tr>\n",
              "  </thead>\n",
              "  <tbody>\n",
              "    <tr>\n",
              "      <th>count</th>\n",
              "      <td>150.000000</td>\n",
              "      <td>150.000000</td>\n",
              "      <td>150.000000</td>\n",
              "      <td>150.000000</td>\n",
              "      <td>150.000000</td>\n",
              "    </tr>\n",
              "    <tr>\n",
              "      <th>mean</th>\n",
              "      <td>75.500000</td>\n",
              "      <td>5.843333</td>\n",
              "      <td>3.054000</td>\n",
              "      <td>3.758667</td>\n",
              "      <td>1.198667</td>\n",
              "    </tr>\n",
              "    <tr>\n",
              "      <th>std</th>\n",
              "      <td>43.445368</td>\n",
              "      <td>0.828066</td>\n",
              "      <td>0.433594</td>\n",
              "      <td>1.764420</td>\n",
              "      <td>0.763161</td>\n",
              "    </tr>\n",
              "    <tr>\n",
              "      <th>min</th>\n",
              "      <td>1.000000</td>\n",
              "      <td>4.300000</td>\n",
              "      <td>2.000000</td>\n",
              "      <td>1.000000</td>\n",
              "      <td>0.100000</td>\n",
              "    </tr>\n",
              "    <tr>\n",
              "      <th>25%</th>\n",
              "      <td>38.250000</td>\n",
              "      <td>5.100000</td>\n",
              "      <td>2.800000</td>\n",
              "      <td>1.600000</td>\n",
              "      <td>0.300000</td>\n",
              "    </tr>\n",
              "    <tr>\n",
              "      <th>50%</th>\n",
              "      <td>75.500000</td>\n",
              "      <td>5.800000</td>\n",
              "      <td>3.000000</td>\n",
              "      <td>4.350000</td>\n",
              "      <td>1.300000</td>\n",
              "    </tr>\n",
              "    <tr>\n",
              "      <th>75%</th>\n",
              "      <td>112.750000</td>\n",
              "      <td>6.400000</td>\n",
              "      <td>3.300000</td>\n",
              "      <td>5.100000</td>\n",
              "      <td>1.800000</td>\n",
              "    </tr>\n",
              "    <tr>\n",
              "      <th>max</th>\n",
              "      <td>150.000000</td>\n",
              "      <td>7.900000</td>\n",
              "      <td>4.400000</td>\n",
              "      <td>6.900000</td>\n",
              "      <td>2.500000</td>\n",
              "    </tr>\n",
              "  </tbody>\n",
              "</table>\n",
              "</div>"
            ],
            "text/plain": [
              "               Id  SepalLengthCm  SepalWidthCm  PetalLengthCm  PetalWidthCm\n",
              "count  150.000000     150.000000    150.000000     150.000000    150.000000\n",
              "mean    75.500000       5.843333      3.054000       3.758667      1.198667\n",
              "std     43.445368       0.828066      0.433594       1.764420      0.763161\n",
              "min      1.000000       4.300000      2.000000       1.000000      0.100000\n",
              "25%     38.250000       5.100000      2.800000       1.600000      0.300000\n",
              "50%     75.500000       5.800000      3.000000       4.350000      1.300000\n",
              "75%    112.750000       6.400000      3.300000       5.100000      1.800000\n",
              "max    150.000000       7.900000      4.400000       6.900000      2.500000"
            ]
          },
          "metadata": {
            "tags": []
          },
          "execution_count": 30
        }
      ]
    },
    {
      "cell_type": "code",
      "metadata": {
        "_uuid": "aec4e9a244b230b77c413ac8031a7fdefebe2f16",
        "id": "DFVzZWgGNq0G",
        "colab_type": "code",
        "outputId": "9bb36e19-ab19-40a6-c4df-7a203ac6d0aa",
        "colab": {}
      },
      "source": [
        "# Let’s now take a look at the number of instances (rows) that belong to each class. We can view this as an absolute count.\n",
        "iris.groupby('Species').size()"
      ],
      "execution_count": 0,
      "outputs": [
        {
          "output_type": "execute_result",
          "data": {
            "text/plain": [
              "Species\n",
              "Iris-setosa        50\n",
              "Iris-versicolor    50\n",
              "Iris-virginica     50\n",
              "dtype: int64"
            ]
          },
          "metadata": {
            "tags": []
          },
          "execution_count": 31
        }
      ]
    },
    {
      "cell_type": "markdown",
      "metadata": {
        "_uuid": "533fca59931ad92a78b2f69c9fe4bcaff0e762e3",
        "id": "YvHlm0reNq0I",
        "colab_type": "text"
      },
      "source": [
        "### 9.2 Dividing data into features and labels"
      ]
    },
    {
      "cell_type": "markdown",
      "metadata": {
        "_uuid": "55bc81596034b6c004424ae7d74110c501388ca7",
        "id": "_TcmYhFWNq0J",
        "colab_type": "text"
      },
      "source": [
        "NOTE: As we can see iris contain six columns: Id, SepalLengthCm, SepalWidthCm, PetalLengthCm, PetalWidthCm and Species. The actual features are described by columns 1-4. Last column contains labels of samples. Firstly we need to split data into two arrays: X (features) and y (labels)."
      ]
    },
    {
      "cell_type": "code",
      "metadata": {
        "_uuid": "7bae05b7ba2910b37b12032a3eb55e1e2b97ab56",
        "id": "--zKALnFNq0J",
        "colab_type": "code",
        "colab": {}
      },
      "source": [
        "feature_columns = ['SepalWidthCm', 'PetalLengthCm','PetalWidthCm']\n",
        "X = iris[feature_columns].values\n",
        "y = iris['SepalLengthCm'].values\n",
        "\n",
        "# Alternative way of selecting features and labels arrays:\n",
        "# X = iris.iloc[:, 1:5].values\n",
        "# y = iris.iloc[:, 5].values"
      ],
      "execution_count": 0,
      "outputs": []
    },
    {
      "cell_type": "markdown",
      "metadata": {
        "_uuid": "3fa0e68a0f5cc6f0e6bb44dbbb52ec7c7d6d24d3",
        "id": "Hf6d7N9PNq0K",
        "colab_type": "text"
      },
      "source": [
        "### 9.3 Label encoding"
      ]
    },
    {
      "cell_type": "markdown",
      "metadata": {
        "_uuid": "a1665ed8f94c0688d3f6642800ca633ec3b44fd3",
        "id": "jTZN_oeoNq0K",
        "colab_type": "text"
      },
      "source": [
        "NOTE: As we can see labels are categorical. KNeighborsClassifier does not accept string labels. We need to use LabelEncoder to transform them into numbers. Iris-setosa correspond to 0, Iris-versicolor correspond to 1 and Iris-virginica correspond to 2."
      ]
    },
    {
      "cell_type": "code",
      "metadata": {
        "_uuid": "f52819ab1b0450afdc7506810709a4439929eb31",
        "id": "h7-rLomVNq0L",
        "colab_type": "code",
        "colab": {}
      },
      "source": [
        "from sklearn.preprocessing import LabelEncoder\n",
        "le = LabelEncoder()\n",
        "y = le.fit_transform(y)"
      ],
      "execution_count": 0,
      "outputs": []
    },
    {
      "cell_type": "markdown",
      "metadata": {
        "_uuid": "462de16da2933052bd4654569f2df86b60cf829c",
        "id": "J8y_4CuNNq0M",
        "colab_type": "text"
      },
      "source": [
        "### 9.4 Spliting iris into training set and test set"
      ]
    },
    {
      "cell_type": "markdown",
      "metadata": {
        "_uuid": "acb56892ba55ea8a9ba18c35df5150f8049cb2b4",
        "collapsed": true,
        "id": "isU9rxwzNq0M",
        "colab_type": "text"
      },
      "source": [
        "Let's split iris into training set and test set, to check later on whether or not our regressor works correctly."
      ]
    },
    {
      "cell_type": "code",
      "metadata": {
        "_uuid": "fcf033a86f327c3b74f12267ffec316d78e9bd83",
        "id": "HqaACF7YNq0M",
        "colab_type": "code",
        "outputId": "714c461c-cc2c-4e1f-b684-d87f4e76a850",
        "colab": {}
      },
      "source": [
        "from sklearn.cross_validation import train_test_split\n",
        "X_train, X_test, y_train, y_test = train_test_split(X, y, test_size = 0.2, random_state = 0)"
      ],
      "execution_count": 0,
      "outputs": [
        {
          "output_type": "stream",
          "text": [
            "C:\\Users\\mrshu\\Anaconda3\\lib\\site-packages\\sklearn\\cross_validation.py:41: DeprecationWarning: This module was deprecated in version 0.18 in favor of the model_selection module into which all the refactored classes and functions are moved. Also note that the interface of the new CV iterators are different from that of this module. This module will be removed in 0.20.\n",
            "  \"This module will be removed in 0.20.\", DeprecationWarning)\n"
          ],
          "name": "stderr"
        }
      ]
    },
    {
      "cell_type": "markdown",
      "metadata": {
        "_uuid": "998a84b3a20e0749f832c569e56f224966f1b4ea",
        "id": "OumQGF82Nq0O",
        "colab_type": "text"
      },
      "source": [
        "Lastly, because features values are in the same order of magnitude, there is no need for feature scaling. Nevertheless in other circumstances it is extremly important to apply feature scaling before running classification algorythms."
      ]
    },
    {
      "cell_type": "markdown",
      "metadata": {
        "_uuid": "93964c8f0dfb4c90811e199f35c304e0e92a7926",
        "id": "we86ciJQNq0O",
        "colab_type": "text"
      },
      "source": [
        "### 9.4 Data Visualization"
      ]
    },
    {
      "cell_type": "code",
      "metadata": {
        "_uuid": "24b7159661e76ff197aa929874147dd19d180ce8",
        "id": "3bagON7rNq0P",
        "colab_type": "code",
        "colab": {}
      },
      "source": [
        "import matplotlib.pyplot as plt\n",
        "import seaborn as sns\n",
        "%matplotlib inline"
      ],
      "execution_count": 0,
      "outputs": []
    },
    {
      "cell_type": "markdown",
      "metadata": {
        "_uuid": "3f2520537e712318511ddcc3458dbd942aea2a13",
        "id": "v5DgSrI9Nq0R",
        "colab_type": "text"
      },
      "source": [
        "#### 9.4.1 Pairplot"
      ]
    },
    {
      "cell_type": "markdown",
      "metadata": {
        "_uuid": "7b3a40d33223c2ddd45a8e39f6fc681ec8020e14",
        "id": "OGRvW8XFNq0R",
        "colab_type": "text"
      },
      "source": [
        "Pairwise is useful when you want to visualize the distribution of a variable or the relationship between multiple variables separately within subsets of your iris."
      ]
    },
    {
      "cell_type": "code",
      "metadata": {
        "_uuid": "e3d585f847b4f5ccab104e8b041f464450c0c3f9",
        "id": "PqBoaqF1Nq0R",
        "colab_type": "code",
        "outputId": "8fda4a64-18aa-4a94-9a96-057541b65927",
        "colab": {}
      },
      "source": [
        "plt.figure()\n",
        "sns.pairplot(iris.drop(\"Id\", axis=1), hue = \"Species\", size=3, markers=[\"o\", \"s\", \"D\"])\n",
        "plt.show()"
      ],
      "execution_count": 0,
      "outputs": [
        {
          "output_type": "stream",
          "text": [
            "C:\\Users\\mrshu\\Anaconda3\\lib\\site-packages\\seaborn\\axisgrid.py:2065: UserWarning: The `size` parameter has been renamed to `height`; pleaes update your code.\n",
            "  warnings.warn(msg, UserWarning)\n"
          ],
          "name": "stderr"
        },
        {
          "output_type": "display_data",
          "data": {
            "text/plain": [
              "<Figure size 432x288 with 0 Axes>"
            ]
          },
          "metadata": {
            "tags": []
          }
        },
        {
          "output_type": "display_data",
          "data": {
            "image/png": "[encoded data removed]",
            "text/plain": [
              "<Figure size 967.5x864 with 20 Axes>"
            ]
          },
          "metadata": {
            "tags": [],
            "needs_background": "light"
          }
        }
      ]
    },
    {
      "cell_type": "markdown",
      "metadata": {
        "_uuid": "cf7fb5bc89aec4abf9cbf3239658b5ce747f662b",
        "id": "DTJgyl5xNq0U",
        "colab_type": "text"
      },
      "source": [
        "#### 9.4.2. 3D visualization"
      ]
    },
    {
      "cell_type": "markdown",
      "metadata": {
        "_uuid": "5b57bb66c8daa7f1e272fb89740c70018ed4d208",
        "id": "-al553FANq0U",
        "colab_type": "text"
      },
      "source": [
        "You can also try to  visualize high-dimensional iriss in 3D using color, shape, size and other properties of 3D and 2D objects. In this plot I used marks sizes to visualize fourth dimenssion which is Petal Width [cm]."
      ]
    },
    {
      "cell_type": "code",
      "metadata": {
        "_uuid": "dd50883c1d3f57056cef311861e5566ea7ffb069",
        "id": "DFHeZwzZNq0U",
        "colab_type": "code",
        "outputId": "c1e4b6d8-9290-4038-9834-21bb145bd468",
        "colab": {}
      },
      "source": [
        "from mpl_toolkits.mplot3d import Axes3D\n",
        "fig = plt.figure(1, figsize=(20, 15))\n",
        "ax = Axes3D(fig, elev=48, azim=134)\n",
        "ax.scatter(X[:, 0], X[:, 1], X[:, 2], c=y,\n",
        "           cmap=plt.cm.Set1, edgecolor='k', s = X[:, 3]*50)\n",
        "\n",
        "for name, label in [('Virginica', 0), ('Setosa', 1), ('Versicolour', 2)]:\n",
        "    ax.text3D(X[y == label, 0].mean(),\n",
        "              X[y == label, 1].mean(),\n",
        "              X[y == label, 2].mean(), name,\n",
        "              horizontalalignment='center',\n",
        "              bbox=dict(alpha=.5, edgecolor='w', facecolor='w'),size=25)\n",
        "\n",
        "ax.set_title(\"3D visualization\", fontsize=40)\n",
        "ax.set_xlabel(\"Sepal Length [cm]\", fontsize=25)\n",
        "ax.w_xaxis.set_ticklabels([])\n",
        "ax.set_ylabel(\"Sepal Width [cm]\", fontsize=25)\n",
        "ax.w_yaxis.set_ticklabels([])\n",
        "ax.set_zlabel(\"Petal Length [cm]\", fontsize=25)\n",
        "ax.w_zaxis.set_ticklabels([])\n",
        "\n",
        "plt.show()"
      ],
      "execution_count": 0,
      "outputs": [
        {
          "output_type": "display_data",
          "data": {
            "image/png": "[encoded data removed]",
            "text/plain": [
              "<Figure size 1440x1080 with 1 Axes>"
            ]
          },
          "metadata": {
            "tags": [],
            "needs_background": "light"
          }
        }
      ]
    },
    {
      "cell_type": "markdown",
      "metadata": {
        "_uuid": "a68d8d34a661e568c7b9a9f826eefd6f6b05711c",
        "id": "mXmo8U2iNq0W",
        "colab_type": "text"
      },
      "source": [
        "### 9.5. Using KNN for regression"
      ]
    },
    {
      "cell_type": "markdown",
      "metadata": {
        "_uuid": "35bd390c4c451704b92049d09b622fad422a6be5",
        "id": "uLHGSQz7Nq0X",
        "colab_type": "text"
      },
      "source": [
        "#### 9.5.1 Making predictions"
      ]
    },
    {
      "cell_type": "code",
      "metadata": {
        "_uuid": "9e645ea7be4300e26dcc9826fc96d06fdc06ba76",
        "id": "kbEitL7ZNq0Y",
        "colab_type": "code",
        "colab": {}
      },
      "source": [
        "# Fitting clasifier to the Training set\n",
        "# Loading libraries\n",
        "from sklearn.neighbors import KNeighborsRegressor\n",
        "from sklearn.model_selection import cross_val_score\n",
        "\n",
        "# Instantiate learning model (k = 3)\n",
        "regressor = KNeighborsRegressor(n_neighbors=3)\n",
        "\n",
        "# Fitting the model\n",
        "regressor.fit(X_train, y_train)\n",
        "\n",
        "# Predicting the Test set results\n",
        "y_pred = regressor.predict(X_test)"
      ],
      "execution_count": 0,
      "outputs": []
    },
    {
      "cell_type": "markdown",
      "metadata": {
        "_uuid": "c8022e3cbce9cd4e73e0b47c51cacc32869413e5",
        "id": "YLipl5UqNq0Z",
        "colab_type": "text"
      },
      "source": [
        "#### 9.5.2. Evaluating predictions"
      ]
    },
    {
      "cell_type": "code",
      "metadata": {
        "_uuid": "1ade4a361991e0cab6b49fdd45274446eecfcb9a",
        "id": "jy05EU4dNq0a",
        "colab_type": "code",
        "outputId": "501c2134-75a5-4af1-af57-fb382f650d01",
        "colab": {}
      },
      "source": [
        "from sklearn.metrics import mean_squared_error\n",
        "cm = mean_squared_error(y_test, y_pred)\n",
        "cm"
      ],
      "execution_count": 0,
      "outputs": [
        {
          "output_type": "execute_result",
          "data": {
            "text/plain": [
              "0.01851851851851852"
            ]
          },
          "metadata": {
            "tags": []
          },
          "execution_count": 39
        }
      ]
    },
    {
      "cell_type": "code",
      "metadata": {
        "id": "UynhbPYZNq0c",
        "colab_type": "code",
        "outputId": "2ab86b9f-e6aa-4615-89c3-15c66bd99e64",
        "colab": {}
      },
      "source": [
        "from sklearn.metrics import mean_squared_error\n",
        "cm = np.sqrt(mean_squared_error(y_test, y_pred))\n",
        "cm"
      ],
      "execution_count": 0,
      "outputs": [
        {
          "output_type": "execute_result",
          "data": {
            "text/plain": [
              "0.13608276348795434"
            ]
          },
          "metadata": {
            "tags": []
          },
          "execution_count": 40
        }
      ]
    },
    {
      "cell_type": "markdown",
      "metadata": {
        "_uuid": "535f67d1aa345a2642ba45a85f58ae73f3d26df8",
        "id": "Za7oOpvrNq0e",
        "colab_type": "text"
      },
      "source": [
        "#### 4.3. Using cross-validation for parameter tuning:"
      ]
    },
    {
      "cell_type": "code",
      "metadata": {
        "_uuid": "71622db89590c3c8bebad792e657f248b408a960",
        "id": "SWl7wgEmNq0e",
        "colab_type": "code",
        "outputId": "35f79309-c485-4d96-fa81-71e63ab0949d",
        "colab": {}
      },
      "source": [
        "# creating list of K for KNN\n",
        "k_list = list(range(1,50,2))\n",
        "# creating list of cv scores\n",
        "cv_scores = []\n",
        "\n",
        "# perform 10-fold cross validation\n",
        "for k in k_list:\n",
        "    knn = KNeighborsRegressor(n_neighbors=k)\n",
        "    scores = cross_val_score(knn, X_train, y_train, cv=10, scoring='mean_squared_error')\n",
        "    cv_scores.append(scores.mean())"
      ],
      "execution_count": 0,
      "outputs": [
        {
          "output_type": "stream",
          "text": [
            "C:\\Users\\mrshu\\Anaconda3\\lib\\site-packages\\sklearn\\metrics\\scorer.py:100: DeprecationWarning: Scoring method mean_squared_error was renamed to neg_mean_squared_error in version 0.18 and will be removed in 0.20.\n",
            "  sample_weight=sample_weight)\n",
            "C:\\Users\\mrshu\\Anaconda3\\lib\\site-packages\\sklearn\\metrics\\scorer.py:100: DeprecationWarning: Scoring method mean_squared_error was renamed to neg_mean_squared_error in version 0.18 and will be removed in 0.20.\n",
            "  sample_weight=sample_weight)\n",
            "C:\\Users\\mrshu\\Anaconda3\\lib\\site-packages\\sklearn\\metrics\\scorer.py:100: DeprecationWarning: Scoring method mean_squared_error was renamed to neg_mean_squared_error in version 0.18 and will be removed in 0.20.\n",
            "  sample_weight=sample_weight)\n",
            "C:\\Users\\mrshu\\Anaconda3\\lib\\site-packages\\sklearn\\metrics\\scorer.py:100: DeprecationWarning: Scoring method mean_squared_error was renamed to neg_mean_squared_error in version 0.18 and will be removed in 0.20.\n",
            "  sample_weight=sample_weight)\n",
            "C:\\Users\\mrshu\\Anaconda3\\lib\\site-packages\\sklearn\\metrics\\scorer.py:100: DeprecationWarning: Scoring method mean_squared_error was renamed to neg_mean_squared_error in version 0.18 and will be removed in 0.20.\n",
            "  sample_weight=sample_weight)\n",
            "C:\\Users\\mrshu\\Anaconda3\\lib\\site-packages\\sklearn\\metrics\\scorer.py:100: DeprecationWarning: Scoring method mean_squared_error was renamed to neg_mean_squared_error in version 0.18 and will be removed in 0.20.\n",
            "  sample_weight=sample_weight)\n",
            "C:\\Users\\mrshu\\Anaconda3\\lib\\site-packages\\sklearn\\metrics\\scorer.py:100: DeprecationWarning: Scoring method mean_squared_error was renamed to neg_mean_squared_error in version 0.18 and will be removed in 0.20.\n",
            "  sample_weight=sample_weight)\n",
            "C:\\Users\\mrshu\\Anaconda3\\lib\\site-packages\\sklearn\\metrics\\scorer.py:100: DeprecationWarning: Scoring method mean_squared_error was renamed to neg_mean_squared_error in version 0.18 and will be removed in 0.20.\n",
            "  sample_weight=sample_weight)\n",
            "C:\\Users\\mrshu\\Anaconda3\\lib\\site-packages\\sklearn\\metrics\\scorer.py:100: DeprecationWarning: Scoring method mean_squared_error was renamed to neg_mean_squared_error in version 0.18 and will be removed in 0.20.\n",
            "  sample_weight=sample_weight)\n",
            "C:\\Users\\mrshu\\Anaconda3\\lib\\site-packages\\sklearn\\metrics\\scorer.py:100: DeprecationWarning: Scoring method mean_squared_error was renamed to neg_mean_squared_error in version 0.18 and will be removed in 0.20.\n",
            "  sample_weight=sample_weight)\n",
            "C:\\Users\\mrshu\\Anaconda3\\lib\\site-packages\\sklearn\\metrics\\scorer.py:100: DeprecationWarning: Scoring method mean_squared_error was renamed to neg_mean_squared_error in version 0.18 and will be removed in 0.20.\n",
            "  sample_weight=sample_weight)\n",
            "C:\\Users\\mrshu\\Anaconda3\\lib\\site-packages\\sklearn\\metrics\\scorer.py:100: DeprecationWarning: Scoring method mean_squared_error was renamed to neg_mean_squared_error in version 0.18 and will be removed in 0.20.\n",
            "  sample_weight=sample_weight)\n",
            "C:\\Users\\mrshu\\Anaconda3\\lib\\site-packages\\sklearn\\metrics\\scorer.py:100: DeprecationWarning: Scoring method mean_squared_error was renamed to neg_mean_squared_error in version 0.18 and will be removed in 0.20.\n",
            "  sample_weight=sample_weight)\n",
            "C:\\Users\\mrshu\\Anaconda3\\lib\\site-packages\\sklearn\\metrics\\scorer.py:100: DeprecationWarning: Scoring method mean_squared_error was renamed to neg_mean_squared_error in version 0.18 and will be removed in 0.20.\n",
            "  sample_weight=sample_weight)\n",
            "C:\\Users\\mrshu\\Anaconda3\\lib\\site-packages\\sklearn\\metrics\\scorer.py:100: DeprecationWarning: Scoring method mean_squared_error was renamed to neg_mean_squared_error in version 0.18 and will be removed in 0.20.\n",
            "  sample_weight=sample_weight)\n",
            "C:\\Users\\mrshu\\Anaconda3\\lib\\site-packages\\sklearn\\metrics\\scorer.py:100: DeprecationWarning: Scoring method mean_squared_error was renamed to neg_mean_squared_error in version 0.18 and will be removed in 0.20.\n",
            "  sample_weight=sample_weight)\n",
            "C:\\Users\\mrshu\\Anaconda3\\lib\\site-packages\\sklearn\\metrics\\scorer.py:100: DeprecationWarning: Scoring method mean_squared_error was renamed to neg_mean_squared_error in version 0.18 and will be removed in 0.20.\n",
            "  sample_weight=sample_weight)\n",
            "C:\\Users\\mrshu\\Anaconda3\\lib\\site-packages\\sklearn\\metrics\\scorer.py:100: DeprecationWarning: Scoring method mean_squared_error was renamed to neg_mean_squared_error in version 0.18 and will be removed in 0.20.\n",
            "  sample_weight=sample_weight)\n",
            "C:\\Users\\mrshu\\Anaconda3\\lib\\site-packages\\sklearn\\metrics\\scorer.py:100: DeprecationWarning: Scoring method mean_squared_error was renamed to neg_mean_squared_error in version 0.18 and will be removed in 0.20.\n",
            "  sample_weight=sample_weight)\n",
            "C:\\Users\\mrshu\\Anaconda3\\lib\\site-packages\\sklearn\\metrics\\scorer.py:100: DeprecationWarning: Scoring method mean_squared_error was renamed to neg_mean_squared_error in version 0.18 and will be removed in 0.20.\n",
            "  sample_weight=sample_weight)\n",
            "C:\\Users\\mrshu\\Anaconda3\\lib\\site-packages\\sklearn\\metrics\\scorer.py:100: DeprecationWarning: Scoring method mean_squared_error was renamed to neg_mean_squared_error in version 0.18 and will be removed in 0.20.\n",
            "  sample_weight=sample_weight)\n",
            "C:\\Users\\mrshu\\Anaconda3\\lib\\site-packages\\sklearn\\metrics\\scorer.py:100: DeprecationWarning: Scoring method mean_squared_error was renamed to neg_mean_squared_error in version 0.18 and will be removed in 0.20.\n",
            "  sample_weight=sample_weight)\n",
            "C:\\Users\\mrshu\\Anaconda3\\lib\\site-packages\\sklearn\\metrics\\scorer.py:100: DeprecationWarning: Scoring method mean_squared_error was renamed to neg_mean_squared_error in version 0.18 and will be removed in 0.20.\n",
            "  sample_weight=sample_weight)\n",
            "C:\\Users\\mrshu\\Anaconda3\\lib\\site-packages\\sklearn\\metrics\\scorer.py:100: DeprecationWarning: Scoring method mean_squared_error was renamed to neg_mean_squared_error in version 0.18 and will be removed in 0.20.\n",
            "  sample_weight=sample_weight)\n",
            "C:\\Users\\mrshu\\Anaconda3\\lib\\site-packages\\sklearn\\metrics\\scorer.py:100: DeprecationWarning: Scoring method mean_squared_error was renamed to neg_mean_squared_error in version 0.18 and will be removed in 0.20.\n",
            "  sample_weight=sample_weight)\n",
            "C:\\Users\\mrshu\\Anaconda3\\lib\\site-packages\\sklearn\\metrics\\scorer.py:100: DeprecationWarning: Scoring method mean_squared_error was renamed to neg_mean_squared_error in version 0.18 and will be removed in 0.20.\n",
            "  sample_weight=sample_weight)\n",
            "C:\\Users\\mrshu\\Anaconda3\\lib\\site-packages\\sklearn\\metrics\\scorer.py:100: DeprecationWarning: Scoring method mean_squared_error was renamed to neg_mean_squared_error in version 0.18 and will be removed in 0.20.\n",
            "  sample_weight=sample_weight)\n",
            "C:\\Users\\mrshu\\Anaconda3\\lib\\site-packages\\sklearn\\metrics\\scorer.py:100: DeprecationWarning: Scoring method mean_squared_error was renamed to neg_mean_squared_error in version 0.18 and will be removed in 0.20.\n",
            "  sample_weight=sample_weight)\n",
            "C:\\Users\\mrshu\\Anaconda3\\lib\\site-packages\\sklearn\\metrics\\scorer.py:100: DeprecationWarning: Scoring method mean_squared_error was renamed to neg_mean_squared_error in version 0.18 and will be removed in 0.20.\n",
            "  sample_weight=sample_weight)\n",
            "C:\\Users\\mrshu\\Anaconda3\\lib\\site-packages\\sklearn\\metrics\\scorer.py:100: DeprecationWarning: Scoring method mean_squared_error was renamed to neg_mean_squared_error in version 0.18 and will be removed in 0.20.\n",
            "  sample_weight=sample_weight)\n",
            "C:\\Users\\mrshu\\Anaconda3\\lib\\site-packages\\sklearn\\metrics\\scorer.py:100: DeprecationWarning: Scoring method mean_squared_error was renamed to neg_mean_squared_error in version 0.18 and will be removed in 0.20.\n",
            "  sample_weight=sample_weight)\n",
            "C:\\Users\\mrshu\\Anaconda3\\lib\\site-packages\\sklearn\\metrics\\scorer.py:100: DeprecationWarning: Scoring method mean_squared_error was renamed to neg_mean_squared_error in version 0.18 and will be removed in 0.20.\n",
            "  sample_weight=sample_weight)\n",
            "C:\\Users\\mrshu\\Anaconda3\\lib\\site-packages\\sklearn\\metrics\\scorer.py:100: DeprecationWarning: Scoring method mean_squared_error was renamed to neg_mean_squared_error in version 0.18 and will be removed in 0.20.\n",
            "  sample_weight=sample_weight)\n",
            "C:\\Users\\mrshu\\Anaconda3\\lib\\site-packages\\sklearn\\metrics\\scorer.py:100: DeprecationWarning: Scoring method mean_squared_error was renamed to neg_mean_squared_error in version 0.18 and will be removed in 0.20.\n",
            "  sample_weight=sample_weight)\n",
            "C:\\Users\\mrshu\\Anaconda3\\lib\\site-packages\\sklearn\\metrics\\scorer.py:100: DeprecationWarning: Scoring method mean_squared_error was renamed to neg_mean_squared_error in version 0.18 and will be removed in 0.20.\n",
            "  sample_weight=sample_weight)\n",
            "C:\\Users\\mrshu\\Anaconda3\\lib\\site-packages\\sklearn\\metrics\\scorer.py:100: DeprecationWarning: Scoring method mean_squared_error was renamed to neg_mean_squared_error in version 0.18 and will be removed in 0.20.\n",
            "  sample_weight=sample_weight)\n",
            "C:\\Users\\mrshu\\Anaconda3\\lib\\site-packages\\sklearn\\metrics\\scorer.py:100: DeprecationWarning: Scoring method mean_squared_error was renamed to neg_mean_squared_error in version 0.18 and will be removed in 0.20.\n",
            "  sample_weight=sample_weight)\n",
            "C:\\Users\\mrshu\\Anaconda3\\lib\\site-packages\\sklearn\\metrics\\scorer.py:100: DeprecationWarning: Scoring method mean_squared_error was renamed to neg_mean_squared_error in version 0.18 and will be removed in 0.20.\n",
            "  sample_weight=sample_weight)\n",
            "C:\\Users\\mrshu\\Anaconda3\\lib\\site-packages\\sklearn\\metrics\\scorer.py:100: DeprecationWarning: Scoring method mean_squared_error was renamed to neg_mean_squared_error in version 0.18 and will be removed in 0.20.\n",
            "  sample_weight=sample_weight)\n",
            "C:\\Users\\mrshu\\Anaconda3\\lib\\site-packages\\sklearn\\metrics\\scorer.py:100: DeprecationWarning: Scoring method mean_squared_error was renamed to neg_mean_squared_error in version 0.18 and will be removed in 0.20.\n",
            "  sample_weight=sample_weight)\n",
            "C:\\Users\\mrshu\\Anaconda3\\lib\\site-packages\\sklearn\\metrics\\scorer.py:100: DeprecationWarning: Scoring method mean_squared_error was renamed to neg_mean_squared_error in version 0.18 and will be removed in 0.20.\n",
            "  sample_weight=sample_weight)\n",
            "C:\\Users\\mrshu\\Anaconda3\\lib\\site-packages\\sklearn\\metrics\\scorer.py:100: DeprecationWarning: Scoring method mean_squared_error was renamed to neg_mean_squared_error in version 0.18 and will be removed in 0.20.\n",
            "  sample_weight=sample_weight)\n",
            "C:\\Users\\mrshu\\Anaconda3\\lib\\site-packages\\sklearn\\metrics\\scorer.py:100: DeprecationWarning: Scoring method mean_squared_error was renamed to neg_mean_squared_error in version 0.18 and will be removed in 0.20.\n",
            "  sample_weight=sample_weight)\n",
            "C:\\Users\\mrshu\\Anaconda3\\lib\\site-packages\\sklearn\\metrics\\scorer.py:100: DeprecationWarning: Scoring method mean_squared_error was renamed to neg_mean_squared_error in version 0.18 and will be removed in 0.20.\n",
            "  sample_weight=sample_weight)\n",
            "C:\\Users\\mrshu\\Anaconda3\\lib\\site-packages\\sklearn\\metrics\\scorer.py:100: DeprecationWarning: Scoring method mean_squared_error was renamed to neg_mean_squared_error in version 0.18 and will be removed in 0.20.\n",
            "  sample_weight=sample_weight)\n",
            "C:\\Users\\mrshu\\Anaconda3\\lib\\site-packages\\sklearn\\metrics\\scorer.py:100: DeprecationWarning: Scoring method mean_squared_error was renamed to neg_mean_squared_error in version 0.18 and will be removed in 0.20.\n",
            "  sample_weight=sample_weight)\n",
            "C:\\Users\\mrshu\\Anaconda3\\lib\\site-packages\\sklearn\\metrics\\scorer.py:100: DeprecationWarning: Scoring method mean_squared_error was renamed to neg_mean_squared_error in version 0.18 and will be removed in 0.20.\n",
            "  sample_weight=sample_weight)\n",
            "C:\\Users\\mrshu\\Anaconda3\\lib\\site-packages\\sklearn\\metrics\\scorer.py:100: DeprecationWarning: Scoring method mean_squared_error was renamed to neg_mean_squared_error in version 0.18 and will be removed in 0.20.\n",
            "  sample_weight=sample_weight)\n",
            "C:\\Users\\mrshu\\Anaconda3\\lib\\site-packages\\sklearn\\metrics\\scorer.py:100: DeprecationWarning: Scoring method mean_squared_error was renamed to neg_mean_squared_error in version 0.18 and will be removed in 0.20.\n",
            "  sample_weight=sample_weight)\n",
            "C:\\Users\\mrshu\\Anaconda3\\lib\\site-packages\\sklearn\\metrics\\scorer.py:100: DeprecationWarning: Scoring method mean_squared_error was renamed to neg_mean_squared_error in version 0.18 and will be removed in 0.20.\n",
            "  sample_weight=sample_weight)\n",
            "C:\\Users\\mrshu\\Anaconda3\\lib\\site-packages\\sklearn\\metrics\\scorer.py:100: DeprecationWarning: Scoring method mean_squared_error was renamed to neg_mean_squared_error in version 0.18 and will be removed in 0.20.\n",
            "  sample_weight=sample_weight)\n",
            "C:\\Users\\mrshu\\Anaconda3\\lib\\site-packages\\sklearn\\metrics\\scorer.py:100: DeprecationWarning: Scoring method mean_squared_error was renamed to neg_mean_squared_error in version 0.18 and will be removed in 0.20.\n",
            "  sample_weight=sample_weight)\n",
            "C:\\Users\\mrshu\\Anaconda3\\lib\\site-packages\\sklearn\\metrics\\scorer.py:100: DeprecationWarning: Scoring method mean_squared_error was renamed to neg_mean_squared_error in version 0.18 and will be removed in 0.20.\n",
            "  sample_weight=sample_weight)\n",
            "C:\\Users\\mrshu\\Anaconda3\\lib\\site-packages\\sklearn\\metrics\\scorer.py:100: DeprecationWarning: Scoring method mean_squared_error was renamed to neg_mean_squared_error in version 0.18 and will be removed in 0.20.\n",
            "  sample_weight=sample_weight)\n",
            "C:\\Users\\mrshu\\Anaconda3\\lib\\site-packages\\sklearn\\metrics\\scorer.py:100: DeprecationWarning: Scoring method mean_squared_error was renamed to neg_mean_squared_error in version 0.18 and will be removed in 0.20.\n",
            "  sample_weight=sample_weight)\n",
            "C:\\Users\\mrshu\\Anaconda3\\lib\\site-packages\\sklearn\\metrics\\scorer.py:100: DeprecationWarning: Scoring method mean_squared_error was renamed to neg_mean_squared_error in version 0.18 and will be removed in 0.20.\n",
            "  sample_weight=sample_weight)\n",
            "C:\\Users\\mrshu\\Anaconda3\\lib\\site-packages\\sklearn\\metrics\\scorer.py:100: DeprecationWarning: Scoring method mean_squared_error was renamed to neg_mean_squared_error in version 0.18 and will be removed in 0.20.\n",
            "  sample_weight=sample_weight)\n",
            "C:\\Users\\mrshu\\Anaconda3\\lib\\site-packages\\sklearn\\metrics\\scorer.py:100: DeprecationWarning: Scoring method mean_squared_error was renamed to neg_mean_squared_error in version 0.18 and will be removed in 0.20.\n",
            "  sample_weight=sample_weight)\n",
            "C:\\Users\\mrshu\\Anaconda3\\lib\\site-packages\\sklearn\\metrics\\scorer.py:100: DeprecationWarning: Scoring method mean_squared_error was renamed to neg_mean_squared_error in version 0.18 and will be removed in 0.20.\n",
            "  sample_weight=sample_weight)\n",
            "C:\\Users\\mrshu\\Anaconda3\\lib\\site-packages\\sklearn\\metrics\\scorer.py:100: DeprecationWarning: Scoring method mean_squared_error was renamed to neg_mean_squared_error in version 0.18 and will be removed in 0.20.\n",
            "  sample_weight=sample_weight)\n",
            "C:\\Users\\mrshu\\Anaconda3\\lib\\site-packages\\sklearn\\metrics\\scorer.py:100: DeprecationWarning: Scoring method mean_squared_error was renamed to neg_mean_squared_error in version 0.18 and will be removed in 0.20.\n",
            "  sample_weight=sample_weight)\n",
            "C:\\Users\\mrshu\\Anaconda3\\lib\\site-packages\\sklearn\\metrics\\scorer.py:100: DeprecationWarning: Scoring method mean_squared_error was renamed to neg_mean_squared_error in version 0.18 and will be removed in 0.20.\n",
            "  sample_weight=sample_weight)\n",
            "C:\\Users\\mrshu\\Anaconda3\\lib\\site-packages\\sklearn\\metrics\\scorer.py:100: DeprecationWarning: Scoring method mean_squared_error was renamed to neg_mean_squared_error in version 0.18 and will be removed in 0.20.\n",
            "  sample_weight=sample_weight)\n",
            "C:\\Users\\mrshu\\Anaconda3\\lib\\site-packages\\sklearn\\metrics\\scorer.py:100: DeprecationWarning: Scoring method mean_squared_error was renamed to neg_mean_squared_error in version 0.18 and will be removed in 0.20.\n",
            "  sample_weight=sample_weight)\n",
            "C:\\Users\\mrshu\\Anaconda3\\lib\\site-packages\\sklearn\\metrics\\scorer.py:100: DeprecationWarning: Scoring method mean_squared_error was renamed to neg_mean_squared_error in version 0.18 and will be removed in 0.20.\n",
            "  sample_weight=sample_weight)\n",
            "C:\\Users\\mrshu\\Anaconda3\\lib\\site-packages\\sklearn\\metrics\\scorer.py:100: DeprecationWarning: Scoring method mean_squared_error was renamed to neg_mean_squared_error in version 0.18 and will be removed in 0.20.\n",
            "  sample_weight=sample_weight)\n",
            "C:\\Users\\mrshu\\Anaconda3\\lib\\site-packages\\sklearn\\metrics\\scorer.py:100: DeprecationWarning: Scoring method mean_squared_error was renamed to neg_mean_squared_error in version 0.18 and will be removed in 0.20.\n",
            "  sample_weight=sample_weight)\n",
            "C:\\Users\\mrshu\\Anaconda3\\lib\\site-packages\\sklearn\\metrics\\scorer.py:100: DeprecationWarning: Scoring method mean_squared_error was renamed to neg_mean_squared_error in version 0.18 and will be removed in 0.20.\n",
            "  sample_weight=sample_weight)\n",
            "C:\\Users\\mrshu\\Anaconda3\\lib\\site-packages\\sklearn\\metrics\\scorer.py:100: DeprecationWarning: Scoring method mean_squared_error was renamed to neg_mean_squared_error in version 0.18 and will be removed in 0.20.\n",
            "  sample_weight=sample_weight)\n",
            "C:\\Users\\mrshu\\Anaconda3\\lib\\site-packages\\sklearn\\metrics\\scorer.py:100: DeprecationWarning: Scoring method mean_squared_error was renamed to neg_mean_squared_error in version 0.18 and will be removed in 0.20.\n",
            "  sample_weight=sample_weight)\n",
            "C:\\Users\\mrshu\\Anaconda3\\lib\\site-packages\\sklearn\\metrics\\scorer.py:100: DeprecationWarning: Scoring method mean_squared_error was renamed to neg_mean_squared_error in version 0.18 and will be removed in 0.20.\n",
            "  sample_weight=sample_weight)\n",
            "C:\\Users\\mrshu\\Anaconda3\\lib\\site-packages\\sklearn\\metrics\\scorer.py:100: DeprecationWarning: Scoring method mean_squared_error was renamed to neg_mean_squared_error in version 0.18 and will be removed in 0.20.\n",
            "  sample_weight=sample_weight)\n",
            "C:\\Users\\mrshu\\Anaconda3\\lib\\site-packages\\sklearn\\metrics\\scorer.py:100: DeprecationWarning: Scoring method mean_squared_error was renamed to neg_mean_squared_error in version 0.18 and will be removed in 0.20.\n",
            "  sample_weight=sample_weight)\n",
            "C:\\Users\\mrshu\\Anaconda3\\lib\\site-packages\\sklearn\\metrics\\scorer.py:100: DeprecationWarning: Scoring method mean_squared_error was renamed to neg_mean_squared_error in version 0.18 and will be removed in 0.20.\n",
            "  sample_weight=sample_weight)\n",
            "C:\\Users\\mrshu\\Anaconda3\\lib\\site-packages\\sklearn\\metrics\\scorer.py:100: DeprecationWarning: Scoring method mean_squared_error was renamed to neg_mean_squared_error in version 0.18 and will be removed in 0.20.\n",
            "  sample_weight=sample_weight)\n",
            "C:\\Users\\mrshu\\Anaconda3\\lib\\site-packages\\sklearn\\metrics\\scorer.py:100: DeprecationWarning: Scoring method mean_squared_error was renamed to neg_mean_squared_error in version 0.18 and will be removed in 0.20.\n",
            "  sample_weight=sample_weight)\n",
            "C:\\Users\\mrshu\\Anaconda3\\lib\\site-packages\\sklearn\\metrics\\scorer.py:100: DeprecationWarning: Scoring method mean_squared_error was renamed to neg_mean_squared_error in version 0.18 and will be removed in 0.20.\n",
            "  sample_weight=sample_weight)\n",
            "C:\\Users\\mrshu\\Anaconda3\\lib\\site-packages\\sklearn\\metrics\\scorer.py:100: DeprecationWarning: Scoring method mean_squared_error was renamed to neg_mean_squared_error in version 0.18 and will be removed in 0.20.\n",
            "  sample_weight=sample_weight)\n",
            "C:\\Users\\mrshu\\Anaconda3\\lib\\site-packages\\sklearn\\metrics\\scorer.py:100: DeprecationWarning: Scoring method mean_squared_error was renamed to neg_mean_squared_error in version 0.18 and will be removed in 0.20.\n",
            "  sample_weight=sample_weight)\n",
            "C:\\Users\\mrshu\\Anaconda3\\lib\\site-packages\\sklearn\\metrics\\scorer.py:100: DeprecationWarning: Scoring method mean_squared_error was renamed to neg_mean_squared_error in version 0.18 and will be removed in 0.20.\n",
            "  sample_weight=sample_weight)\n",
            "C:\\Users\\mrshu\\Anaconda3\\lib\\site-packages\\sklearn\\metrics\\scorer.py:100: DeprecationWarning: Scoring method mean_squared_error was renamed to neg_mean_squared_error in version 0.18 and will be removed in 0.20.\n",
            "  sample_weight=sample_weight)\n",
            "C:\\Users\\mrshu\\Anaconda3\\lib\\site-packages\\sklearn\\metrics\\scorer.py:100: DeprecationWarning: Scoring method mean_squared_error was renamed to neg_mean_squared_error in version 0.18 and will be removed in 0.20.\n",
            "  sample_weight=sample_weight)\n",
            "C:\\Users\\mrshu\\Anaconda3\\lib\\site-packages\\sklearn\\metrics\\scorer.py:100: DeprecationWarning: Scoring method mean_squared_error was renamed to neg_mean_squared_error in version 0.18 and will be removed in 0.20.\n",
            "  sample_weight=sample_weight)\n",
            "C:\\Users\\mrshu\\Anaconda3\\lib\\site-packages\\sklearn\\metrics\\scorer.py:100: DeprecationWarning: Scoring method mean_squared_error was renamed to neg_mean_squared_error in version 0.18 and will be removed in 0.20.\n",
            "  sample_weight=sample_weight)\n",
            "C:\\Users\\mrshu\\Anaconda3\\lib\\site-packages\\sklearn\\metrics\\scorer.py:100: DeprecationWarning: Scoring method mean_squared_error was renamed to neg_mean_squared_error in version 0.18 and will be removed in 0.20.\n",
            "  sample_weight=sample_weight)\n",
            "C:\\Users\\mrshu\\Anaconda3\\lib\\site-packages\\sklearn\\metrics\\scorer.py:100: DeprecationWarning: Scoring method mean_squared_error was renamed to neg_mean_squared_error in version 0.18 and will be removed in 0.20.\n",
            "  sample_weight=sample_weight)\n",
            "C:\\Users\\mrshu\\Anaconda3\\lib\\site-packages\\sklearn\\metrics\\scorer.py:100: DeprecationWarning: Scoring method mean_squared_error was renamed to neg_mean_squared_error in version 0.18 and will be removed in 0.20.\n",
            "  sample_weight=sample_weight)\n",
            "C:\\Users\\mrshu\\Anaconda3\\lib\\site-packages\\sklearn\\metrics\\scorer.py:100: DeprecationWarning: Scoring method mean_squared_error was renamed to neg_mean_squared_error in version 0.18 and will be removed in 0.20.\n",
            "  sample_weight=sample_weight)\n",
            "C:\\Users\\mrshu\\Anaconda3\\lib\\site-packages\\sklearn\\metrics\\scorer.py:100: DeprecationWarning: Scoring method mean_squared_error was renamed to neg_mean_squared_error in version 0.18 and will be removed in 0.20.\n",
            "  sample_weight=sample_weight)\n",
            "C:\\Users\\mrshu\\Anaconda3\\lib\\site-packages\\sklearn\\metrics\\scorer.py:100: DeprecationWarning: Scoring method mean_squared_error was renamed to neg_mean_squared_error in version 0.18 and will be removed in 0.20.\n",
            "  sample_weight=sample_weight)\n",
            "C:\\Users\\mrshu\\Anaconda3\\lib\\site-packages\\sklearn\\metrics\\scorer.py:100: DeprecationWarning: Scoring method mean_squared_error was renamed to neg_mean_squared_error in version 0.18 and will be removed in 0.20.\n",
            "  sample_weight=sample_weight)\n",
            "C:\\Users\\mrshu\\Anaconda3\\lib\\site-packages\\sklearn\\metrics\\scorer.py:100: DeprecationWarning: Scoring method mean_squared_error was renamed to neg_mean_squared_error in version 0.18 and will be removed in 0.20.\n",
            "  sample_weight=sample_weight)\n",
            "C:\\Users\\mrshu\\Anaconda3\\lib\\site-packages\\sklearn\\metrics\\scorer.py:100: DeprecationWarning: Scoring method mean_squared_error was renamed to neg_mean_squared_error in version 0.18 and will be removed in 0.20.\n",
            "  sample_weight=sample_weight)\n",
            "C:\\Users\\mrshu\\Anaconda3\\lib\\site-packages\\sklearn\\metrics\\scorer.py:100: DeprecationWarning: Scoring method mean_squared_error was renamed to neg_mean_squared_error in version 0.18 and will be removed in 0.20.\n",
            "  sample_weight=sample_weight)\n",
            "C:\\Users\\mrshu\\Anaconda3\\lib\\site-packages\\sklearn\\metrics\\scorer.py:100: DeprecationWarning: Scoring method mean_squared_error was renamed to neg_mean_squared_error in version 0.18 and will be removed in 0.20.\n",
            "  sample_weight=sample_weight)\n",
            "C:\\Users\\mrshu\\Anaconda3\\lib\\site-packages\\sklearn\\metrics\\scorer.py:100: DeprecationWarning: Scoring method mean_squared_error was renamed to neg_mean_squared_error in version 0.18 and will be removed in 0.20.\n",
            "  sample_weight=sample_weight)\n",
            "C:\\Users\\mrshu\\Anaconda3\\lib\\site-packages\\sklearn\\metrics\\scorer.py:100: DeprecationWarning: Scoring method mean_squared_error was renamed to neg_mean_squared_error in version 0.18 and will be removed in 0.20.\n",
            "  sample_weight=sample_weight)\n",
            "C:\\Users\\mrshu\\Anaconda3\\lib\\site-packages\\sklearn\\metrics\\scorer.py:100: DeprecationWarning: Scoring method mean_squared_error was renamed to neg_mean_squared_error in version 0.18 and will be removed in 0.20.\n",
            "  sample_weight=sample_weight)\n",
            "C:\\Users\\mrshu\\Anaconda3\\lib\\site-packages\\sklearn\\metrics\\scorer.py:100: DeprecationWarning: Scoring method mean_squared_error was renamed to neg_mean_squared_error in version 0.18 and will be removed in 0.20.\n",
            "  sample_weight=sample_weight)\n",
            "C:\\Users\\mrshu\\Anaconda3\\lib\\site-packages\\sklearn\\metrics\\scorer.py:100: DeprecationWarning: Scoring method mean_squared_error was renamed to neg_mean_squared_error in version 0.18 and will be removed in 0.20.\n",
            "  sample_weight=sample_weight)\n",
            "C:\\Users\\mrshu\\Anaconda3\\lib\\site-packages\\sklearn\\metrics\\scorer.py:100: DeprecationWarning: Scoring method mean_squared_error was renamed to neg_mean_squared_error in version 0.18 and will be removed in 0.20.\n",
            "  sample_weight=sample_weight)\n",
            "C:\\Users\\mrshu\\Anaconda3\\lib\\site-packages\\sklearn\\metrics\\scorer.py:100: DeprecationWarning: Scoring method mean_squared_error was renamed to neg_mean_squared_error in version 0.18 and will be removed in 0.20.\n",
            "  sample_weight=sample_weight)\n",
            "C:\\Users\\mrshu\\Anaconda3\\lib\\site-packages\\sklearn\\metrics\\scorer.py:100: DeprecationWarning: Scoring method mean_squared_error was renamed to neg_mean_squared_error in version 0.18 and will be removed in 0.20.\n",
            "  sample_weight=sample_weight)\n",
            "C:\\Users\\mrshu\\Anaconda3\\lib\\site-packages\\sklearn\\metrics\\scorer.py:100: DeprecationWarning: Scoring method mean_squared_error was renamed to neg_mean_squared_error in version 0.18 and will be removed in 0.20.\n",
            "  sample_weight=sample_weight)\n",
            "C:\\Users\\mrshu\\Anaconda3\\lib\\site-packages\\sklearn\\metrics\\scorer.py:100: DeprecationWarning: Scoring method mean_squared_error was renamed to neg_mean_squared_error in version 0.18 and will be removed in 0.20.\n",
            "  sample_weight=sample_weight)\n",
            "C:\\Users\\mrshu\\Anaconda3\\lib\\site-packages\\sklearn\\metrics\\scorer.py:100: DeprecationWarning: Scoring method mean_squared_error was renamed to neg_mean_squared_error in version 0.18 and will be removed in 0.20.\n",
            "  sample_weight=sample_weight)\n",
            "C:\\Users\\mrshu\\Anaconda3\\lib\\site-packages\\sklearn\\metrics\\scorer.py:100: DeprecationWarning: Scoring method mean_squared_error was renamed to neg_mean_squared_error in version 0.18 and will be removed in 0.20.\n",
            "  sample_weight=sample_weight)\n",
            "C:\\Users\\mrshu\\Anaconda3\\lib\\site-packages\\sklearn\\metrics\\scorer.py:100: DeprecationWarning: Scoring method mean_squared_error was renamed to neg_mean_squared_error in version 0.18 and will be removed in 0.20.\n",
            "  sample_weight=sample_weight)\n",
            "C:\\Users\\mrshu\\Anaconda3\\lib\\site-packages\\sklearn\\metrics\\scorer.py:100: DeprecationWarning: Scoring method mean_squared_error was renamed to neg_mean_squared_error in version 0.18 and will be removed in 0.20.\n",
            "  sample_weight=sample_weight)\n",
            "C:\\Users\\mrshu\\Anaconda3\\lib\\site-packages\\sklearn\\metrics\\scorer.py:100: DeprecationWarning: Scoring method mean_squared_error was renamed to neg_mean_squared_error in version 0.18 and will be removed in 0.20.\n",
            "  sample_weight=sample_weight)\n",
            "C:\\Users\\mrshu\\Anaconda3\\lib\\site-packages\\sklearn\\metrics\\scorer.py:100: DeprecationWarning: Scoring method mean_squared_error was renamed to neg_mean_squared_error in version 0.18 and will be removed in 0.20.\n",
            "  sample_weight=sample_weight)\n",
            "C:\\Users\\mrshu\\Anaconda3\\lib\\site-packages\\sklearn\\metrics\\scorer.py:100: DeprecationWarning: Scoring method mean_squared_error was renamed to neg_mean_squared_error in version 0.18 and will be removed in 0.20.\n",
            "  sample_weight=sample_weight)\n",
            "C:\\Users\\mrshu\\Anaconda3\\lib\\site-packages\\sklearn\\metrics\\scorer.py:100: DeprecationWarning: Scoring method mean_squared_error was renamed to neg_mean_squared_error in version 0.18 and will be removed in 0.20.\n",
            "  sample_weight=sample_weight)\n",
            "C:\\Users\\mrshu\\Anaconda3\\lib\\site-packages\\sklearn\\metrics\\scorer.py:100: DeprecationWarning: Scoring method mean_squared_error was renamed to neg_mean_squared_error in version 0.18 and will be removed in 0.20.\n",
            "  sample_weight=sample_weight)\n",
            "C:\\Users\\mrshu\\Anaconda3\\lib\\site-packages\\sklearn\\metrics\\scorer.py:100: DeprecationWarning: Scoring method mean_squared_error was renamed to neg_mean_squared_error in version 0.18 and will be removed in 0.20.\n",
            "  sample_weight=sample_weight)\n",
            "C:\\Users\\mrshu\\Anaconda3\\lib\\site-packages\\sklearn\\metrics\\scorer.py:100: DeprecationWarning: Scoring method mean_squared_error was renamed to neg_mean_squared_error in version 0.18 and will be removed in 0.20.\n",
            "  sample_weight=sample_weight)\n",
            "C:\\Users\\mrshu\\Anaconda3\\lib\\site-packages\\sklearn\\metrics\\scorer.py:100: DeprecationWarning: Scoring method mean_squared_error was renamed to neg_mean_squared_error in version 0.18 and will be removed in 0.20.\n",
            "  sample_weight=sample_weight)\n",
            "C:\\Users\\mrshu\\Anaconda3\\lib\\site-packages\\sklearn\\metrics\\scorer.py:100: DeprecationWarning: Scoring method mean_squared_error was renamed to neg_mean_squared_error in version 0.18 and will be removed in 0.20.\n",
            "  sample_weight=sample_weight)\n",
            "C:\\Users\\mrshu\\Anaconda3\\lib\\site-packages\\sklearn\\metrics\\scorer.py:100: DeprecationWarning: Scoring method mean_squared_error was renamed to neg_mean_squared_error in version 0.18 and will be removed in 0.20.\n",
            "  sample_weight=sample_weight)\n",
            "C:\\Users\\mrshu\\Anaconda3\\lib\\site-packages\\sklearn\\metrics\\scorer.py:100: DeprecationWarning: Scoring method mean_squared_error was renamed to neg_mean_squared_error in version 0.18 and will be removed in 0.20.\n",
            "  sample_weight=sample_weight)\n",
            "C:\\Users\\mrshu\\Anaconda3\\lib\\site-packages\\sklearn\\metrics\\scorer.py:100: DeprecationWarning: Scoring method mean_squared_error was renamed to neg_mean_squared_error in version 0.18 and will be removed in 0.20.\n",
            "  sample_weight=sample_weight)\n",
            "C:\\Users\\mrshu\\Anaconda3\\lib\\site-packages\\sklearn\\metrics\\scorer.py:100: DeprecationWarning: Scoring method mean_squared_error was renamed to neg_mean_squared_error in version 0.18 and will be removed in 0.20.\n",
            "  sample_weight=sample_weight)\n",
            "C:\\Users\\mrshu\\Anaconda3\\lib\\site-packages\\sklearn\\metrics\\scorer.py:100: DeprecationWarning: Scoring method mean_squared_error was renamed to neg_mean_squared_error in version 0.18 and will be removed in 0.20.\n",
            "  sample_weight=sample_weight)\n",
            "C:\\Users\\mrshu\\Anaconda3\\lib\\site-packages\\sklearn\\metrics\\scorer.py:100: DeprecationWarning: Scoring method mean_squared_error was renamed to neg_mean_squared_error in version 0.18 and will be removed in 0.20.\n",
            "  sample_weight=sample_weight)\n",
            "C:\\Users\\mrshu\\Anaconda3\\lib\\site-packages\\sklearn\\metrics\\scorer.py:100: DeprecationWarning: Scoring method mean_squared_error was renamed to neg_mean_squared_error in version 0.18 and will be removed in 0.20.\n",
            "  sample_weight=sample_weight)\n",
            "C:\\Users\\mrshu\\Anaconda3\\lib\\site-packages\\sklearn\\metrics\\scorer.py:100: DeprecationWarning: Scoring method mean_squared_error was renamed to neg_mean_squared_error in version 0.18 and will be removed in 0.20.\n",
            "  sample_weight=sample_weight)\n",
            "C:\\Users\\mrshu\\Anaconda3\\lib\\site-packages\\sklearn\\metrics\\scorer.py:100: DeprecationWarning: Scoring method mean_squared_error was renamed to neg_mean_squared_error in version 0.18 and will be removed in 0.20.\n",
            "  sample_weight=sample_weight)\n",
            "C:\\Users\\mrshu\\Anaconda3\\lib\\site-packages\\sklearn\\metrics\\scorer.py:100: DeprecationWarning: Scoring method mean_squared_error was renamed to neg_mean_squared_error in version 0.18 and will be removed in 0.20.\n",
            "  sample_weight=sample_weight)\n",
            "C:\\Users\\mrshu\\Anaconda3\\lib\\site-packages\\sklearn\\metrics\\scorer.py:100: DeprecationWarning: Scoring method mean_squared_error was renamed to neg_mean_squared_error in version 0.18 and will be removed in 0.20.\n",
            "  sample_weight=sample_weight)\n",
            "C:\\Users\\mrshu\\Anaconda3\\lib\\site-packages\\sklearn\\metrics\\scorer.py:100: DeprecationWarning: Scoring method mean_squared_error was renamed to neg_mean_squared_error in version 0.18 and will be removed in 0.20.\n",
            "  sample_weight=sample_weight)\n",
            "C:\\Users\\mrshu\\Anaconda3\\lib\\site-packages\\sklearn\\metrics\\scorer.py:100: DeprecationWarning: Scoring method mean_squared_error was renamed to neg_mean_squared_error in version 0.18 and will be removed in 0.20.\n",
            "  sample_weight=sample_weight)\n",
            "C:\\Users\\mrshu\\Anaconda3\\lib\\site-packages\\sklearn\\metrics\\scorer.py:100: DeprecationWarning: Scoring method mean_squared_error was renamed to neg_mean_squared_error in version 0.18 and will be removed in 0.20.\n",
            "  sample_weight=sample_weight)\n",
            "C:\\Users\\mrshu\\Anaconda3\\lib\\site-packages\\sklearn\\metrics\\scorer.py:100: DeprecationWarning: Scoring method mean_squared_error was renamed to neg_mean_squared_error in version 0.18 and will be removed in 0.20.\n",
            "  sample_weight=sample_weight)\n",
            "C:\\Users\\mrshu\\Anaconda3\\lib\\site-packages\\sklearn\\metrics\\scorer.py:100: DeprecationWarning: Scoring method mean_squared_error was renamed to neg_mean_squared_error in version 0.18 and will be removed in 0.20.\n",
            "  sample_weight=sample_weight)\n",
            "C:\\Users\\mrshu\\Anaconda3\\lib\\site-packages\\sklearn\\metrics\\scorer.py:100: DeprecationWarning: Scoring method mean_squared_error was renamed to neg_mean_squared_error in version 0.18 and will be removed in 0.20.\n",
            "  sample_weight=sample_weight)\n",
            "C:\\Users\\mrshu\\Anaconda3\\lib\\site-packages\\sklearn\\metrics\\scorer.py:100: DeprecationWarning: Scoring method mean_squared_error was renamed to neg_mean_squared_error in version 0.18 and will be removed in 0.20.\n",
            "  sample_weight=sample_weight)\n",
            "C:\\Users\\mrshu\\Anaconda3\\lib\\site-packages\\sklearn\\metrics\\scorer.py:100: DeprecationWarning: Scoring method mean_squared_error was renamed to neg_mean_squared_error in version 0.18 and will be removed in 0.20.\n",
            "  sample_weight=sample_weight)\n",
            "C:\\Users\\mrshu\\Anaconda3\\lib\\site-packages\\sklearn\\metrics\\scorer.py:100: DeprecationWarning: Scoring method mean_squared_error was renamed to neg_mean_squared_error in version 0.18 and will be removed in 0.20.\n",
            "  sample_weight=sample_weight)\n",
            "C:\\Users\\mrshu\\Anaconda3\\lib\\site-packages\\sklearn\\metrics\\scorer.py:100: DeprecationWarning: Scoring method mean_squared_error was renamed to neg_mean_squared_error in version 0.18 and will be removed in 0.20.\n",
            "  sample_weight=sample_weight)\n",
            "C:\\Users\\mrshu\\Anaconda3\\lib\\site-packages\\sklearn\\metrics\\scorer.py:100: DeprecationWarning: Scoring method mean_squared_error was renamed to neg_mean_squared_error in version 0.18 and will be removed in 0.20.\n",
            "  sample_weight=sample_weight)\n",
            "C:\\Users\\mrshu\\Anaconda3\\lib\\site-packages\\sklearn\\metrics\\scorer.py:100: DeprecationWarning: Scoring method mean_squared_error was renamed to neg_mean_squared_error in version 0.18 and will be removed in 0.20.\n",
            "  sample_weight=sample_weight)\n",
            "C:\\Users\\mrshu\\Anaconda3\\lib\\site-packages\\sklearn\\metrics\\scorer.py:100: DeprecationWarning: Scoring method mean_squared_error was renamed to neg_mean_squared_error in version 0.18 and will be removed in 0.20.\n",
            "  sample_weight=sample_weight)\n",
            "C:\\Users\\mrshu\\Anaconda3\\lib\\site-packages\\sklearn\\metrics\\scorer.py:100: DeprecationWarning: Scoring method mean_squared_error was renamed to neg_mean_squared_error in version 0.18 and will be removed in 0.20.\n",
            "  sample_weight=sample_weight)\n",
            "C:\\Users\\mrshu\\Anaconda3\\lib\\site-packages\\sklearn\\metrics\\scorer.py:100: DeprecationWarning: Scoring method mean_squared_error was renamed to neg_mean_squared_error in version 0.18 and will be removed in 0.20.\n",
            "  sample_weight=sample_weight)\n",
            "C:\\Users\\mrshu\\Anaconda3\\lib\\site-packages\\sklearn\\metrics\\scorer.py:100: DeprecationWarning: Scoring method mean_squared_error was renamed to neg_mean_squared_error in version 0.18 and will be removed in 0.20.\n",
            "  sample_weight=sample_weight)\n",
            "C:\\Users\\mrshu\\Anaconda3\\lib\\site-packages\\sklearn\\metrics\\scorer.py:100: DeprecationWarning: Scoring method mean_squared_error was renamed to neg_mean_squared_error in version 0.18 and will be removed in 0.20.\n",
            "  sample_weight=sample_weight)\n",
            "C:\\Users\\mrshu\\Anaconda3\\lib\\site-packages\\sklearn\\metrics\\scorer.py:100: DeprecationWarning: Scoring method mean_squared_error was renamed to neg_mean_squared_error in version 0.18 and will be removed in 0.20.\n",
            "  sample_weight=sample_weight)\n",
            "C:\\Users\\mrshu\\Anaconda3\\lib\\site-packages\\sklearn\\metrics\\scorer.py:100: DeprecationWarning: Scoring method mean_squared_error was renamed to neg_mean_squared_error in version 0.18 and will be removed in 0.20.\n",
            "  sample_weight=sample_weight)\n",
            "C:\\Users\\mrshu\\Anaconda3\\lib\\site-packages\\sklearn\\metrics\\scorer.py:100: DeprecationWarning: Scoring method mean_squared_error was renamed to neg_mean_squared_error in version 0.18 and will be removed in 0.20.\n",
            "  sample_weight=sample_weight)\n",
            "C:\\Users\\mrshu\\Anaconda3\\lib\\site-packages\\sklearn\\metrics\\scorer.py:100: DeprecationWarning: Scoring method mean_squared_error was renamed to neg_mean_squared_error in version 0.18 and will be removed in 0.20.\n",
            "  sample_weight=sample_weight)\n",
            "C:\\Users\\mrshu\\Anaconda3\\lib\\site-packages\\sklearn\\metrics\\scorer.py:100: DeprecationWarning: Scoring method mean_squared_error was renamed to neg_mean_squared_error in version 0.18 and will be removed in 0.20.\n",
            "  sample_weight=sample_weight)\n",
            "C:\\Users\\mrshu\\Anaconda3\\lib\\site-packages\\sklearn\\metrics\\scorer.py:100: DeprecationWarning: Scoring method mean_squared_error was renamed to neg_mean_squared_error in version 0.18 and will be removed in 0.20.\n",
            "  sample_weight=sample_weight)\n",
            "C:\\Users\\mrshu\\Anaconda3\\lib\\site-packages\\sklearn\\metrics\\scorer.py:100: DeprecationWarning: Scoring method mean_squared_error was renamed to neg_mean_squared_error in version 0.18 and will be removed in 0.20.\n",
            "  sample_weight=sample_weight)\n",
            "C:\\Users\\mrshu\\Anaconda3\\lib\\site-packages\\sklearn\\metrics\\scorer.py:100: DeprecationWarning: Scoring method mean_squared_error was renamed to neg_mean_squared_error in version 0.18 and will be removed in 0.20.\n",
            "  sample_weight=sample_weight)\n",
            "C:\\Users\\mrshu\\Anaconda3\\lib\\site-packages\\sklearn\\metrics\\scorer.py:100: DeprecationWarning: Scoring method mean_squared_error was renamed to neg_mean_squared_error in version 0.18 and will be removed in 0.20.\n",
            "  sample_weight=sample_weight)\n",
            "C:\\Users\\mrshu\\Anaconda3\\lib\\site-packages\\sklearn\\metrics\\scorer.py:100: DeprecationWarning: Scoring method mean_squared_error was renamed to neg_mean_squared_error in version 0.18 and will be removed in 0.20.\n",
            "  sample_weight=sample_weight)\n",
            "C:\\Users\\mrshu\\Anaconda3\\lib\\site-packages\\sklearn\\metrics\\scorer.py:100: DeprecationWarning: Scoring method mean_squared_error was renamed to neg_mean_squared_error in version 0.18 and will be removed in 0.20.\n",
            "  sample_weight=sample_weight)\n",
            "C:\\Users\\mrshu\\Anaconda3\\lib\\site-packages\\sklearn\\metrics\\scorer.py:100: DeprecationWarning: Scoring method mean_squared_error was renamed to neg_mean_squared_error in version 0.18 and will be removed in 0.20.\n",
            "  sample_weight=sample_weight)\n",
            "C:\\Users\\mrshu\\Anaconda3\\lib\\site-packages\\sklearn\\metrics\\scorer.py:100: DeprecationWarning: Scoring method mean_squared_error was renamed to neg_mean_squared_error in version 0.18 and will be removed in 0.20.\n",
            "  sample_weight=sample_weight)\n",
            "C:\\Users\\mrshu\\Anaconda3\\lib\\site-packages\\sklearn\\metrics\\scorer.py:100: DeprecationWarning: Scoring method mean_squared_error was renamed to neg_mean_squared_error in version 0.18 and will be removed in 0.20.\n",
            "  sample_weight=sample_weight)\n",
            "C:\\Users\\mrshu\\Anaconda3\\lib\\site-packages\\sklearn\\metrics\\scorer.py:100: DeprecationWarning: Scoring method mean_squared_error was renamed to neg_mean_squared_error in version 0.18 and will be removed in 0.20.\n",
            "  sample_weight=sample_weight)\n",
            "C:\\Users\\mrshu\\Anaconda3\\lib\\site-packages\\sklearn\\metrics\\scorer.py:100: DeprecationWarning: Scoring method mean_squared_error was renamed to neg_mean_squared_error in version 0.18 and will be removed in 0.20.\n",
            "  sample_weight=sample_weight)\n",
            "C:\\Users\\mrshu\\Anaconda3\\lib\\site-packages\\sklearn\\metrics\\scorer.py:100: DeprecationWarning: Scoring method mean_squared_error was renamed to neg_mean_squared_error in version 0.18 and will be removed in 0.20.\n",
            "  sample_weight=sample_weight)\n",
            "C:\\Users\\mrshu\\Anaconda3\\lib\\site-packages\\sklearn\\metrics\\scorer.py:100: DeprecationWarning: Scoring method mean_squared_error was renamed to neg_mean_squared_error in version 0.18 and will be removed in 0.20.\n",
            "  sample_weight=sample_weight)\n",
            "C:\\Users\\mrshu\\Anaconda3\\lib\\site-packages\\sklearn\\metrics\\scorer.py:100: DeprecationWarning: Scoring method mean_squared_error was renamed to neg_mean_squared_error in version 0.18 and will be removed in 0.20.\n",
            "  sample_weight=sample_weight)\n",
            "C:\\Users\\mrshu\\Anaconda3\\lib\\site-packages\\sklearn\\metrics\\scorer.py:100: DeprecationWarning: Scoring method mean_squared_error was renamed to neg_mean_squared_error in version 0.18 and will be removed in 0.20.\n",
            "  sample_weight=sample_weight)\n",
            "C:\\Users\\mrshu\\Anaconda3\\lib\\site-packages\\sklearn\\metrics\\scorer.py:100: DeprecationWarning: Scoring method mean_squared_error was renamed to neg_mean_squared_error in version 0.18 and will be removed in 0.20.\n",
            "  sample_weight=sample_weight)\n",
            "C:\\Users\\mrshu\\Anaconda3\\lib\\site-packages\\sklearn\\metrics\\scorer.py:100: DeprecationWarning: Scoring method mean_squared_error was renamed to neg_mean_squared_error in version 0.18 and will be removed in 0.20.\n",
            "  sample_weight=sample_weight)\n",
            "C:\\Users\\mrshu\\Anaconda3\\lib\\site-packages\\sklearn\\metrics\\scorer.py:100: DeprecationWarning: Scoring method mean_squared_error was renamed to neg_mean_squared_error in version 0.18 and will be removed in 0.20.\n",
            "  sample_weight=sample_weight)\n",
            "C:\\Users\\mrshu\\Anaconda3\\lib\\site-packages\\sklearn\\metrics\\scorer.py:100: DeprecationWarning: Scoring method mean_squared_error was renamed to neg_mean_squared_error in version 0.18 and will be removed in 0.20.\n",
            "  sample_weight=sample_weight)\n",
            "C:\\Users\\mrshu\\Anaconda3\\lib\\site-packages\\sklearn\\metrics\\scorer.py:100: DeprecationWarning: Scoring method mean_squared_error was renamed to neg_mean_squared_error in version 0.18 and will be removed in 0.20.\n",
            "  sample_weight=sample_weight)\n",
            "C:\\Users\\mrshu\\Anaconda3\\lib\\site-packages\\sklearn\\metrics\\scorer.py:100: DeprecationWarning: Scoring method mean_squared_error was renamed to neg_mean_squared_error in version 0.18 and will be removed in 0.20.\n",
            "  sample_weight=sample_weight)\n",
            "C:\\Users\\mrshu\\Anaconda3\\lib\\site-packages\\sklearn\\metrics\\scorer.py:100: DeprecationWarning: Scoring method mean_squared_error was renamed to neg_mean_squared_error in version 0.18 and will be removed in 0.20.\n",
            "  sample_weight=sample_weight)\n",
            "C:\\Users\\mrshu\\Anaconda3\\lib\\site-packages\\sklearn\\metrics\\scorer.py:100: DeprecationWarning: Scoring method mean_squared_error was renamed to neg_mean_squared_error in version 0.18 and will be removed in 0.20.\n",
            "  sample_weight=sample_weight)\n",
            "C:\\Users\\mrshu\\Anaconda3\\lib\\site-packages\\sklearn\\metrics\\scorer.py:100: DeprecationWarning: Scoring method mean_squared_error was renamed to neg_mean_squared_error in version 0.18 and will be removed in 0.20.\n",
            "  sample_weight=sample_weight)\n",
            "C:\\Users\\mrshu\\Anaconda3\\lib\\site-packages\\sklearn\\metrics\\scorer.py:100: DeprecationWarning: Scoring method mean_squared_error was renamed to neg_mean_squared_error in version 0.18 and will be removed in 0.20.\n",
            "  sample_weight=sample_weight)\n",
            "C:\\Users\\mrshu\\Anaconda3\\lib\\site-packages\\sklearn\\metrics\\scorer.py:100: DeprecationWarning: Scoring method mean_squared_error was renamed to neg_mean_squared_error in version 0.18 and will be removed in 0.20.\n",
            "  sample_weight=sample_weight)\n",
            "C:\\Users\\mrshu\\Anaconda3\\lib\\site-packages\\sklearn\\metrics\\scorer.py:100: DeprecationWarning: Scoring method mean_squared_error was renamed to neg_mean_squared_error in version 0.18 and will be removed in 0.20.\n",
            "  sample_weight=sample_weight)\n",
            "C:\\Users\\mrshu\\Anaconda3\\lib\\site-packages\\sklearn\\metrics\\scorer.py:100: DeprecationWarning: Scoring method mean_squared_error was renamed to neg_mean_squared_error in version 0.18 and will be removed in 0.20.\n",
            "  sample_weight=sample_weight)\n",
            "C:\\Users\\mrshu\\Anaconda3\\lib\\site-packages\\sklearn\\metrics\\scorer.py:100: DeprecationWarning: Scoring method mean_squared_error was renamed to neg_mean_squared_error in version 0.18 and will be removed in 0.20.\n",
            "  sample_weight=sample_weight)\n",
            "C:\\Users\\mrshu\\Anaconda3\\lib\\site-packages\\sklearn\\metrics\\scorer.py:100: DeprecationWarning: Scoring method mean_squared_error was renamed to neg_mean_squared_error in version 0.18 and will be removed in 0.20.\n",
            "  sample_weight=sample_weight)\n",
            "C:\\Users\\mrshu\\Anaconda3\\lib\\site-packages\\sklearn\\metrics\\scorer.py:100: DeprecationWarning: Scoring method mean_squared_error was renamed to neg_mean_squared_error in version 0.18 and will be removed in 0.20.\n",
            "  sample_weight=sample_weight)\n",
            "C:\\Users\\mrshu\\Anaconda3\\lib\\site-packages\\sklearn\\metrics\\scorer.py:100: DeprecationWarning: Scoring method mean_squared_error was renamed to neg_mean_squared_error in version 0.18 and will be removed in 0.20.\n",
            "  sample_weight=sample_weight)\n",
            "C:\\Users\\mrshu\\Anaconda3\\lib\\site-packages\\sklearn\\metrics\\scorer.py:100: DeprecationWarning: Scoring method mean_squared_error was renamed to neg_mean_squared_error in version 0.18 and will be removed in 0.20.\n",
            "  sample_weight=sample_weight)\n",
            "C:\\Users\\mrshu\\Anaconda3\\lib\\site-packages\\sklearn\\metrics\\scorer.py:100: DeprecationWarning: Scoring method mean_squared_error was renamed to neg_mean_squared_error in version 0.18 and will be removed in 0.20.\n",
            "  sample_weight=sample_weight)\n",
            "C:\\Users\\mrshu\\Anaconda3\\lib\\site-packages\\sklearn\\metrics\\scorer.py:100: DeprecationWarning: Scoring method mean_squared_error was renamed to neg_mean_squared_error in version 0.18 and will be removed in 0.20.\n",
            "  sample_weight=sample_weight)\n",
            "C:\\Users\\mrshu\\Anaconda3\\lib\\site-packages\\sklearn\\metrics\\scorer.py:100: DeprecationWarning: Scoring method mean_squared_error was renamed to neg_mean_squared_error in version 0.18 and will be removed in 0.20.\n",
            "  sample_weight=sample_weight)\n",
            "C:\\Users\\mrshu\\Anaconda3\\lib\\site-packages\\sklearn\\metrics\\scorer.py:100: DeprecationWarning: Scoring method mean_squared_error was renamed to neg_mean_squared_error in version 0.18 and will be removed in 0.20.\n",
            "  sample_weight=sample_weight)\n",
            "C:\\Users\\mrshu\\Anaconda3\\lib\\site-packages\\sklearn\\metrics\\scorer.py:100: DeprecationWarning: Scoring method mean_squared_error was renamed to neg_mean_squared_error in version 0.18 and will be removed in 0.20.\n",
            "  sample_weight=sample_weight)\n",
            "C:\\Users\\mrshu\\Anaconda3\\lib\\site-packages\\sklearn\\metrics\\scorer.py:100: DeprecationWarning: Scoring method mean_squared_error was renamed to neg_mean_squared_error in version 0.18 and will be removed in 0.20.\n",
            "  sample_weight=sample_weight)\n",
            "C:\\Users\\mrshu\\Anaconda3\\lib\\site-packages\\sklearn\\metrics\\scorer.py:100: DeprecationWarning: Scoring method mean_squared_error was renamed to neg_mean_squared_error in version 0.18 and will be removed in 0.20.\n",
            "  sample_weight=sample_weight)\n",
            "C:\\Users\\mrshu\\Anaconda3\\lib\\site-packages\\sklearn\\metrics\\scorer.py:100: DeprecationWarning: Scoring method mean_squared_error was renamed to neg_mean_squared_error in version 0.18 and will be removed in 0.20.\n",
            "  sample_weight=sample_weight)\n",
            "C:\\Users\\mrshu\\Anaconda3\\lib\\site-packages\\sklearn\\metrics\\scorer.py:100: DeprecationWarning: Scoring method mean_squared_error was renamed to neg_mean_squared_error in version 0.18 and will be removed in 0.20.\n",
            "  sample_weight=sample_weight)\n",
            "C:\\Users\\mrshu\\Anaconda3\\lib\\site-packages\\sklearn\\metrics\\scorer.py:100: DeprecationWarning: Scoring method mean_squared_error was renamed to neg_mean_squared_error in version 0.18 and will be removed in 0.20.\n",
            "  sample_weight=sample_weight)\n",
            "C:\\Users\\mrshu\\Anaconda3\\lib\\site-packages\\sklearn\\metrics\\scorer.py:100: DeprecationWarning: Scoring method mean_squared_error was renamed to neg_mean_squared_error in version 0.18 and will be removed in 0.20.\n",
            "  sample_weight=sample_weight)\n"
          ],
          "name": "stderr"
        },
        {
          "output_type": "stream",
          "text": [
            "C:\\Users\\mrshu\\Anaconda3\\lib\\site-packages\\sklearn\\metrics\\scorer.py:100: DeprecationWarning: Scoring method mean_squared_error was renamed to neg_mean_squared_error in version 0.18 and will be removed in 0.20.\n",
            "  sample_weight=sample_weight)\n",
            "C:\\Users\\mrshu\\Anaconda3\\lib\\site-packages\\sklearn\\metrics\\scorer.py:100: DeprecationWarning: Scoring method mean_squared_error was renamed to neg_mean_squared_error in version 0.18 and will be removed in 0.20.\n",
            "  sample_weight=sample_weight)\n",
            "C:\\Users\\mrshu\\Anaconda3\\lib\\site-packages\\sklearn\\metrics\\scorer.py:100: DeprecationWarning: Scoring method mean_squared_error was renamed to neg_mean_squared_error in version 0.18 and will be removed in 0.20.\n",
            "  sample_weight=sample_weight)\n",
            "C:\\Users\\mrshu\\Anaconda3\\lib\\site-packages\\sklearn\\metrics\\scorer.py:100: DeprecationWarning: Scoring method mean_squared_error was renamed to neg_mean_squared_error in version 0.18 and will be removed in 0.20.\n",
            "  sample_weight=sample_weight)\n",
            "C:\\Users\\mrshu\\Anaconda3\\lib\\site-packages\\sklearn\\metrics\\scorer.py:100: DeprecationWarning: Scoring method mean_squared_error was renamed to neg_mean_squared_error in version 0.18 and will be removed in 0.20.\n",
            "  sample_weight=sample_weight)\n",
            "C:\\Users\\mrshu\\Anaconda3\\lib\\site-packages\\sklearn\\metrics\\scorer.py:100: DeprecationWarning: Scoring method mean_squared_error was renamed to neg_mean_squared_error in version 0.18 and will be removed in 0.20.\n",
            "  sample_weight=sample_weight)\n",
            "C:\\Users\\mrshu\\Anaconda3\\lib\\site-packages\\sklearn\\metrics\\scorer.py:100: DeprecationWarning: Scoring method mean_squared_error was renamed to neg_mean_squared_error in version 0.18 and will be removed in 0.20.\n",
            "  sample_weight=sample_weight)\n",
            "C:\\Users\\mrshu\\Anaconda3\\lib\\site-packages\\sklearn\\metrics\\scorer.py:100: DeprecationWarning: Scoring method mean_squared_error was renamed to neg_mean_squared_error in version 0.18 and will be removed in 0.20.\n",
            "  sample_weight=sample_weight)\n",
            "C:\\Users\\mrshu\\Anaconda3\\lib\\site-packages\\sklearn\\metrics\\scorer.py:100: DeprecationWarning: Scoring method mean_squared_error was renamed to neg_mean_squared_error in version 0.18 and will be removed in 0.20.\n",
            "  sample_weight=sample_weight)\n",
            "C:\\Users\\mrshu\\Anaconda3\\lib\\site-packages\\sklearn\\metrics\\scorer.py:100: DeprecationWarning: Scoring method mean_squared_error was renamed to neg_mean_squared_error in version 0.18 and will be removed in 0.20.\n",
            "  sample_weight=sample_weight)\n",
            "C:\\Users\\mrshu\\Anaconda3\\lib\\site-packages\\sklearn\\metrics\\scorer.py:100: DeprecationWarning: Scoring method mean_squared_error was renamed to neg_mean_squared_error in version 0.18 and will be removed in 0.20.\n",
            "  sample_weight=sample_weight)\n",
            "C:\\Users\\mrshu\\Anaconda3\\lib\\site-packages\\sklearn\\metrics\\scorer.py:100: DeprecationWarning: Scoring method mean_squared_error was renamed to neg_mean_squared_error in version 0.18 and will be removed in 0.20.\n",
            "  sample_weight=sample_weight)\n",
            "C:\\Users\\mrshu\\Anaconda3\\lib\\site-packages\\sklearn\\metrics\\scorer.py:100: DeprecationWarning: Scoring method mean_squared_error was renamed to neg_mean_squared_error in version 0.18 and will be removed in 0.20.\n",
            "  sample_weight=sample_weight)\n",
            "C:\\Users\\mrshu\\Anaconda3\\lib\\site-packages\\sklearn\\metrics\\scorer.py:100: DeprecationWarning: Scoring method mean_squared_error was renamed to neg_mean_squared_error in version 0.18 and will be removed in 0.20.\n",
            "  sample_weight=sample_weight)\n",
            "C:\\Users\\mrshu\\Anaconda3\\lib\\site-packages\\sklearn\\metrics\\scorer.py:100: DeprecationWarning: Scoring method mean_squared_error was renamed to neg_mean_squared_error in version 0.18 and will be removed in 0.20.\n",
            "  sample_weight=sample_weight)\n",
            "C:\\Users\\mrshu\\Anaconda3\\lib\\site-packages\\sklearn\\metrics\\scorer.py:100: DeprecationWarning: Scoring method mean_squared_error was renamed to neg_mean_squared_error in version 0.18 and will be removed in 0.20.\n",
            "  sample_weight=sample_weight)\n",
            "C:\\Users\\mrshu\\Anaconda3\\lib\\site-packages\\sklearn\\metrics\\scorer.py:100: DeprecationWarning: Scoring method mean_squared_error was renamed to neg_mean_squared_error in version 0.18 and will be removed in 0.20.\n",
            "  sample_weight=sample_weight)\n",
            "C:\\Users\\mrshu\\Anaconda3\\lib\\site-packages\\sklearn\\metrics\\scorer.py:100: DeprecationWarning: Scoring method mean_squared_error was renamed to neg_mean_squared_error in version 0.18 and will be removed in 0.20.\n",
            "  sample_weight=sample_weight)\n",
            "C:\\Users\\mrshu\\Anaconda3\\lib\\site-packages\\sklearn\\metrics\\scorer.py:100: DeprecationWarning: Scoring method mean_squared_error was renamed to neg_mean_squared_error in version 0.18 and will be removed in 0.20.\n",
            "  sample_weight=sample_weight)\n",
            "C:\\Users\\mrshu\\Anaconda3\\lib\\site-packages\\sklearn\\metrics\\scorer.py:100: DeprecationWarning: Scoring method mean_squared_error was renamed to neg_mean_squared_error in version 0.18 and will be removed in 0.20.\n",
            "  sample_weight=sample_weight)\n",
            "C:\\Users\\mrshu\\Anaconda3\\lib\\site-packages\\sklearn\\metrics\\scorer.py:100: DeprecationWarning: Scoring method mean_squared_error was renamed to neg_mean_squared_error in version 0.18 and will be removed in 0.20.\n",
            "  sample_weight=sample_weight)\n",
            "C:\\Users\\mrshu\\Anaconda3\\lib\\site-packages\\sklearn\\metrics\\scorer.py:100: DeprecationWarning: Scoring method mean_squared_error was renamed to neg_mean_squared_error in version 0.18 and will be removed in 0.20.\n",
            "  sample_weight=sample_weight)\n",
            "C:\\Users\\mrshu\\Anaconda3\\lib\\site-packages\\sklearn\\metrics\\scorer.py:100: DeprecationWarning: Scoring method mean_squared_error was renamed to neg_mean_squared_error in version 0.18 and will be removed in 0.20.\n",
            "  sample_weight=sample_weight)\n",
            "C:\\Users\\mrshu\\Anaconda3\\lib\\site-packages\\sklearn\\metrics\\scorer.py:100: DeprecationWarning: Scoring method mean_squared_error was renamed to neg_mean_squared_error in version 0.18 and will be removed in 0.20.\n",
            "  sample_weight=sample_weight)\n",
            "C:\\Users\\mrshu\\Anaconda3\\lib\\site-packages\\sklearn\\metrics\\scorer.py:100: DeprecationWarning: Scoring method mean_squared_error was renamed to neg_mean_squared_error in version 0.18 and will be removed in 0.20.\n",
            "  sample_weight=sample_weight)\n",
            "C:\\Users\\mrshu\\Anaconda3\\lib\\site-packages\\sklearn\\metrics\\scorer.py:100: DeprecationWarning: Scoring method mean_squared_error was renamed to neg_mean_squared_error in version 0.18 and will be removed in 0.20.\n",
            "  sample_weight=sample_weight)\n",
            "C:\\Users\\mrshu\\Anaconda3\\lib\\site-packages\\sklearn\\metrics\\scorer.py:100: DeprecationWarning: Scoring method mean_squared_error was renamed to neg_mean_squared_error in version 0.18 and will be removed in 0.20.\n",
            "  sample_weight=sample_weight)\n",
            "C:\\Users\\mrshu\\Anaconda3\\lib\\site-packages\\sklearn\\metrics\\scorer.py:100: DeprecationWarning: Scoring method mean_squared_error was renamed to neg_mean_squared_error in version 0.18 and will be removed in 0.20.\n",
            "  sample_weight=sample_weight)\n",
            "C:\\Users\\mrshu\\Anaconda3\\lib\\site-packages\\sklearn\\metrics\\scorer.py:100: DeprecationWarning: Scoring method mean_squared_error was renamed to neg_mean_squared_error in version 0.18 and will be removed in 0.20.\n",
            "  sample_weight=sample_weight)\n",
            "C:\\Users\\mrshu\\Anaconda3\\lib\\site-packages\\sklearn\\metrics\\scorer.py:100: DeprecationWarning: Scoring method mean_squared_error was renamed to neg_mean_squared_error in version 0.18 and will be removed in 0.20.\n",
            "  sample_weight=sample_weight)\n",
            "C:\\Users\\mrshu\\Anaconda3\\lib\\site-packages\\sklearn\\metrics\\scorer.py:100: DeprecationWarning: Scoring method mean_squared_error was renamed to neg_mean_squared_error in version 0.18 and will be removed in 0.20.\n",
            "  sample_weight=sample_weight)\n",
            "C:\\Users\\mrshu\\Anaconda3\\lib\\site-packages\\sklearn\\metrics\\scorer.py:100: DeprecationWarning: Scoring method mean_squared_error was renamed to neg_mean_squared_error in version 0.18 and will be removed in 0.20.\n",
            "  sample_weight=sample_weight)\n",
            "C:\\Users\\mrshu\\Anaconda3\\lib\\site-packages\\sklearn\\metrics\\scorer.py:100: DeprecationWarning: Scoring method mean_squared_error was renamed to neg_mean_squared_error in version 0.18 and will be removed in 0.20.\n",
            "  sample_weight=sample_weight)\n",
            "C:\\Users\\mrshu\\Anaconda3\\lib\\site-packages\\sklearn\\metrics\\scorer.py:100: DeprecationWarning: Scoring method mean_squared_error was renamed to neg_mean_squared_error in version 0.18 and will be removed in 0.20.\n",
            "  sample_weight=sample_weight)\n",
            "C:\\Users\\mrshu\\Anaconda3\\lib\\site-packages\\sklearn\\metrics\\scorer.py:100: DeprecationWarning: Scoring method mean_squared_error was renamed to neg_mean_squared_error in version 0.18 and will be removed in 0.20.\n",
            "  sample_weight=sample_weight)\n",
            "C:\\Users\\mrshu\\Anaconda3\\lib\\site-packages\\sklearn\\metrics\\scorer.py:100: DeprecationWarning: Scoring method mean_squared_error was renamed to neg_mean_squared_error in version 0.18 and will be removed in 0.20.\n",
            "  sample_weight=sample_weight)\n",
            "C:\\Users\\mrshu\\Anaconda3\\lib\\site-packages\\sklearn\\metrics\\scorer.py:100: DeprecationWarning: Scoring method mean_squared_error was renamed to neg_mean_squared_error in version 0.18 and will be removed in 0.20.\n",
            "  sample_weight=sample_weight)\n",
            "C:\\Users\\mrshu\\Anaconda3\\lib\\site-packages\\sklearn\\metrics\\scorer.py:100: DeprecationWarning: Scoring method mean_squared_error was renamed to neg_mean_squared_error in version 0.18 and will be removed in 0.20.\n",
            "  sample_weight=sample_weight)\n",
            "C:\\Users\\mrshu\\Anaconda3\\lib\\site-packages\\sklearn\\metrics\\scorer.py:100: DeprecationWarning: Scoring method mean_squared_error was renamed to neg_mean_squared_error in version 0.18 and will be removed in 0.20.\n",
            "  sample_weight=sample_weight)\n",
            "C:\\Users\\mrshu\\Anaconda3\\lib\\site-packages\\sklearn\\metrics\\scorer.py:100: DeprecationWarning: Scoring method mean_squared_error was renamed to neg_mean_squared_error in version 0.18 and will be removed in 0.20.\n",
            "  sample_weight=sample_weight)\n",
            "C:\\Users\\mrshu\\Anaconda3\\lib\\site-packages\\sklearn\\metrics\\scorer.py:100: DeprecationWarning: Scoring method mean_squared_error was renamed to neg_mean_squared_error in version 0.18 and will be removed in 0.20.\n",
            "  sample_weight=sample_weight)\n",
            "C:\\Users\\mrshu\\Anaconda3\\lib\\site-packages\\sklearn\\metrics\\scorer.py:100: DeprecationWarning: Scoring method mean_squared_error was renamed to neg_mean_squared_error in version 0.18 and will be removed in 0.20.\n",
            "  sample_weight=sample_weight)\n",
            "C:\\Users\\mrshu\\Anaconda3\\lib\\site-packages\\sklearn\\metrics\\scorer.py:100: DeprecationWarning: Scoring method mean_squared_error was renamed to neg_mean_squared_error in version 0.18 and will be removed in 0.20.\n",
            "  sample_weight=sample_weight)\n",
            "C:\\Users\\mrshu\\Anaconda3\\lib\\site-packages\\sklearn\\metrics\\scorer.py:100: DeprecationWarning: Scoring method mean_squared_error was renamed to neg_mean_squared_error in version 0.18 and will be removed in 0.20.\n",
            "  sample_weight=sample_weight)\n",
            "C:\\Users\\mrshu\\Anaconda3\\lib\\site-packages\\sklearn\\metrics\\scorer.py:100: DeprecationWarning: Scoring method mean_squared_error was renamed to neg_mean_squared_error in version 0.18 and will be removed in 0.20.\n",
            "  sample_weight=sample_weight)\n",
            "C:\\Users\\mrshu\\Anaconda3\\lib\\site-packages\\sklearn\\metrics\\scorer.py:100: DeprecationWarning: Scoring method mean_squared_error was renamed to neg_mean_squared_error in version 0.18 and will be removed in 0.20.\n",
            "  sample_weight=sample_weight)\n",
            "C:\\Users\\mrshu\\Anaconda3\\lib\\site-packages\\sklearn\\metrics\\scorer.py:100: DeprecationWarning: Scoring method mean_squared_error was renamed to neg_mean_squared_error in version 0.18 and will be removed in 0.20.\n",
            "  sample_weight=sample_weight)\n",
            "C:\\Users\\mrshu\\Anaconda3\\lib\\site-packages\\sklearn\\metrics\\scorer.py:100: DeprecationWarning: Scoring method mean_squared_error was renamed to neg_mean_squared_error in version 0.18 and will be removed in 0.20.\n",
            "  sample_weight=sample_weight)\n",
            "C:\\Users\\mrshu\\Anaconda3\\lib\\site-packages\\sklearn\\metrics\\scorer.py:100: DeprecationWarning: Scoring method mean_squared_error was renamed to neg_mean_squared_error in version 0.18 and will be removed in 0.20.\n",
            "  sample_weight=sample_weight)\n",
            "C:\\Users\\mrshu\\Anaconda3\\lib\\site-packages\\sklearn\\metrics\\scorer.py:100: DeprecationWarning: Scoring method mean_squared_error was renamed to neg_mean_squared_error in version 0.18 and will be removed in 0.20.\n",
            "  sample_weight=sample_weight)\n",
            "C:\\Users\\mrshu\\Anaconda3\\lib\\site-packages\\sklearn\\metrics\\scorer.py:100: DeprecationWarning: Scoring method mean_squared_error was renamed to neg_mean_squared_error in version 0.18 and will be removed in 0.20.\n",
            "  sample_weight=sample_weight)\n",
            "C:\\Users\\mrshu\\Anaconda3\\lib\\site-packages\\sklearn\\metrics\\scorer.py:100: DeprecationWarning: Scoring method mean_squared_error was renamed to neg_mean_squared_error in version 0.18 and will be removed in 0.20.\n",
            "  sample_weight=sample_weight)\n",
            "C:\\Users\\mrshu\\Anaconda3\\lib\\site-packages\\sklearn\\metrics\\scorer.py:100: DeprecationWarning: Scoring method mean_squared_error was renamed to neg_mean_squared_error in version 0.18 and will be removed in 0.20.\n",
            "  sample_weight=sample_weight)\n",
            "C:\\Users\\mrshu\\Anaconda3\\lib\\site-packages\\sklearn\\metrics\\scorer.py:100: DeprecationWarning: Scoring method mean_squared_error was renamed to neg_mean_squared_error in version 0.18 and will be removed in 0.20.\n",
            "  sample_weight=sample_weight)\n",
            "C:\\Users\\mrshu\\Anaconda3\\lib\\site-packages\\sklearn\\metrics\\scorer.py:100: DeprecationWarning: Scoring method mean_squared_error was renamed to neg_mean_squared_error in version 0.18 and will be removed in 0.20.\n",
            "  sample_weight=sample_weight)\n"
          ],
          "name": "stderr"
        }
      ]
    },
    {
      "cell_type": "code",
      "metadata": {
        "_uuid": "85a3427abefe8eeee590aa2c05686f4e27d46af5",
        "id": "cVME0iCfNq0g",
        "colab_type": "code",
        "outputId": "bfd57096-1bf5-443f-ddc4-01d6853e63c6",
        "colab": {}
      },
      "source": [
        "# changing to misclassification error\n",
        "MSE = [1 - x for x in cv_scores]\n",
        "\n",
        "plt.figure()\n",
        "plt.figure(figsize=(15,10))\n",
        "plt.title('The optimal number of neighbors', fontsize=20, fontweight='bold')\n",
        "plt.xlabel('Number of Neighbors K', fontsize=15)\n",
        "plt.ylabel('Misclassification Error', fontsize=15)\n",
        "sns.set_style(\"whitegrid\")\n",
        "plt.plot(k_list, MSE)\n",
        "\n",
        "plt.show()"
      ],
      "execution_count": 0,
      "outputs": [
        {
          "output_type": "display_data",
          "data": {
            "text/plain": [
              "<Figure size 432x288 with 0 Axes>"
            ]
          },
          "metadata": {
            "tags": []
          }
        },
        {
          "output_type": "display_data",
          "data": {
            "image/png": "[encoded data removed]",
            "text/plain": [
              "<Figure size 1080x720 with 1 Axes>"
            ]
          },
          "metadata": {
            "tags": [],
            "needs_background": "light"
          }
        }
      ]
    },
    {
      "cell_type": "code",
      "metadata": {
        "_uuid": "27322dbbcd27e44c70ec16be517a7bacdc524d0e",
        "id": "Jfo96tE7Nq0k",
        "colab_type": "code",
        "outputId": "bf48d807-2381-43d9-aa9f-07006e081a95",
        "colab": {}
      },
      "source": [
        "# finding best k\n",
        "best_k = k_list[MSE.index(min(MSE))]\n",
        "print(\"The optimal number of neighbors is %d.\" % best_k)"
      ],
      "execution_count": 0,
      "outputs": [
        {
          "output_type": "stream",
          "text": [
            "The optimal number of neighbors is 9.\n"
          ],
          "name": "stdout"
        }
      ]
    }
  ]
}